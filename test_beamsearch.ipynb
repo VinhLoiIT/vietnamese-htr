{
 "cells": [
  {
   "cell_type": "code",
   "execution_count": 1,
   "metadata": {},
   "outputs": [],
   "source": [
    "import torch\n",
    "import torch.nn\n",
    "import torch.nn.functional as F"
   ]
  },
  {
   "cell_type": "code",
   "execution_count": 2,
   "metadata": {},
   "outputs": [],
   "source": [
    "from model.encoder import Encoder\n",
    "from model.decoder import Decoder"
   ]
  },
  {
   "cell_type": "code",
   "execution_count": 3,
   "metadata": {},
   "outputs": [],
   "source": [
    "device = 'cuda' if torch.cuda.is_available() else 'cpu'\n",
    "# device = 'cpu'"
   ]
  },
  {
   "cell_type": "code",
   "execution_count": 4,
   "metadata": {},
   "outputs": [],
   "source": [
    "import os\n",
    "%matplotlib inline\n",
    "import matplotlib.pyplot as plt\n",
    "import skimage\n",
    "from matplotlib import cm\n",
    "import numpy as np\n",
    "from dataset import get_dataset, collate_fn, vocab_size, int2char, char2int, SOS_CHAR, EOS_CHAR\n",
    "from torch.utils.data import DataLoader\n",
    "from torchvision import transforms\n",
    "from utils import ScaleImageByHeight, PaddingWidth, AverageMeter, accuracy"
   ]
  },
  {
   "cell_type": "code",
   "execution_count": 5,
   "metadata": {},
   "outputs": [
    {
     "data": {
      "text/plain": [
       "10"
      ]
     },
     "execution_count": 5,
     "metadata": {},
     "output_type": "execute_result"
    }
   ],
   "source": [
    "char2int[EOS_CHAR]"
   ]
  },
  {
   "cell_type": "code",
   "execution_count": 6,
   "metadata": {},
   "outputs": [],
   "source": [
    "config = {\n",
    "    'batch_size': 32,\n",
    "    'hidden_size': 256,\n",
    "    'attn_size': 256,\n",
    "    'max_length': 10,\n",
    "    'n_epochs_decrease_lr': 15,\n",
    "    'start_learning_rate': 1e-5,  # NOTE: paper start with 1e-8\n",
    "    'end_learning_rate': 1e-11,\n",
    "    'depth': 4,\n",
    "    'n_blocks': 3,\n",
    "    'growth_rate': 96,\n",
    "}"
   ]
  },
  {
   "cell_type": "code",
   "execution_count": 7,
   "metadata": {},
   "outputs": [],
   "source": [
    "MAX_LENGTH = config['max_length']\n",
    "CKPT_DIR = './ckpt'"
   ]
  },
  {
   "cell_type": "code",
   "execution_count": 8,
   "metadata": {},
   "outputs": [],
   "source": [
    "info = torch.load(os.path.join(CKPT_DIR, 'BEST_weights2.pt'), map_location='cpu')"
   ]
  },
  {
   "cell_type": "code",
   "execution_count": 9,
   "metadata": {},
   "outputs": [],
   "source": [
    "image_transform = transforms.Compose([\n",
    "    transforms.Grayscale(3),\n",
    "    ScaleImageByHeight(64),\n",
    "    PaddingWidth(64),\n",
    "    transforms.ToTensor(),\n",
    "])"
   ]
  },
  {
   "cell_type": "code",
   "execution_count": 10,
   "metadata": {},
   "outputs": [],
   "source": [
    "test_data = get_dataset('test', image_transform)\n",
    "test_loader = DataLoader(test_data, batch_size=config['batch_size'], shuffle=False, collate_fn=collate_fn, num_workers=2)"
   ]
  },
  {
   "cell_type": "code",
   "execution_count": 11,
   "metadata": {},
   "outputs": [],
   "source": [
    "encoder = Encoder(config['depth'], config['n_blocks'], config['growth_rate'])\n",
    "if info['encoder_state'] is not None:\n",
    "    encoder.load_state_dict(info['encoder_state'])"
   ]
  },
  {
   "cell_type": "code",
   "execution_count": 12,
   "metadata": {},
   "outputs": [],
   "source": [
    "decoder = Decoder(encoder.n_features,\n",
    "                  config['hidden_size'], vocab_size, config['attn_size'])\n",
    "if info['decoder_state'] is not None:\n",
    "    decoder.load_state_dict(info['decoder_state'])"
   ]
  },
  {
   "cell_type": "code",
   "execution_count": 13,
   "metadata": {},
   "outputs": [],
   "source": [
    "encoder = encoder.to(device)\n",
    "decoder = decoder.to(device)"
   ]
  },
  {
   "cell_type": "code",
   "execution_count": 14,
   "metadata": {},
   "outputs": [],
   "source": [
    "encoder.eval()\n",
    "decoder.eval();"
   ]
  },
  {
   "cell_type": "code",
   "execution_count": 15,
   "metadata": {},
   "outputs": [],
   "source": [
    "test_iter = iter(test_loader)"
   ]
  },
  {
   "cell_type": "code",
   "execution_count": 16,
   "metadata": {},
   "outputs": [],
   "source": [
    "imgs, targets, targets_onehot, lengths = next(test_iter)"
   ]
  },
  {
   "cell_type": "code",
   "execution_count": 17,
   "metadata": {},
   "outputs": [
    {
     "data": {
      "text/plain": [
       "torch.Size([32, 3, 64, 198])"
      ]
     },
     "execution_count": 17,
     "metadata": {},
     "output_type": "execute_result"
    }
   ],
   "source": [
    "imgs.size()"
   ]
  },
  {
   "cell_type": "code",
   "execution_count": 18,
   "metadata": {},
   "outputs": [
    {
     "data": {
      "text/plain": [
       "<matplotlib.image.AxesImage at 0x7f80202607b8>"
      ]
     },
     "execution_count": 18,
     "metadata": {},
     "output_type": "execute_result"
    },
    {
     "data": {
      "image/png": "[encoded data removed]",
      "text/plain": [
       "<Figure size 432x288 with 1 Axes>"
      ]
     },
     "metadata": {
      "needs_background": "light"
     },
     "output_type": "display_data"
    }
   ],
   "source": [
    "plt.imshow(imgs[0].squeeze().permute(1,2,0))"
   ]
  },
  {
   "cell_type": "code",
   "execution_count": 19,
   "metadata": {},
   "outputs": [
    {
     "data": {
      "text/plain": [
       "torch.Size([8, 32, 1])"
      ]
     },
     "execution_count": 19,
     "metadata": {},
     "output_type": "execute_result"
    }
   ],
   "source": [
    "targets.size()"
   ]
  },
  {
   "cell_type": "code",
   "execution_count": 20,
   "metadata": {},
   "outputs": [
    {
     "data": {
      "text/plain": [
       "'<start>thương<end>'"
      ]
     },
     "execution_count": 20,
     "metadata": {},
     "output_type": "execute_result"
    }
   ],
   "source": [
    "''.join([int2char[x.item()] for x in targets[:,0].squeeze()])"
   ]
  },
  {
   "cell_type": "code",
   "execution_count": 21,
   "metadata": {},
   "outputs": [],
   "source": [
    "start_input = torch.zeros(1, config['batch_size'], vocab_size)\n",
    "start_input[0,:, char2int[SOS_CHAR]] = 1\n",
    "start_input = start_input.to(device)"
   ]
  },
  {
   "cell_type": "code",
   "execution_count": 22,
   "metadata": {},
   "outputs": [
    {
     "data": {
      "text/plain": [
       "tensor([0., 0., 0., 0., 0., 0., 0., 0., 0., 0., 0., 0., 1., 0., 0., 0., 0., 0.,\n",
       "        0., 0., 0., 0., 0., 0., 0., 0., 0., 0., 0., 0., 0., 0., 0., 0., 0., 0.,\n",
       "        0., 0., 0., 0., 0., 0., 0., 0., 0., 0., 0., 0., 0., 0., 0., 0., 0., 0.,\n",
       "        0., 0., 0., 0., 0., 0., 0., 0., 0., 0., 0., 0., 0., 0., 0., 0., 0., 0.,\n",
       "        0., 0., 0., 0., 0., 0., 0., 0., 0., 0., 0., 0., 0., 0., 0., 0., 0., 0.,\n",
       "        0., 0., 0., 0., 0., 0., 0., 0., 0., 0., 0., 0., 0., 0., 0., 0., 0., 0.,\n",
       "        0., 0., 0., 0., 0., 0., 0., 0., 0., 0., 0., 0., 0., 0., 0., 0., 0., 0.,\n",
       "        0., 0., 0., 0., 0., 0., 0., 0., 0., 0., 0., 0., 0., 0., 0., 0., 0., 0.,\n",
       "        0., 0., 0., 0., 0., 0.])"
      ]
     },
     "execution_count": 22,
     "metadata": {},
     "output_type": "execute_result"
    }
   ],
   "source": [
    "start_input[0][1]"
   ]
  },
  {
   "cell_type": "code",
   "execution_count": 23,
   "metadata": {},
   "outputs": [],
   "source": [
    "with torch.no_grad():\n",
    "#     for i, (imgs, targets, targets_onehot, lengths) in enumerate(val_loader):\n",
    "    imgs = imgs.to(device)\n",
    "    img_features = encoder(imgs)\n",
    "    outputs, weights = decoder.greedy(img_features, start_input)"
   ]
  },
  {
   "cell_type": "code",
   "execution_count": 24,
   "metadata": {},
   "outputs": [
    {
     "data": {
      "text/plain": [
       "torch.Size([10, 32, 150])"
      ]
     },
     "execution_count": 24,
     "metadata": {},
     "output_type": "execute_result"
    }
   ],
   "source": [
    "outputs.size()"
   ]
  },
  {
   "cell_type": "code",
   "execution_count": 25,
   "metadata": {},
   "outputs": [
    {
     "data": {
      "text/plain": [
       "tensor([[[ 1.0110,  0.2254,  0.9469,  ..., -2.1018, -1.6080, -1.8388],\n",
       "         [ 0.7959,  0.2056,  0.4836,  ..., -1.8986, -1.6150, -1.6749],\n",
       "         [-0.0563, -0.0799,  0.5224,  ..., -1.5937, -1.5112, -1.6237],\n",
       "         ...,\n",
       "         [ 0.8817,  0.2908,  0.6819,  ..., -1.9380, -1.6017, -1.6673],\n",
       "         [ 0.5098,  0.6124,  0.9090,  ..., -1.9300, -1.5843, -1.7969],\n",
       "         [ 0.9420,  0.3022,  0.7105,  ..., -1.9758, -1.6601, -1.6571]],\n",
       "\n",
       "        [[-1.8145,  1.7662,  1.0183,  ..., -2.4866, -2.0483, -2.8039],\n",
       "         [-2.6930,  0.3823, -0.4094,  ..., -2.7267, -2.8701, -3.4035],\n",
       "         [-0.6659,  2.3314,  1.0918,  ..., -2.0502, -2.3266, -2.4593],\n",
       "         ...,\n",
       "         [-1.1195,  3.0901,  1.2841,  ..., -0.1035, -0.7827, -1.1664],\n",
       "         [-1.2306,  1.4710,  3.1208,  ..., -0.0348, -0.5162, -0.5971],\n",
       "         [ 0.3182,  5.9701,  6.1283,  ..., -1.0217, -1.3455, -1.3291]],\n",
       "\n",
       "        [[-2.9117, -1.2693, -2.1463,  ..., -2.9695, -2.3703, -2.5103],\n",
       "         [-0.9312, -1.6187, -2.2954,  ..., -2.9662, -2.8539, -2.9665],\n",
       "         [-2.5668, -0.6437, -2.4165,  ..., -1.6725, -2.3155, -2.6019],\n",
       "         ...,\n",
       "         [-0.3045, -0.7313,  0.2136,  ...,  1.5968,  0.0768, -0.7008],\n",
       "         [-0.5749,  0.6085,  1.4822,  ..., -1.6064, -1.7063, -2.4585],\n",
       "         [ 1.5727,  2.2785,  2.7462,  ..., -1.8336, -1.6669, -1.9655]],\n",
       "\n",
       "        ...,\n",
       "\n",
       "        [[-0.0336, -0.1788, -0.1536,  ..., -1.7711, -1.8850, -1.9911],\n",
       "         [-1.1706, -0.2925,  0.1996,  ..., -1.8649, -1.9624, -2.7295],\n",
       "         [-0.6483,  0.1121,  0.3677,  ..., -2.0377, -2.1541, -2.5104],\n",
       "         ...,\n",
       "         [ 0.6389,  0.6754,  1.4840,  ..., -1.8557, -1.6867, -2.1959],\n",
       "         [ 0.1891,  0.8549,  1.4585,  ..., -1.8757, -1.7410, -2.2534],\n",
       "         [ 0.4031,  0.9787,  1.4555,  ..., -1.8968, -1.6467, -2.1074]],\n",
       "\n",
       "        [[ 0.5960, -0.2775,  0.6202,  ..., -1.5995, -1.4314, -1.6223],\n",
       "         [-0.3718,  0.0501,  0.3574,  ..., -2.0547, -2.0865, -2.4446],\n",
       "         [-0.6635,  0.3205,  0.6058,  ..., -1.8827, -1.9111, -2.4608],\n",
       "         ...,\n",
       "         [ 0.6409,  0.6777,  1.4718,  ..., -1.8648, -1.7003, -2.2122],\n",
       "         [ 0.1889,  0.8514,  1.4604,  ..., -1.8753, -1.7423, -2.2568],\n",
       "         [ 0.4015,  0.9706,  1.4527,  ..., -1.8966, -1.6520, -2.1189]],\n",
       "\n",
       "        [[ 0.4622, -0.0973,  1.0406,  ..., -1.7150, -1.3976, -1.8440],\n",
       "         [-0.3247,  0.0959,  0.6114,  ..., -2.0107, -2.0090, -2.4203],\n",
       "         [-0.4738,  0.3173,  0.4984,  ..., -1.9166, -1.9874, -2.4386],\n",
       "         ...,\n",
       "         [ 0.6361,  0.6674,  1.4744,  ..., -1.8675, -1.7025, -2.2139],\n",
       "         [ 0.1884,  0.8494,  1.4597,  ..., -1.8752, -1.7437, -2.2591],\n",
       "         [ 0.4003,  0.9643,  1.4506,  ..., -1.8962, -1.6543, -2.1246]]])"
      ]
     },
     "execution_count": 25,
     "metadata": {},
     "output_type": "execute_result"
    }
   ],
   "source": [
    "outputs"
   ]
  },
  {
   "cell_type": "code",
   "execution_count": 26,
   "metadata": {
    "scrolled": true
   },
   "outputs": [
    {
     "data": {
      "text/plain": [
       "torch.return_types.topk(\n",
       "values=tensor([[13.7252,  6.1371],\n",
       "        [16.0246,  6.2583],\n",
       "        [14.9448,  6.4116],\n",
       "        [16.2151,  6.1102],\n",
       "        [15.1700,  6.4403],\n",
       "        [15.8822,  6.3598],\n",
       "        [15.7985,  6.1489],\n",
       "        [16.0226,  6.2141],\n",
       "        [15.7436,  6.1056],\n",
       "        [15.0835,  6.1390],\n",
       "        [15.5650,  6.1915],\n",
       "        [15.7368,  6.2451],\n",
       "        [14.5944,  6.1062],\n",
       "        [15.8449,  6.3149],\n",
       "        [16.1575,  6.1518],\n",
       "        [15.9303,  6.2910],\n",
       "        [15.3526,  6.5226],\n",
       "        [14.2780,  6.4318],\n",
       "        [15.2043,  6.3518],\n",
       "        [15.8544,  6.2389],\n",
       "        [15.8314,  6.2564],\n",
       "        [15.9513,  6.2158],\n",
       "        [15.9150,  6.0990],\n",
       "        [13.3942,  5.8771],\n",
       "        [15.9914,  6.1830],\n",
       "        [11.4708,  8.0378],\n",
       "        [14.2187,  6.9744],\n",
       "        [11.1039,  7.1362],\n",
       "        [16.0320,  6.1780],\n",
       "        [15.2953,  6.3331],\n",
       "        [12.5810,  6.5578],\n",
       "        [15.7787,  6.2445]]),\n",
       "indices=tensor([[12, 57],\n",
       "        [12, 57],\n",
       "        [12, 57],\n",
       "        [12, 57],\n",
       "        [12, 57],\n",
       "        [12, 57],\n",
       "        [12, 57],\n",
       "        [12, 57],\n",
       "        [12, 57],\n",
       "        [12, 57],\n",
       "        [12, 57],\n",
       "        [12, 57],\n",
       "        [12, 57],\n",
       "        [12, 57],\n",
       "        [12, 57],\n",
       "        [12, 57],\n",
       "        [12, 57],\n",
       "        [12, 51],\n",
       "        [12, 57],\n",
       "        [12, 57],\n",
       "        [12, 57],\n",
       "        [12, 57],\n",
       "        [12, 57],\n",
       "        [12, 57],\n",
       "        [12, 57],\n",
       "        [12, 51],\n",
       "        [12, 51],\n",
       "        [12, 57],\n",
       "        [12, 57],\n",
       "        [12, 57],\n",
       "        [12, 57],\n",
       "        [12, 57]]))"
      ]
     },
     "execution_count": 26,
     "metadata": {},
     "output_type": "execute_result"
    }
   ],
   "source": [
    "outputs[0].topk(2, -1)"
   ]
  },
  {
   "cell_type": "code",
   "execution_count": 27,
   "metadata": {},
   "outputs": [
    {
     "name": "stdout",
     "output_type": "stream",
     "text": [
      "x tensor([[ 1,  2,  9, 87],\n",
      "        [ 6, 32,  8,  1],\n",
      "        [ 4,  6,  7,  2],\n",
      "        [ 3,  6,  2,  6]])\n",
      "values tensor([[87,  9],\n",
      "        [32,  8],\n",
      "        [ 7,  6],\n",
      "        [ 6,  6]])\n",
      "indices tensor([[3, 2],\n",
      "        [1, 2],\n",
      "        [2, 1],\n",
      "        [1, 3]])\n"
     ]
    }
   ],
   "source": [
    "x = torch.tensor([[1, 2,9,87],[6, 32,8,1],[4,6,7,2],[3,6,2,6]])\n",
    "print(\"x\",x)\n",
    "values, indices = torch.topk(x,k=2,dim=-1)\n",
    "print(\"values\",values)\n",
    "print(\"indices\",indices)"
   ]
  },
  {
   "cell_type": "code",
   "execution_count": 28,
   "metadata": {},
   "outputs": [],
   "source": [
    "_, index = outputs.topk(1, -1)"
   ]
  },
  {
   "cell_type": "code",
   "execution_count": 29,
   "metadata": {},
   "outputs": [
    {
     "data": {
      "text/plain": [
       "torch.Size([10, 32, 1])"
      ]
     },
     "execution_count": 29,
     "metadata": {},
     "output_type": "execute_result"
    }
   ],
   "source": [
    "index.size()"
   ]
  },
  {
   "cell_type": "code",
   "execution_count": 30,
   "metadata": {},
   "outputs": [
    {
     "data": {
      "text/plain": [
       "[['<start>', 't', 'h', 'ư', 'a', 'n', 'g', '<end>'],\n",
       " ['<start>', 't', 'u', 'y', 'ệ', 'n', '<end>'],\n",
       " ['<start>', 'T', 'h', 'à', 'n', 'h', '<end>'],\n",
       " ['<start>', 'n', 'g', 'ư', 'ờ', 'i', '<end>'],\n",
       " ['<start>', 't', 'ì', 'n', 'h', '<end>'],\n",
       " ['<start>', 'T', 'i', 'ê', 'n', '<end>'],\n",
       " ['<start>', 'L', 'o', 'n', 'g', '<end>'],\n",
       " ['<start>', 'T', 'i', 'ê', 'n', '<end>'],\n",
       " ['<start>', 'l', 'o', 'n', 'g', '<end>'],\n",
       " ['<start>', 'c', 'h', 'â', 'u', '<end>'],\n",
       " ['<start>', 'S', 'n', 'n', '<end>'],\n",
       " ['<start>', 'g', 'i', 'à', '<end>'],\n",
       " ['<start>', 'n', 'ă', 'm', '<end>'],\n",
       " ['<start>', 'l', 'à', 'm', '<end>'],\n",
       " ['<start>', 'n', 'h', 'à', '<end>'],\n",
       " ['<start>', 'T', 'ô', 'i', '<end>'],\n",
       " ['<start>', 'g', 'á', 'p', '<end>'],\n",
       " ['<start>', 'ô', 'n', 'g', '<end>'],\n",
       " ['<start>', 'V', 'ă', 'n', '<end>'],\n",
       " ['<start>', 'T', 'á', 'm', '<end>'],\n",
       " ['<start>', 'n', 'g', 'ụ', '<end>'],\n",
       " ['<start>', 'B', 'ế', 'n', '<end>'],\n",
       " ['<start>', 'T', 'r', 'a', '<end>'],\n",
       " ['<start>', '3', '0', '<end>'],\n",
       " ['<start>', 'l', 'ể', '<end>'],\n",
       " ['<start>', 'a', 'n', '<end>'],\n",
       " ['<start>', '0', 'n', '<end>'],\n",
       " ['<start>', 'ấ', 'p', '<end>'],\n",
       " ['<start>', 'x', 'ã', '<end>'],\n",
       " ['<start>', 'l', 'à', '<end>'],\n",
       " ['<start>', 'ở', '<end>'],\n",
       " ['<start>', '2', '<end>']]"
      ]
     },
     "execution_count": 30,
     "metadata": {},
     "output_type": "execute_result"
    }
   ],
   "source": [
    "predicts = index.squeeze().transpose(0, 1) # [B, T]\n",
    "predicts_str = []\n",
    "for predict in predicts:\n",
    "    s = [int2char[x.item()] for x in predict]\n",
    "    try:\n",
    "        eos_index = s.index(EOS_CHAR) + 1\n",
    "    except ValueError:\n",
    "        eos_index = len(s)\n",
    "    predicts_str.append(s[:eos_index])\n",
    "\n",
    "predicts_str"
   ]
  },
  {
   "cell_type": "code",
   "execution_count": 31,
   "metadata": {},
   "outputs": [
    {
     "data": {
      "text/plain": [
       "tensor([[[3.0052e-06, 1.3699e-06, 2.8186e-06,  ..., 1.3367e-07,\n",
       "          2.1901e-07, 1.7388e-07],\n",
       "         [4.1958e-06, 1.5062e-04, 7.1298e-05,  ..., 2.1425e-06,\n",
       "          3.3210e-06, 1.5600e-06],\n",
       "         [4.6762e-07, 2.4165e-06, 1.0053e-06,  ..., 4.4137e-07,\n",
       "          8.0358e-07, 6.9861e-07],\n",
       "         ...,\n",
       "         [7.6701e-05, 6.6332e-05, 6.8027e-05,  ..., 1.3497e-05,\n",
       "          1.2043e-05, 1.0831e-05],\n",
       "         [1.9116e-05, 7.9813e-06, 1.9586e-05,  ..., 2.1277e-06,\n",
       "          2.5173e-06, 2.0798e-06],\n",
       "         [8.1711e-06, 4.6695e-06, 1.4570e-05,  ..., 9.2624e-07,\n",
       "          1.2722e-06, 8.1414e-07]],\n",
       "\n",
       "        [[2.4333e-07, 1.3485e-07, 1.7806e-07,  ..., 1.6444e-08,\n",
       "          2.1837e-08, 2.0567e-08],\n",
       "         [4.5925e-06, 9.9464e-05, 4.5064e-05,  ..., 4.4406e-06,\n",
       "          3.8473e-06, 2.2568e-06],\n",
       "         [3.3305e-05, 1.6747e-05, 8.5119e-06,  ..., 4.3521e-06,\n",
       "          4.8695e-06, 4.3509e-06],\n",
       "         ...,\n",
       "         [5.7110e-07, 1.3742e-06, 2.2478e-06,  ..., 2.8522e-07,\n",
       "          2.5871e-07, 1.2013e-07],\n",
       "         [5.3656e-07, 8.1818e-07, 1.1125e-06,  ..., 9.9710e-08,\n",
       "          9.6589e-08, 6.7515e-08],\n",
       "         [5.1454e-07, 7.8361e-07, 1.3121e-06,  ..., 9.5324e-08,\n",
       "          9.5485e-08, 6.3287e-08]],\n",
       "\n",
       "        [[3.0547e-07, 2.9834e-07, 5.4487e-07,  ..., 6.5659e-08,\n",
       "          7.1305e-08, 6.3718e-08],\n",
       "         [2.3971e-05, 4.8019e-04, 1.3902e-04,  ..., 6.0051e-06,\n",
       "          4.5550e-06, 3.9890e-06],\n",
       "         [2.4425e-06, 1.6711e-05, 2.8387e-06,  ..., 5.9730e-06,\n",
       "          3.1403e-06, 2.3582e-06],\n",
       "         ...,\n",
       "         [1.2347e-06, 2.6412e-06, 3.4106e-06,  ..., 3.0772e-07,\n",
       "          2.7391e-07, 1.9182e-07],\n",
       "         [9.1264e-07, 2.4414e-06, 3.2475e-06,  ..., 2.6966e-07,\n",
       "          2.6209e-07, 1.5126e-07],\n",
       "         [8.6157e-07, 1.9004e-06, 2.2778e-06,  ..., 2.0356e-07,\n",
       "          1.8964e-07, 1.2078e-07]],\n",
       "\n",
       "        ...,\n",
       "\n",
       "        [[5.4974e-07, 3.0446e-07, 4.5019e-07,  ..., 3.2775e-08,\n",
       "          4.5879e-08, 4.2967e-08],\n",
       "         [3.3804e-05, 2.2760e-03, 3.7398e-04,  ..., 9.3371e-05,\n",
       "          4.7342e-05, 3.2255e-05],\n",
       "         [8.2216e-05, 5.3656e-05, 1.3802e-04,  ..., 5.5037e-04,\n",
       "          1.2038e-04, 5.5315e-05],\n",
       "         ...,\n",
       "         [1.0515e-06, 1.0905e-06, 2.4480e-06,  ..., 8.6772e-08,\n",
       "          1.0275e-07, 6.1749e-08],\n",
       "         [1.0360e-06, 1.0748e-06, 2.3780e-06,  ..., 8.4551e-08,\n",
       "          9.9670e-08, 5.9737e-08],\n",
       "         [1.0242e-06, 1.0568e-06, 2.3684e-06,  ..., 8.3772e-08,\n",
       "          9.8794e-08, 5.9242e-08]],\n",
       "\n",
       "        [[5.7011e-06, 6.3167e-06, 8.4984e-06,  ..., 4.9702e-07,\n",
       "          7.0227e-07, 5.6776e-07],\n",
       "         [6.6658e-05, 9.9348e-04, 5.1719e-03,  ..., 2.2039e-04,\n",
       "          1.3618e-04, 1.2560e-04],\n",
       "         [7.4390e-06, 2.4293e-05, 5.8198e-05,  ..., 2.6520e-06,\n",
       "          2.3998e-06, 1.1311e-06],\n",
       "         ...,\n",
       "         [6.7369e-07, 1.3111e-06, 2.3975e-06,  ..., 8.5453e-08,\n",
       "          9.7773e-08, 5.8574e-08],\n",
       "         [6.7321e-07, 1.3058e-06, 2.4009e-06,  ..., 8.5440e-08,\n",
       "          9.7595e-08, 5.8345e-08],\n",
       "         [6.7215e-07, 1.3018e-06, 2.3966e-06,  ..., 8.5366e-08,\n",
       "          9.7356e-08, 5.8151e-08]],\n",
       "\n",
       "        [[3.6014e-07, 1.8993e-07, 2.8570e-07,  ..., 1.9465e-08,\n",
       "          2.6691e-08, 2.6773e-08],\n",
       "         [1.1503e-03, 3.2763e-01, 3.8382e-01,  ..., 3.0122e-04,\n",
       "          2.1790e-04, 2.2152e-04],\n",
       "         [2.3578e-04, 4.7759e-04, 7.6237e-04,  ..., 7.8194e-06,\n",
       "          9.2375e-06, 6.8531e-06],\n",
       "         ...,\n",
       "         [1.2997e-06, 2.3111e-06, 3.7230e-06,  ..., 1.3032e-07,\n",
       "          1.6734e-07, 1.0557e-07],\n",
       "         [1.2637e-06, 2.2327e-06, 3.6157e-06,  ..., 1.2694e-07,\n",
       "          1.6213e-07, 1.0164e-07],\n",
       "         [1.2458e-06, 2.1896e-06, 3.5609e-06,  ..., 1.2534e-07,\n",
       "          1.5964e-07, 9.9740e-08]]])"
      ]
     },
     "execution_count": 31,
     "metadata": {},
     "output_type": "execute_result"
    }
   ],
   "source": [
    "outputs2 = torch.nn.functional.softmax(outputs.transpose(0,1), dim=2)\n",
    "outputs2"
   ]
  },
  {
   "cell_type": "code",
   "execution_count": 32,
   "metadata": {},
   "outputs": [],
   "source": [
    "# beam search\n",
    "def beam_search_decoder(data, k=3):\n",
    "    res = []\n",
    "    sequences = [[list(), 1.0]]\n",
    "    for row in data:\n",
    "        all_candidates = list()\n",
    "        for i in range(len(sequences)):\n",
    "            seq, score = sequences[i]\n",
    "            for j in range(len(row)):\n",
    "                candidate = [seq + [j], score * -torch.log(row[j])]\n",
    "                all_candidates.append(candidate)\n",
    "        ordered = sorted(all_candidates, key=lambda tup:tup[1])\n",
    "        sequences = ordered[:k]\n",
    "        \n",
    "        res += [x for x in sequences if x[0][-1] == char2int[EOS_CHAR]]\n",
    "        sequences = [x for x in sequences if x[0][-1] != char2int[EOS_CHAR]]\n",
    "        if len(res)==3:\n",
    "            break\n",
    "    if len(res)==0:\n",
    "        return sequences[0][0]\n",
    "    return sorted(res, key=lambda tup:tup[1])[0][0]"
   ]
  },
  {
   "cell_type": "code",
   "execution_count": 33,
   "metadata": {},
   "outputs": [
    {
     "data": {
      "text/plain": [
       "[['<start>', 't', 'h', 'ư', 'a', 'n', 'g', '<end>'],\n",
       " ['<start>', 't', 'u', 'y', 'ệ', 'n', '<end>'],\n",
       " ['<start>', 'T', 'h', 'à', 'n', 'h', '<end>'],\n",
       " ['<start>', 'n', 'g', 'ư', 'ờ', 'i', '<end>'],\n",
       " ['<start>', 't', 'ì', 'n', 'h', '<end>'],\n",
       " ['<start>', 'T', 'i', 'ê', 'n', '<end>'],\n",
       " ['<start>', 'L', 'o', 'n', 'g', '<end>'],\n",
       " ['<start>', 'T', 'i', 'ê', 'n', '<end>'],\n",
       " ['<start>', 'l', 'o', 'n', 'g', '<end>'],\n",
       " ['<start>', 'c', 'h', 'â', 'u', '<end>'],\n",
       " ['<start>', 'S', 'n', 'n', '<end>'],\n",
       " ['<start>', 'g', 'i', 'à', '<end>'],\n",
       " ['<start>', 'n', 'ă', 'm', '<end>'],\n",
       " ['<start>', 'l', 'à', 'm', '<end>'],\n",
       " ['<start>', 'n', 'h', 'à', '<end>'],\n",
       " ['<start>', 'T', 'ô', 'i', '<end>'],\n",
       " ['<start>', 'g', 'á', 'p', '<end>'],\n",
       " ['<start>', 'ô', 'n', 'g', '<end>'],\n",
       " ['<start>', 'V', 'ă', 'n', '<end>'],\n",
       " ['<start>', 'T', 'á', 'm', '<end>'],\n",
       " ['<start>', 'n', 'g', 'ụ', '<end>'],\n",
       " ['<start>', 'B', 'ế', 'n', '<end>'],\n",
       " ['<start>', 'T', 'r', 'a', '<end>'],\n",
       " ['<start>', '3', '0', '<end>'],\n",
       " ['<start>', 'l', 'ể', '<end>'],\n",
       " ['<start>', 'a', 'n', '<end>'],\n",
       " ['<start>', '0', 'n', '<end>'],\n",
       " ['<start>', 'ấ', 'p', '<end>'],\n",
       " ['<start>', 'x', 'ã', '<end>'],\n",
       " ['<start>', 'l', 'à', '<end>'],\n",
       " ['<start>', 'ở', '<end>'],\n",
       " ['<start>', '2', '<end>']]"
      ]
     },
     "execution_count": 33,
     "metadata": {},
     "output_type": "execute_result"
    }
   ],
   "source": [
    "predicts = [beam_search_decoder(o) for o in outputs2]\n",
    "predicts_str = []\n",
    "for predict in predicts:\n",
    "    s = [int2char[x] for x in predict]\n",
    "    try:\n",
    "        eos_index = s.index(EOS_CHAR) + 1\n",
    "    except ValueError:\n",
    "        eos_index = len(s)\n",
    "    predicts_str.append(s[:eos_index])\n",
    "\n",
    "predicts_str"
   ]
  },
  {
   "cell_type": "code",
   "execution_count": 34,
   "metadata": {},
   "outputs": [
    {
     "data": {
      "text/plain": [
       "torch.Size([10, 32, 48])"
      ]
     },
     "execution_count": 34,
     "metadata": {},
     "output_type": "execute_result"
    }
   ],
   "source": [
    "weights.size()"
   ]
  },
  {
   "cell_type": "code",
   "execution_count": 35,
   "metadata": {},
   "outputs": [
    {
     "name": "stdout",
     "output_type": "stream",
     "text": [
      "64 198\n"
     ]
    }
   ],
   "source": [
    "img_rows, img_cols = imgs.size(2), imgs.size(3)\n",
    "print(img_rows, img_cols)"
   ]
  },
  {
   "cell_type": "code",
   "execution_count": 36,
   "metadata": {},
   "outputs": [
    {
     "data": {
      "text/plain": [
       "32"
      ]
     },
     "execution_count": 36,
     "metadata": {},
     "output_type": "execute_result"
    }
   ],
   "source": [
    "length = len(predicts)\n",
    "length"
   ]
  },
  {
   "cell_type": "markdown",
   "metadata": {},
   "source": [
    "# Visualize a sample"
   ]
  },
  {
   "cell_type": "code",
   "execution_count": 37,
   "metadata": {},
   "outputs": [
    {
     "data": {
      "image/png": "[encoded data removed]",
      "text/plain": [
       "<Figure size 1080x1080 with 8 Axes>"
      ]
     },
     "metadata": {
      "needs_background": "light"
     },
     "output_type": "display_data"
    }
   ],
   "source": [
    "sample_index = 0\n",
    "sample_image, sample_predict, sample_weigth = imgs[sample_index], predicts_str[sample_index], weights[:, [sample_index]]\n",
    "fig, axeses = plt.subplots(len(sample_predict), figsize=(15,15), sharex=True, sharey=True)\n",
    "\n",
    "for i, axes in enumerate(axeses.ravel()):\n",
    "    weight = weights[i].reshape(-1, config['batch_size'], img_rows // 16, img_cols // 16) # 16 is factor that DenseNet reduce the original image size\n",
    "    weight_numpy = weight.cpu().numpy()[:,sample_index,:].squeeze()\n",
    "    weight_image = skimage.transform.resize(weight_numpy, (img_rows, img_cols))\n",
    "    \n",
    "    img = sample_image.squeeze().permute(1,2,0).cpu().numpy()[:,:,0]\n",
    "    \n",
    "    alpha = 0.5\n",
    "    blend = img * alpha + weight_image * (1-alpha)\n",
    "    \n",
    "    axes.set_title(sample_predict[i])\n",
    "    axes.imshow(blend)\n",
    "plt.plot();"
   ]
  },
  {
   "cell_type": "markdown",
   "metadata": {},
   "source": [
    "# Calc CER, WER on the test set"
   ]
  },
  {
   "cell_type": "markdown",
   "metadata": {},
   "source": [
    "## CER"
   ]
  },
  {
   "cell_type": "code",
   "execution_count": 38,
   "metadata": {},
   "outputs": [],
   "source": [
    "import editdistance as ed"
   ]
  },
  {
   "cell_type": "code",
   "execution_count": 39,
   "metadata": {},
   "outputs": [],
   "source": [
    "from tqdm.notebook import tqdm"
   ]
  },
  {
   "cell_type": "code",
   "execution_count": 41,
   "metadata": {},
   "outputs": [
    {
     "data": {
      "application/vnd.jupyter.widget-view+json": {
       "model_id": "42958150ed824b9a9895563e132602bf",
       "version_major": 2,
       "version_minor": 0
      },
      "text/plain": [
       "HBox(children=(IntProgress(value=0, max=785), HTML(value='')))"
      ]
     },
     "metadata": {},
     "output_type": "display_data"
    },
    {
     "name": "stdout",
     "output_type": "stream",
     "text": [
      "\n"
     ]
    }
   ],
   "source": [
    "total_characters = 0\n",
    "total_words = 0\n",
    "CE = 0\n",
    "WE = 0\n",
    "log_interval = 10\n",
    "\n",
    "t = tqdm(test_loader)\n",
    "with torch.no_grad():\n",
    "    for (imgs, targets, targets_onehot, lengths) in t:\n",
    "        batch_size = imgs.size(0)\n",
    "        \n",
    "        start_input = torch.zeros(1, batch_size, vocab_size)\n",
    "        start_input[0,0, char2int[SOS_CHAR]] = 1\n",
    "        start_input = start_input.to(device)\n",
    "        imgs = imgs.to(device)\n",
    "        \n",
    "        img_features = encoder(imgs)\n",
    "        outputs, weights = decoder.greedy(img_features, start_input)\n",
    "        \n",
    "        _, index = outputs.topk(1, -1)\n",
    "        predicts = index.squeeze().transpose(0, 1) # [B, T]\n",
    "        predicts_str = []\n",
    "        for predict in predicts:\n",
    "            s = [int2char[x.item()] for x in predict]\n",
    "            try:\n",
    "                eos_index = s.index(EOS_CHAR) + 1\n",
    "            except ValueError:\n",
    "                eos_index = len(s)\n",
    "            predicts_str.append(s[:eos_index])\n",
    "\n",
    "        targets_str = []\n",
    "        for target in targets.transpose(0, 1).squeeze():\n",
    "            s = [int2char[x.item()] for x in target]\n",
    "            try:\n",
    "                eos_index = s.index(EOS_CHAR) + 1\n",
    "            except ValueError:\n",
    "                eos_index = len(s)\n",
    "            targets_str.append(s[:eos_index])\n",
    "        \n",
    "        assert len(predicts_str) == len(targets_str)\n",
    "        for i in range(len(predicts_str)):\n",
    "            CE += ed.distance(predicts_str[i], targets_str[i])\n",
    "        total_characters += lengths.sum().item()\n",
    "        \n",
    "        for i in range(len(predicts_str)):\n",
    "            WE += 1 if np.array_equal(np.array(predicts_str[i]), np.array(targets_str[i])) else 0\n",
    "        total_words += len(predicts_str)\n",
    "        \n",
    "        t.update()"
   ]
  },
  {
   "cell_type": "code",
   "execution_count": 42,
   "metadata": {},
   "outputs": [
    {
     "name": "stdout",
     "output_type": "stream",
     "text": [
      "CER 0.12835660178420538\n",
      "WER 0.539120047780211\n"
     ]
    }
   ],
   "source": [
    "CER = CE / total_characters\n",
    "WER = WE / total_words\n",
    "print('CER', CER)\n",
    "print('WER', WER)"
   ]
  },
  {
   "cell_type": "code",
   "execution_count": 40,
   "metadata": {
    "scrolled": true
   },
   "outputs": [
    {
     "data": {
      "application/vnd.jupyter.widget-view+json": {
       "model_id": "7f34cb697d2a407e8a9adc2b3a583c4c",
       "version_major": 2,
       "version_minor": 0
      },
      "text/plain": [
       "HBox(children=(IntProgress(value=0, max=785), HTML(value='')))"
      ]
     },
     "metadata": {},
     "output_type": "display_data"
    },
    {
     "name": "stdout",
     "output_type": "stream",
     "text": [
      "\n"
     ]
    }
   ],
   "source": [
    "total_characters = 0\n",
    "total_words = 0\n",
    "CE = 0\n",
    "WE = 0\n",
    "log_interval = 10\n",
    "\n",
    "t = tqdm(test_loader)\n",
    "with torch.no_grad():\n",
    "    for (imgs, targets, targets_onehot, lengths) in t:\n",
    "        batch_size = imgs.size(0)\n",
    "        \n",
    "        start_input = torch.zeros(1, batch_size, vocab_size)\n",
    "        start_input[0,0, char2int[SOS_CHAR]] = 1\n",
    "        start_input = start_input.to(device)\n",
    "        imgs = imgs.to(device)\n",
    "        \n",
    "        img_features = encoder(imgs)\n",
    "        outputs, weights = decoder.greedy(img_features, start_input)\n",
    "        \n",
    "        outputs = torch.nn.functional.softmax(outputs.transpose(0,1), dim=2)\n",
    "        \n",
    "        predicts = [beam_search_decoder(output) for output in outputs]\n",
    "        predicts_str = []\n",
    "        for predict in predicts:\n",
    "            s = [int2char[x] for x in predict]\n",
    "            try:\n",
    "                eos_index = s.index(EOS_CHAR) + 1\n",
    "            except ValueError:\n",
    "                eos_index = len(s)\n",
    "            predicts_str.append(s[:eos_index])\n",
    "\n",
    "        targets_str = []\n",
    "        for target in targets.transpose(0, 1).squeeze():\n",
    "            s = [int2char[x.item()] for x in target]\n",
    "            try:\n",
    "                eos_index = s.index(EOS_CHAR) + 1\n",
    "            except ValueError:\n",
    "                eos_index = len(s)\n",
    "            targets_str.append(s[:eos_index])\n",
    "        \n",
    "        assert len(predicts_str) == len(targets_str)\n",
    "        for i in range(len(predicts_str)):\n",
    "            CE += ed.distance(predicts_str[i], targets_str[i])\n",
    "        total_characters += lengths.sum().item()\n",
    "        \n",
    "        for i in range(len(predicts_str)):\n",
    "            WE += 1 if np.array_equal(np.array(predicts_str[i]), np.array(targets_str[i])) else 0\n",
    "        total_words += len(predicts_str)\n",
    "        \n",
    "        t.update()"
   ]
  },
  {
   "cell_type": "code",
   "execution_count": 41,
   "metadata": {},
   "outputs": [
    {
     "name": "stdout",
     "output_type": "stream",
     "text": [
      "CER 0.13083923457140934\n",
      "WER 0.5284093171411507\n"
     ]
    }
   ],
   "source": [
    "CER = CE / total_characters\n",
    "WER = WE / total_words\n",
    "print('CER', CER)\n",
    "print('WER', WER)"
   ]
  }
 ],
 "metadata": {
  "kernelspec": {
   "display_name": "Python 3",
   "language": "python",
   "name": "python3"
  },
  "language_info": {
   "codemirror_mode": {
    "name": "ipython",
    "version": 3
   },
   "file_extension": ".py",
   "mimetype": "text/x-python",
   "name": "python",
   "nbconvert_exporter": "python",
   "pygments_lexer": "ipython3",
   "version": "3.6.8"
  }
 },
 "nbformat": 4,
 "nbformat_minor": 4
}
