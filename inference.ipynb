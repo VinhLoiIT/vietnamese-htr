{
 "cells": [
  {
   "cell_type": "code",
   "execution_count": 1,
   "metadata": {},
   "outputs": [],
   "source": [
    "import torch\n",
    "import torch.nn\n",
    "import torch.nn.functional as F"
   ]
  },
  {
   "cell_type": "code",
   "execution_count": 2,
   "metadata": {},
   "outputs": [],
   "source": [
    "from model import DenseNetFE, Seq2Seq, Decoder"
   ]
  },
  {
   "cell_type": "code",
   "execution_count": 3,
   "metadata": {},
   "outputs": [],
   "source": [
    "device = 'cuda:0' if torch.cuda.is_available() else 'cpu'\n",
    "# device = 'cpu'"
   ]
  },
  {
   "cell_type": "code",
   "execution_count": 4,
   "metadata": {},
   "outputs": [],
   "source": [
    "import os\n",
    "%matplotlib inline\n",
    "import matplotlib.pyplot as plt\n",
    "import skimage\n",
    "from matplotlib import cm\n",
    "import numpy as np\n",
    "from dataset import get_data_loader, vocab_size, int2char, char2int, SOS_CHAR, EOS_CHAR, PAD_CHAR\n",
    "from torchvision import transforms\n",
    "from utils import ScaleImageByHeight, PaddingWidth, AverageMeter, accuracy"
   ]
  },
  {
   "cell_type": "code",
   "execution_count": 5,
   "metadata": {},
   "outputs": [],
   "source": [
    "config = {\n",
    "    'batch_size': 5,\n",
    "    'hidden_size': 256,\n",
    "    'attn_size': 256,\n",
    "    'max_length': 10,\n",
    "    'n_epochs_decrease_lr': 15,\n",
    "    'start_learning_rate': 1e-5,  # NOTE: paper start with 1e-8\n",
    "    'end_learning_rate': 1e-11,\n",
    "    'depth': 4,\n",
    "    'n_blocks': 3,\n",
    "    'growth_rate': 96,\n",
    "}"
   ]
  },
  {
   "cell_type": "code",
   "execution_count": 6,
   "metadata": {},
   "outputs": [],
   "source": [
    "MAX_LENGTH = config['max_length']\n",
    "# CKPT_DIR = './ckpt'\n",
    "CKPT_DIR = './runs/Feb02_16-43-33_17be2c871316/weights'"
   ]
  },
  {
   "cell_type": "code",
   "execution_count": 7,
   "metadata": {},
   "outputs": [],
   "source": [
    "info = torch.load(os.path.join(CKPT_DIR, 'BEST_weights.pt'), map_location='cpu')"
   ]
  },
  {
   "cell_type": "code",
   "execution_count": 8,
   "metadata": {},
   "outputs": [],
   "source": [
    "image_transform = transforms.Compose([\n",
    "    transforms.Grayscale(3),\n",
    "    ScaleImageByHeight(64),\n",
    "    transforms.ToTensor(),\n",
    "])"
   ]
  },
  {
   "cell_type": "code",
   "execution_count": 9,
   "metadata": {},
   "outputs": [],
   "source": [
    "test_loader = get_data_loader('test', config['batch_size'], transform=image_transform)\n",
    "# test_loader = get_data_loader('train', config['batch_size'], transform=image_transform)"
   ]
  },
  {
   "cell_type": "code",
   "execution_count": 10,
   "metadata": {},
   "outputs": [],
   "source": [
    "def make_model():\n",
    "    fe = DenseNetFE(config['depth'], config['n_blocks'], config['growth_rate'])\n",
    "    decoder = Decoder(fe.n_features, config['hidden_size'], vocab_size, config['attn_size'])\n",
    "    model = Seq2Seq(fe, decoder)\n",
    "    return model\n",
    "model = make_model()"
   ]
  },
  {
   "cell_type": "code",
   "execution_count": 11,
   "metadata": {},
   "outputs": [
    {
     "data": {
      "text/plain": [
       "<All keys matched successfully>"
      ]
     },
     "execution_count": 11,
     "metadata": {},
     "output_type": "execute_result"
    }
   ],
   "source": [
    "model.load_state_dict(info['model'])"
   ]
  },
  {
   "cell_type": "code",
   "execution_count": 12,
   "metadata": {},
   "outputs": [],
   "source": [
    "model = model.to(device);"
   ]
  },
  {
   "cell_type": "code",
   "execution_count": 13,
   "metadata": {},
   "outputs": [],
   "source": [
    "model.eval();"
   ]
  },
  {
   "cell_type": "code",
   "execution_count": 14,
   "metadata": {},
   "outputs": [],
   "source": [
    "test_iter = iter(test_loader)"
   ]
  },
  {
   "cell_type": "code",
   "execution_count": 15,
   "metadata": {},
   "outputs": [],
   "source": [
    "imgs, targets, targets_onehot, lengths = next(test_iter)"
   ]
  },
  {
   "cell_type": "code",
   "execution_count": 16,
   "metadata": {},
   "outputs": [
    {
     "data": {
      "text/plain": [
       "torch.Size([5, 3, 64, 132])"
      ]
     },
     "execution_count": 16,
     "metadata": {},
     "output_type": "execute_result"
    }
   ],
   "source": [
    "imgs.size()"
   ]
  },
  {
   "cell_type": "code",
   "execution_count": 17,
   "metadata": {},
   "outputs": [
    {
     "data": {
      "text/plain": [
       "<matplotlib.image.AxesImage at 0x7fd3408ecad0>"
      ]
     },
     "execution_count": 17,
     "metadata": {},
     "output_type": "execute_result"
    },
    {
     "data": {
      "image/png": "[encoded data removed]",
      "text/plain": [
       "<Figure size 432x288 with 1 Axes>"
      ]
     },
     "metadata": {
      "needs_background": "light"
     },
     "output_type": "display_data"
    }
   ],
   "source": [
    "plt.imshow(imgs[0].squeeze().permute(1,2,0))"
   ]
  },
  {
   "cell_type": "code",
   "execution_count": 18,
   "metadata": {},
   "outputs": [
    {
     "data": {
      "text/plain": [
       "torch.Size([5, 5, 1])"
      ]
     },
     "execution_count": 18,
     "metadata": {},
     "output_type": "execute_result"
    }
   ],
   "source": [
    "targets.size()"
   ]
  },
  {
   "cell_type": "code",
   "execution_count": 19,
   "metadata": {},
   "outputs": [
    {
     "data": {
      "text/plain": [
       "['<start>Ông<end>',\n",
       " '<start>già<end>',\n",
       " '<start>năm<end>',\n",
       " '<start>làm<end>',\n",
       " '<start>30<end><pad>']"
      ]
     },
     "execution_count": 19,
     "metadata": {},
     "output_type": "execute_result"
    }
   ],
   "source": [
    "[''.join([int2char[x.item()] for x in targets[:,i].squeeze()]) for i in range(targets.size(1))]"
   ]
  },
  {
   "cell_type": "code",
   "execution_count": 20,
   "metadata": {},
   "outputs": [
    {
     "data": {
      "text/plain": [
       "torch.Size([5, 3, 64, 132])"
      ]
     },
     "execution_count": 20,
     "metadata": {},
     "output_type": "execute_result"
    }
   ],
   "source": [
    "imgs.size()"
   ]
  },
  {
   "cell_type": "code",
   "execution_count": 21,
   "metadata": {},
   "outputs": [],
   "source": [
    "with torch.no_grad():\n",
    "#     for i, (imgs, targets, targets_onehot, lengths) in enumerate(val_loader):\n",
    "    imgs = imgs.to(device)\n",
    "    targets_onehot = targets_onehot.to(device)\n",
    "    outputs, weights = model.forward(imgs, targets_onehot)"
   ]
  },
  {
   "cell_type": "code",
   "execution_count": 22,
   "metadata": {},
   "outputs": [
    {
     "data": {
      "text/plain": [
       "torch.Size([4, 5, 150])"
      ]
     },
     "execution_count": 22,
     "metadata": {},
     "output_type": "execute_result"
    }
   ],
   "source": [
    "outputs.size()"
   ]
  },
  {
   "cell_type": "code",
   "execution_count": 23,
   "metadata": {},
   "outputs": [],
   "source": [
    "_, index = outputs.topk(1, -1)"
   ]
  },
  {
   "cell_type": "code",
   "execution_count": 24,
   "metadata": {},
   "outputs": [
    {
     "data": {
      "text/plain": [
       "torch.Size([4, 5, 1])"
      ]
     },
     "execution_count": 24,
     "metadata": {},
     "output_type": "execute_result"
    }
   ],
   "source": [
    "index.size()"
   ]
  },
  {
   "cell_type": "code",
   "execution_count": 25,
   "metadata": {},
   "outputs": [
    {
     "data": {
      "text/plain": [
       "tensor([[[57],\n",
       "         [51],\n",
       "         [51],\n",
       "         [10]],\n",
       "\n",
       "        [[57],\n",
       "         [46],\n",
       "         [10],\n",
       "         [10]],\n",
       "\n",
       "        [[40],\n",
       "         [45],\n",
       "         [45],\n",
       "         [10]],\n",
       "\n",
       "        [[57],\n",
       "         [45],\n",
       "         [45],\n",
       "         [10]],\n",
       "\n",
       "        [[57],\n",
       "         [46],\n",
       "         [10],\n",
       "         [10]]], device='cuda:0')"
      ]
     },
     "execution_count": 25,
     "metadata": {},
     "output_type": "execute_result"
    }
   ],
   "source": [
    "predicts = index.squeeze(0).transpose(0, 1) # [B, T]\n",
    "predicts"
   ]
  },
  {
   "cell_type": "code",
   "execution_count": 26,
   "metadata": {},
   "outputs": [
    {
     "data": {
      "text/plain": [
       "[['t', 'n', 'n', '<end>'],\n",
       " ['t', 'i', '<end>'],\n",
       " ['c', 'h', 'h', '<end>'],\n",
       " ['t', 'h', 'h', '<end>'],\n",
       " ['t', 'i', '<end>']]"
      ]
     },
     "execution_count": 26,
     "metadata": {},
     "output_type": "execute_result"
    }
   ],
   "source": [
    "predicts_str = []\n",
    "for predict in predicts:\n",
    "    s = [int2char[x.item()] for x in predict]\n",
    "    try:\n",
    "        eos_index = s.index(EOS_CHAR) + 1\n",
    "    except ValueError:\n",
    "        eos_index = len(s)\n",
    "    predicts_str.append(s[:eos_index])\n",
    "predicts_str"
   ]
  },
  {
   "cell_type": "markdown",
   "metadata": {},
   "source": [
    "# Visualize a sample"
   ]
  },
  {
   "cell_type": "code",
   "execution_count": 27,
   "metadata": {},
   "outputs": [
    {
     "data": {
      "image/png": "[encoded data removed]",
      "text/plain": [
       "<Figure size 1080x1080 with 3 Axes>"
      ]
     },
     "metadata": {
      "needs_background": "light"
     },
     "output_type": "display_data"
    }
   ],
   "source": [
    "sample_index = 1\n",
    "sample_image, sample_predict = imgs[sample_index], predicts_str[sample_index]\n",
    "fig, axeses = plt.subplots(len(sample_predict), figsize=(15,15), sharex=True, sharey=True)\n",
    "img_rows, img_cols = imgs.size()[-2:]\n",
    "\n",
    "for i, axes in enumerate(axeses.ravel()):\n",
    "    weight_numpy = weights.cpu().numpy()[i,sample_index,:].squeeze()\n",
    "    weight_numpy = weight_numpy.reshape(round(img_rows/16), round(img_cols/16)) # 16 is factor that DenseNet reduce the original image size\n",
    "    weight_image = skimage.transform.resize(weight_numpy, (img_rows, img_cols))\n",
    "    img = sample_image.squeeze().permute(1,2,0).cpu().numpy()[:,:,0]\n",
    "    \n",
    "    alpha = 0.4\n",
    "    blend = img * alpha + weight_image * (1-alpha)\n",
    "    \n",
    "    axes.set_title(sample_predict[i])\n",
    "    axes.imshow(blend, cmap='gray')\n",
    "plt.plot();"
   ]
  },
  {
   "cell_type": "markdown",
   "metadata": {},
   "source": [
    "# Calc CER, WER on the test set"
   ]
  },
  {
   "cell_type": "markdown",
   "metadata": {},
   "source": [
    "## CER"
   ]
  },
  {
   "cell_type": "code",
   "execution_count": 29,
   "metadata": {},
   "outputs": [],
   "source": [
    "import editdistance as ed"
   ]
  },
  {
   "cell_type": "code",
   "execution_count": 30,
   "metadata": {},
   "outputs": [],
   "source": [
    "log_test = open('./log_test.txt', 'w+')"
   ]
  },
  {
   "cell_type": "code",
   "execution_count": 31,
   "metadata": {},
   "outputs": [
    {
     "name": "stdout",
     "output_type": "stream",
     "text": [
      "Batch 0 - sample 25: \"['u', 'n', '<end>']\"/\"['O', 'n', '<end>']\"\n",
      "Batch 0 - sample 26: \"['u', 'n', '<end>']\"/\"['O', 'n', '<end>']\"\n",
      "Batch 2 - sample 31: \"['u', 'n', '<end>']\"/\"['O', 'n', '<end>']\"\n",
      "Batch 8 - sample 31: \"['u', 'n', '<end>']\"/\"['O', 'n', '<end>']\"\n",
      "Batch 9 - sample 13: \"['s', 's', 'n', '<end>']\"/\"['s', 'ẵ', 'n', '<end>']\"\n",
      "Batch 15 - sample 27: \"['u', 'n', '<end>']\"/\"['O', 'n', '<end>']\"\n",
      "Batch 16 - sample 26: \"['u', 'n', '<end>']\"/\"['O', 'n', '<end>']\"\n",
      "Batch 17 - sample 30: \"['u', 'n', '<end>']\"/\"['O', 'n', '<end>']\"\n",
      "Batch 24 - sample 30: \"['u', 'n', '<end>']\"/\"['O', 'n', '<end>']\"\n",
      "Batch 28 - sample 21: \"['s', 's', 'n', '<end>']\"/\"['s', 'ẵ', 'n', '<end>']\"\n",
      "Batch 29 - sample 25: \"['u', 'n', '<end>']\"/\"['O', 'n', '<end>']\"\n",
      "Batch 31 - sample 27: \"['M', 'M', '<end>']\"/\"['M', 'ỹ', '<end>']\"\n",
      "Batch 39 - sample 22: \"['u', 'n', '<end>']\"/\"['O', 'n', '<end>']\"\n",
      "Batch 39 - sample 28: \"['k', 'k', '<end>']\"/\"['k', 'ỳ', '<end>']\"\n",
      "Batch 39 - sample 31: \"['y', 'n', '<end>']\"/\"['Â', 'n', '<end>']\"\n",
      "Batch 40 - sample 4: \"['A', 'A', 'D', 'S', '<end>']\"/\"['A', 'I', 'D', 'S', '<end>']\"\n",
      "Batch 40 - sample 22: \"['ệ', 'y', '<end>']\"/\"['Ủ', 'y', '<end>']\"\n",
      "Batch 41 - sample 19: \"['H', 'H', 'V', '<end>']\"/\"['H', 'I', 'V', '<end>']\"\n",
      "Batch 42 - sample 3: \"['N', 'N', 'n', 'g', '<end>']\"/\"['N', 'ẵ', 'n', 'g', '<end>']\"\n",
      "Batch 42 - sample 23: \"['H', 'H', 'V', '<end>']\"/\"['H', 'I', 'V', '<end>']\"\n",
      "Batch 42 - sample 31: \"['P', '<end>']\"/\"['Ở', '<end>']\"\n",
      "Batch 44 - sample 8: \"['A', 'A', 'D', 'S', '<end>']\"/\"['A', 'I', 'D', 'S', '<end>']\"\n",
      "Batch 44 - sample 9: \"['N', 'N', 'n', 'g', '<end>']\"/\"['N', 'ẵ', 'n', 'g', '<end>']\"\n",
      "Batch 46 - sample 11: \"['A', 'A', 'D', 'S', '<end>']\"/\"['A', 'I', 'D', 'S', '<end>']\"\n",
      "Batch 46 - sample 22: \"['k', 'k', '<end>']\"/\"['k', 'ỳ', '<end>']\"\n",
      "Batch 48 - sample 14: \"['H', 'H', 'V', '<end>']\"/\"['H', 'I', 'V', '<end>']\"\n",
      "Batch 50 - sample 15: \"['H', 'H', 'V', '<end>']\"/\"['H', 'I', 'V', '<end>']\"\n",
      "Batch 50 - sample 31: \"['P', '<end>']\"/\"['Ở', '<end>']\"\n",
      "Batch 52 - sample 24: \"['H', 'H', 'V', '<end>']\"/\"['H', 'I', 'V', '<end>']\"\n",
      "Batch 52 - sample 28: \"['k', 'k', '<end>']\"/\"['k', 'ỳ', '<end>']\"\n",
      "Batch 54 - sample 17: \"['H', 'H', 'V', '<end>']\"/\"['H', 'I', 'V', '<end>']\"\n",
      "Batch 55 - sample 14: \"['H', 'H', 'V', '<end>']\"/\"['H', 'I', 'V', '<end>']\"\n",
      "Batch 55 - sample 29: \"['y', 'n', '<end>']\"/\"['Â', 'n', '<end>']\"\n",
      "Batch 56 - sample 11: \"['A', 'A', 'D', 'S', '<end>']\"/\"['A', 'I', 'D', 'S', '<end>']\"\n",
      "Batch 56 - sample 13: \"['2', '0', '0', '0', '<end>']\"/\"['2', '0', '0', '5', '<end>']\"\n",
      "Batch 56 - sample 15: \"['H', 'H', 'V', '<end>']\"/\"['H', 'I', 'V', '<end>']\"\n",
      "Batch 56 - sample 27: \"['k', 'k', '<end>']\"/\"['k', 'ỳ', '<end>']\"\n",
      "Batch 56 - sample 31: \"['ệ', 'y', '<end>']\"/\"['Ủ', 'y', '<end>']\"\n",
      "Batch 57 - sample 15: \"['H', 'H', 'V', '<end>']\"/\"['H', 'I', 'V', '<end>']\"\n",
      "Batch 57 - sample 21: \"['H', 'H', 'V', '<end>']\"/\"['H', 'I', 'V', '<end>']\"\n",
      "Batch 59 - sample 6: \"['N', 'N', 'n', 'g', '<end>']\"/\"['N', 'ẵ', 'n', 'g', '<end>']\"\n",
      "Batch 64 - sample 6: \"['A', 'A', 'D', 'S', '<end>']\"/\"['A', 'I', 'D', 'S', '<end>']\"\n",
      "Batch 64 - sample 9: \"['H', 'H', 'V', '<end>']\"/\"['H', 'I', 'V', '<end>']\"\n",
      "Batch 65 - sample 17: \"['H', 'H', 'V', '<end>']\"/\"['H', 'I', 'V', '<end>']\"\n",
      "Batch 68 - sample 12: \"['H', 'H', 'V', '<end>']\"/\"['H', 'I', 'V', '<end>']\"\n",
      "Batch 70 - sample 13: \"['N', 'N', 'n', 'g', '<end>']\"/\"['N', 'ẵ', 'n', 'g', '<end>']\"\n",
      "Batch 70 - sample 23: \"['H', 'H', 'V', '<end>']\"/\"['H', 'I', 'V', '<end>']\"\n",
      "Batch 71 - sample 11: \"['H', 'H', 'V', '<end>']\"/\"['H', 'I', 'V', '<end>']\"\n",
      "Batch 72 - sample 14: \"['H', 'H', 'V', '<end>']\"/\"['H', 'I', 'V', '<end>']\"\n",
      "Batch 72 - sample 16: \"['H', 'H', 'V', '<end>']\"/\"['H', 'I', 'V', '<end>']\"\n",
      "Batch 73 - sample 17: \"['H', 'H', 'V', '<end>']\"/\"['H', 'I', 'V', '<end>']\"\n",
      "Batch 75 - sample 14: \"['H', 'H', 'V', '<end>']\"/\"['H', 'I', 'V', '<end>']\"\n",
      "Batch 78 - sample 3: \"['N', 'N', 'n', 'g', '<end>']\"/\"['N', 'ẵ', 'n', 'g', '<end>']\"\n",
      "Batch 80 - sample 28: \"['k', 'k', '<end>']\"/\"['k', 'ỳ', '<end>']\"\n",
      "Batch 81 - sample 22: \"['H', 'H', 'V', '<end>']\"/\"['H', 'I', 'V', '<end>']\"\n",
      "Batch 86 - sample 31: \"['P', '<end>']\"/\"['Ở', '<end>']\"\n",
      "Batch 87 - sample 29: \"['H', 'H', 'V', '<end>']\"/\"['H', 'I', 'V', '<end>']\"\n",
      "Batch 88 - sample 5: \"['N', 'N', 'n', 'g', '<end>']\"/\"['N', 'ẵ', 'n', 'g', '<end>']\"\n",
      "Batch 89 - sample 13: \"['A', 'A', 'D', 'S', '<end>']\"/\"['A', 'I', 'D', 'S', '<end>']\"\n",
      "Batch 89 - sample 23: \"['H', 'H', 'V', '<end>']\"/\"['H', 'I', 'V', '<end>']\"\n",
      "Batch 90 - sample 21: \"['H', 'H', 'V', '<end>']\"/\"['H', 'I', 'V', '<end>']\"\n",
      "Batch 91 - sample 10: \"['A', 'A', 'D', 'S', '<end>']\"/\"['A', 'I', 'D', 'S', '<end>']\"\n",
      "Batch 92 - sample 18: \"['H', 'H', 'V', '<end>']\"/\"['H', 'I', 'V', '<end>']\"\n",
      "Batch 92 - sample 19: \"['H', 'H', 'V', '<end>']\"/\"['H', 'I', 'V', '<end>']\"\n",
      "Batch 93 - sample 27: \"['k', 'k', '<end>']\"/\"['k', 'ỳ', '<end>']\"\n",
      "Batch 143 - sample 25: \"['k', 'k', '<end>']\"/\"['k', 'ỳ', '<end>']\"\n",
      "Batch 161 - sample 2: \"['u', 'a', 'n', 'h', '<end>']\"/\"['O', 'a', 'n', 'h', '<end>']\"\n",
      "Batch 161 - sample 8: \"['u', 'a', 'n', 'h', '<end>']\"/\"['O', 'a', 'n', 'h', '<end>']\"\n",
      "Batch 167 - sample 12: \"['u', 'a', 'n', 'h', '<end>']\"/\"['O', 'a', 'n', 'h', '<end>']\"\n",
      "Batch 168 - sample 14: \"['u', 'a', 'n', 'h', '<end>']\"/\"['O', 'a', 'n', 'h', '<end>']\"\n",
      "Batch 169 - sample 25: \"['k', 'k', '<end>']\"/\"['k', 'ỹ', '<end>']\"\n",
      "Batch 170 - sample 4: \"['u', 'a', 'n', 'h', '<end>']\"/\"['O', 'a', 'n', 'h', '<end>']\"\n",
      "Batch 172 - sample 5: \"['u', 'a', 'n', 'h', '<end>']\"/\"['O', 'a', 'n', 'h', '<end>']\"\n",
      "Batch 172 - sample 8: \"['u', 'a', 'n', 'h', '<end>']\"/\"['O', 'a', 'n', 'h', '<end>']\"\n",
      "Batch 174 - sample 6: \"['u', 'a', 'n', 'h', '<end>']\"/\"['O', 'a', 'n', 'h', '<end>']\"\n",
      "Batch 175 - sample 10: \"['u', 'a', 'n', 'h', '<end>']\"/\"['O', 'a', 'n', 'h', '<end>']\"\n",
      "Batch 176 - sample 4: \"['u', 'a', 'n', 'h', '<end>']\"/\"['O', 'a', 'n', 'h', '<end>']\"\n",
      "Batch 188 - sample 29: \"['V', 'V', '<end>']\"/\"['V', 'ỹ', '<end>']\"\n",
      "Batch 193 - sample 18: \"['s', 's', 'n', '<end>']\"/\"['s', 'ẵ', 'n', '<end>']\"\n",
      "Batch 195 - sample 26: \"['M', 'M', '<end>']\"/\"['M', 'ỹ', '<end>']\"\n",
      "Batch 197 - sample 17: \"['<end>']\"/\"['Á', 'n', 'h', '<end>']\"\n",
      "Batch 205 - sample 8: \"['P', 'm', 'C', 'A', '<end>']\"/\"['J', 'I', 'C', 'A', '<end>']\"\n",
      "Batch 207 - sample 24: \"['M', 'M', '<end>']\"/\"['M', 'ỹ', '<end>']\"\n",
      "Batch 208 - sample 26: \"['M', 'M', '<end>']\"/\"['M', 'ỹ', '<end>']\"\n",
      "Batch 232 - sample 29: \"['5', '5', '<end>']\"/\"['5', '8', '<end>']\"\n",
      "Batch 234 - sample 27: \"['â', '5', '<end>']\"/\"['E', '5', '<end>']\"\n",
      "Batch 238 - sample 0: \"['S', 'a', 'n', 'o', 'o', 'i', '<end>']\"/\"['S', 'a', 'n', 'o', 'f', 'i', '<end>']\"\n",
      "Batch 239 - sample 1: \"['S', 'a', 'n', 'o', 'o', 'i', '<end>']\"/\"['S', 'a', 'n', 'o', 'f', 'i', '<end>']\"\n",
      "Batch 243 - sample 29: \"['s', 'B', '<end>']\"/\"['W', 'B', '<end>']\"\n",
      "Batch 244 - sample 21: \"['s', 'B', '<end>']\"/\"['W', 'B', '<end>']\"\n",
      "Batch 244 - sample 26: \"['s', 'B', '<end>']\"/\"['W', 'B', '<end>']\"\n",
      "Batch 251 - sample 9: \"['A', 'A', 'D', 'S', '<end>']\"/\"['A', 'I', 'D', 'S', '<end>']\"\n",
      "Batch 257 - sample 24: \"['2', '2', '2', '<end>']\"/\"['2', '2', '9', '<end>']\"\n",
      "Batch 259 - sample 17: \"['H', 'H', 'V', '<end>']\"/\"['H', 'I', 'V', '<end>']\"\n",
      "Batch 260 - sample 21: \"['H', 'H', 'V', '<end>']\"/\"['H', 'I', 'V', '<end>']\"\n",
      "Batch 267 - sample 0: \"['S', 'a', 'n', 'o', 'o', 'i', '<end>']\"/\"['S', 'a', 'n', 'o', 'f', 'i', '<end>']\"\n",
      "Batch 268 - sample 1: \"['S', 'a', 'n', 'o', 'o', 'i', '<end>']\"/\"['S', 'a', 'n', 'o', 'f', 'i', '<end>']\"\n",
      "Batch 279 - sample 27: \"['5', '5', '<end>']\"/\"['5', '8', '<end>']\"\n",
      "Batch 282 - sample 29: \"['K', 'K', '<end>']\"/\"['K', 'ỳ', '<end>']\"\n",
      "Batch 323 - sample 29: \"['k', '<end>']\"/\"['Ồ', '<end>']\"\n",
      "Batch 332 - sample 31: \"['k', 'b', '<end>']\"/\"['k', 'ỷ', '<end>']\"\n",
      "Batch 336 - sample 11: \"['s', 's', 'n', '<end>']\"/\"['s', 'ẵ', 'n', '<end>']\"\n",
      "Batch 347 - sample 27: \"['k', 'ắ', '<end>']\"/\"['k', 'ỷ', '<end>']\"\n",
      "Batch 348 - sample 30: \"['<end>']\"/\"['Á', 'i', '<end>']\"\n",
      "Batch 363 - sample 28: \"['k', 'ắ', '<end>']\"/\"['k', 'ỷ', '<end>']\"\n",
      "Batch 369 - sample 31: \"['P', '<end>']\"/\"['Ở', '<end>']\"\n",
      "Batch 378 - sample 28: \"['k', 'b', '<end>']\"/\"['k', 'ỷ', '<end>']\"\n",
      "Batch 380 - sample 26: \"['<end>']\"/\"['Á', 'i', '<end>']\"\n",
      "Batch 417 - sample 4: \"['K', 'K', 'a', 'n', 'g', '<end>']\"/\"['K', 'j', 'a', 'n', 'g', '<end>']\"\n",
      "Batch 428 - sample 0: \"['S', 'a', 'n', 'o', 'o', 'i', '<end>']\"/\"['S', 'a', 'n', 'o', 'f', 'i', '<end>']\"\n",
      "Batch 429 - sample 1: \"['S', 'a', 'n', 'o', 'o', 'i', '<end>']\"/\"['S', 'a', 'n', 'o', 'f', 'i', '<end>']\"\n",
      "Batch 444 - sample 31: \"['P', '<end>']\"/\"['Ở', '<end>']\"\n",
      "Batch 469 - sample 27: \"['k', 'k', '<end>']\"/\"['k', 'ỳ', '<end>']\"\n",
      "Batch 470 - sample 0: \"['i', 'g', 'n', 'a', 'r', 'a', 'a', 'a', '<end>']\"/\"['i', 'g', 'n', 'a', 'r', 'a', 'j', 'a', '<end>']\"\n",
      "Batch 470 - sample 28: \"['k', 'b', '<end>']\"/\"['k', 'ỷ', '<end>']\"\n",
      "Batch 475 - sample 27: \"['k', 'ắ', '<end>']\"/\"['k', 'ỷ', '<end>']\"\n",
      "Batch 476 - sample 31: \"['<end>']\"/\"['Á', 'i', '<end>']\"\n",
      "Batch 488 - sample 1: \"['S', 'a', 'n', 'o', 'o', 'i', '<end>']\"/\"['S', 'a', 'n', 'o', 'f', 'i', '<end>']\"\n",
      "Batch 489 - sample 1: \"['S', 'a', 'n', 'o', 'o', 'i', '<end>']\"/\"['S', 'a', 'n', 'o', 'f', 'i', '<end>']\"\n",
      "Batch 496 - sample 25: \"['s', 's', 'n', '<end>']\"/\"['s', 'ẵ', 'n', '<end>']\"\n",
      "Batch 506 - sample 9: \"['s', 's', 'n', '<end>']\"/\"['s', 'ẵ', 'n', '<end>']\"\n",
      "Batch 512 - sample 0: \"['S', 'a', 'n', 'o', 'o', 'i', '<end>']\"/\"['S', 'a', 'n', 'o', 'f', 'i', '<end>']\"\n",
      "Batch 513 - sample 1: \"['S', 'a', 'n', 'o', 'o', 'i', '<end>']\"/\"['S', 'a', 'n', 'o', 'f', 'i', '<end>']\"\n",
      "Batch 520 - sample 27: \"['k', 'b', '<end>']\"/\"['k', 'ỷ', '<end>']\"\n",
      "Batch 523 - sample 23: \"['k', 'b', '<end>']\"/\"['k', 'ỷ', '<end>']\"\n",
      "Batch 523 - sample 24: \"['k', 'b', '<end>']\"/\"['k', 'ỷ', '<end>']\"\n",
      "Batch 523 - sample 27: \"['k', 'b', '<end>']\"/\"['k', 'ỷ', '<end>']\"\n",
      "Batch 527 - sample 12: \"['2', '0', '0', '0', '<end>']\"/\"['2', '0', '0', '5', '<end>']\"\n",
      "Batch 572 - sample 30: \"['â', '5', '<end>']\"/\"['E', '5', '<end>']\"\n",
      "Batch 579 - sample 26: \"['k', 'k', '<end>']\"/\"['k', 'ỳ', '<end>']\"\n",
      "Batch 580 - sample 0: \"['i', 'g', 'n', 'a', 'r', 'a', 'a', 'a', '<end>']\"/\"['i', 'g', 'n', 'a', 'r', 'a', 'j', 'a', '<end>']\"\n",
      "Batch 580 - sample 28: \"['k', 'ắ', '<end>']\"/\"['k', 'ỷ', '<end>']\"\n",
      "Batch 586 - sample 26: \"['k', 'k', '<end>']\"/\"['k', 'ỳ', '<end>']\"\n",
      "Batch 587 - sample 0: \"['i', 'g', 'n', 'a', 'r', 'a', 'a', 'a', '<end>']\"/\"['i', 'g', 'n', 'a', 'r', 'a', 'j', 'a', '<end>']\"\n",
      "Batch 587 - sample 28: \"['k', 'ắ', '<end>']\"/\"['k', 'ỷ', '<end>']\"\n",
      "Batch 594 - sample 10: \"['s', 's', 'n', '<end>']\"/\"['s', 'ẵ', 'n', '<end>']\"\n",
      "Batch 600 - sample 31: \"['P', '<end>']\"/\"['Ở', '<end>']\"\n",
      "Batch 607 - sample 31: \"['P', '<end>']\"/\"['Ở', '<end>']\"\n",
      "Batch 609 - sample 30: \"['ậ', 'n', '<end>']\"/\"['Ă', 'n', '<end>']\"\n",
      "Batch 631 - sample 10: \"['s', 's', 'n', '<end>']\"/\"['s', 'ẵ', 'n', '<end>']\"\n",
      "Batch 637 - sample 0: \"['S', 'a', 'n', 'o', 'o', 'i', '<end>']\"/\"['S', 'a', 'n', 'o', 'f', 'i', '<end>']\"\n",
      "Batch 638 - sample 1: \"['S', 'a', 'n', 'o', 'o', 'i', '<end>']\"/\"['S', 'a', 'n', 'o', 'f', 'i', '<end>']\"\n",
      "Batch 645 - sample 17: \"['P', 'T', 'C', 'A', '<end>']\"/\"['J', 'I', 'C', 'A', '<end>']\"\n",
      "Batch 647 - sample 31: \"['M', 'M', '<end>']\"/\"['M', 'ỹ', '<end>']\"\n",
      "Batch 648 - sample 30: \"['M', 'M', '<end>']\"/\"['M', 'ỹ', '<end>']\"\n",
      "Batch 670 - sample 27: \"['5', '5', '<end>']\"/\"['5', '8', '<end>']\"\n",
      "Batch 672 - sample 17: \"['s', 's', 'n', '<end>']\"/\"['s', 'ẵ', 'n', '<end>']\"\n",
      "Batch 689 - sample 12: \"['s', 's', 'n', '<end>']\"/\"['s', 'ẵ', 'n', '<end>']\"\n",
      "Batch 698 - sample 18: \"['P', 'T', 'C', 'A', '<end>']\"/\"['J', 'I', 'C', 'A', '<end>']\"\n",
      "Batch 701 - sample 23: \"['M', 'M', '<end>']\"/\"['M', 'ỹ', '<end>']\"\n",
      "Batch 702 - sample 25: \"['M', 'M', '<end>']\"/\"['M', 'ỹ', '<end>']\"\n",
      "Batch 704 - sample 28: \"['k', 'k', '<end>']\"/\"['k', 'ỳ', '<end>']\"\n",
      "Batch 705 - sample 31: \"['k', 'b', '<end>']\"/\"['k', 'ỷ', '<end>']\"\n",
      "Batch 706 - sample 0: \"['i', 'g', 'n', 'a', 'r', 'a', 'a', 'a', '<end>']\"/\"['i', 'g', 'n', 'a', 'r', 'a', 'j', 'a', '<end>']\"\n",
      "Batch 757 - sample 31: \"['k', 'k', '<end>']\"/\"['k', 'ỹ', '<end>']\"\n",
      "Batch 777 - sample 27: \"['k', 'b', '<end>']\"/\"['k', 'ỷ', '<end>']\"\n"
     ]
    }
   ],
   "source": [
    "total_characters = 0\n",
    "total_words = 0\n",
    "CE = 0\n",
    "WE = 0\n",
    "log_interval = 10\n",
    "\n",
    "# t = tqdm(test_loader)\n",
    "t = test_loader\n",
    "with torch.no_grad():\n",
    "    for i, (imgs, targets, targets_onehot, lengths) in enumerate(t):\n",
    "        print(f'[{i}]/[{len(t)}]', file=log_test)\n",
    "        log_test.flush()\n",
    "        batch_size = imgs.size(0)\n",
    "        \n",
    "        imgs = imgs.to(device)\n",
    "        img_features = encoder(imgs)\n",
    "        targets_onehot = targets_onehot[1:].to(device)\n",
    "        targets = targets[1:].to(device)\n",
    "        lengths = lengths - 1\n",
    "        outputs = decoder.forward(img_features, targets_onehot, targets, lengths, char2int[PAD_CHAR])\n",
    "        \n",
    "        _, index = outputs.topk(1, -1)\n",
    "        predicts = index.squeeze().transpose(0, 1) # [B, T]\n",
    "        predicts_str = []\n",
    "        for predict in predicts:\n",
    "            s = [int2char[x.item()] for x in predict]\n",
    "            try:\n",
    "                eos_index = s.index(EOS_CHAR) + 1\n",
    "            except ValueError:\n",
    "                eos_index = len(s)\n",
    "            predicts_str.append(s[:eos_index])\n",
    "\n",
    "        targets_str = []\n",
    "        for target in targets.transpose(0, 1).squeeze():\n",
    "            s = [int2char[x.item()] for x in target]\n",
    "            try:\n",
    "                eos_index = s.index(EOS_CHAR) + 1\n",
    "            except ValueError:\n",
    "                eos_index = len(s)\n",
    "            targets_str.append(s[:eos_index])\n",
    "        \n",
    "        assert len(predicts_str) == len(targets_str)\n",
    "        for j in range(len(predicts_str)):\n",
    "            CE += ed.distance(predicts_str[j], targets_str[j])\n",
    "        total_characters += lengths.sum().item()\n",
    "        \n",
    "        for j in range(len(predicts_str)):\n",
    "            if not np.array_equal(np.array(predicts_str[j]), np.array(targets_str[j])):\n",
    "                WE += 1\n",
    "                print(f'Batch {i} - sample {j}: \"{predicts_str[j]}\"/\"{targets_str[j]}\"')\n",
    "        total_words += len(predicts_str)\n",
    "        \n",
    "#         t.update()"
   ]
  },
  {
   "cell_type": "code",
   "execution_count": 32,
   "metadata": {},
   "outputs": [],
   "source": [
    "CER = CE / total_characters\n",
    "WER = WE / total_words\n",
    "print('CER', CER, file=log_test)\n",
    "print('WER', WER, file=log_test)\n",
    "log_test.flush()"
   ]
  },
  {
   "cell_type": "code",
   "execution_count": 33,
   "metadata": {},
   "outputs": [],
   "source": [
    "log_test.close()"
   ]
  },
  {
   "cell_type": "code",
   "execution_count": 34,
   "metadata": {},
   "outputs": [
    {
     "name": "stdout",
     "output_type": "stream",
     "text": [
      "164 108614 0.0015099342626180786\n"
     ]
    }
   ],
   "source": [
    "print(CE, total_characters, CER)"
   ]
  },
  {
   "cell_type": "code",
   "execution_count": 35,
   "metadata": {},
   "outputs": [
    {
     "name": "stdout",
     "output_type": "stream",
     "text": [
      "156 25115 0.0062114274338044995\n"
     ]
    }
   ],
   "source": [
    "print(WE, total_words, WER)"
   ]
  },
  {
   "cell_type": "code",
   "execution_count": null,
   "metadata": {},
   "outputs": [],
   "source": []
  }
 ],
 "metadata": {
  "kernelspec": {
   "display_name": "Python 3",
   "language": "python",
   "name": "python3"
  },
  "language_info": {
   "codemirror_mode": {
    "name": "ipython",
    "version": 3
   },
   "file_extension": ".py",
   "mimetype": "text/x-python",
   "name": "python",
   "nbconvert_exporter": "python",
   "pygments_lexer": "ipython3",
   "version": "3.7.5"
  }
 },
 "nbformat": 4,
 "nbformat_minor": 4
}
