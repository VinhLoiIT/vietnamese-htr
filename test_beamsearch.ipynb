{
 "cells": [
  {
   "cell_type": "code",
   "execution_count": 1,
   "metadata": {},
   "outputs": [],
   "source": [
    "import torch\n",
    "import torch.nn\n",
    "import torch.nn.functional as F"
   ]
  },
  {
   "cell_type": "code",
   "execution_count": 2,
   "metadata": {},
   "outputs": [],
   "source": [
    "from model.encoder import Encoder\n",
    "from model.decoder import Decoder"
   ]
  },
  {
   "cell_type": "code",
   "execution_count": 3,
   "metadata": {},
   "outputs": [],
   "source": [
    "device = 'cuda' if torch.cuda.is_available() else 'cpu'\n",
    "# device = 'cpu'"
   ]
  },
  {
   "cell_type": "code",
   "execution_count": 4,
   "metadata": {},
   "outputs": [],
   "source": [
    "import os\n",
    "%matplotlib inline\n",
    "import matplotlib.pyplot as plt\n",
    "import skimage\n",
    "from matplotlib import cm\n",
    "import numpy as np\n",
    "from dataset import get_dataset, collate_fn, vocab_size, int2char, char2int, SOS_CHAR, EOS_CHAR\n",
    "from torch.utils.data import DataLoader\n",
    "from torchvision import transforms\n",
    "from utils import ScaleImageByHeight, PaddingWidth, AverageMeter, accuracy"
   ]
  },
  {
   "cell_type": "code",
   "execution_count": 7,
   "metadata": {},
   "outputs": [],
   "source": [
    "config = {\n",
    "    'batch_size': 32,\n",
    "    'hidden_size': 256,\n",
    "    'attn_size': 256,\n",
    "    'max_length': 10,\n",
    "    'n_epochs_decrease_lr': 15,\n",
    "    'start_learning_rate': 1e-5,  # NOTE: paper start with 1e-8\n",
    "    'end_learning_rate': 1e-11,\n",
    "    'depth': 4,\n",
    "    'n_blocks': 3,\n",
    "    'growth_rate': 96,\n",
    "}"
   ]
  },
  {
   "cell_type": "code",
   "execution_count": 8,
   "metadata": {},
   "outputs": [],
   "source": [
    "MAX_LENGTH = config['max_length']\n",
    "CKPT_DIR = './ckpt'"
   ]
  },
  {
   "cell_type": "code",
   "execution_count": 9,
   "metadata": {},
   "outputs": [],
   "source": [
    "info = torch.load(os.path.join(CKPT_DIR, 'BEST_weights.pt'), map_location='cpu')"
   ]
  },
  {
   "cell_type": "code",
   "execution_count": 10,
   "metadata": {},
   "outputs": [],
   "source": [
    "image_transform = transforms.Compose([\n",
    "    transforms.Grayscale(3),\n",
    "    ScaleImageByHeight(64),\n",
    "    PaddingWidth(64),\n",
    "    transforms.ToTensor(),\n",
    "])"
   ]
  },
  {
   "cell_type": "code",
   "execution_count": 11,
   "metadata": {},
   "outputs": [],
   "source": [
    "test_data = get_dataset('test', image_transform)\n",
    "test_loader = DataLoader(test_data, batch_size=config['batch_size'], shuffle=False, collate_fn=collate_fn, num_workers=2)"
   ]
  },
  {
   "cell_type": "code",
   "execution_count": 12,
   "metadata": {},
   "outputs": [],
   "source": [
    "encoder = Encoder(config['depth'], config['n_blocks'], config['growth_rate'])\n",
    "if info['encoder_state'] is not None:\n",
    "    encoder.load_state_dict(info['encoder_state'])"
   ]
  },
  {
   "cell_type": "code",
   "execution_count": 13,
   "metadata": {},
   "outputs": [],
   "source": [
    "decoder = Decoder(encoder.n_features,\n",
    "                  config['hidden_size'], vocab_size, config['attn_size'])\n",
    "if info['decoder_state'] is not None:\n",
    "    decoder.load_state_dict(info['decoder_state'])"
   ]
  },
  {
   "cell_type": "code",
   "execution_count": 14,
   "metadata": {},
   "outputs": [],
   "source": [
    "encoder = encoder.to(device)\n",
    "decoder = decoder.to(device)"
   ]
  },
  {
   "cell_type": "code",
   "execution_count": 15,
   "metadata": {},
   "outputs": [],
   "source": [
    "encoder.eval()\n",
    "decoder.eval();"
   ]
  },
  {
   "cell_type": "code",
   "execution_count": 16,
   "metadata": {},
   "outputs": [],
   "source": [
    "test_iter = iter(test_loader)"
   ]
  },
  {
   "cell_type": "code",
   "execution_count": 17,
   "metadata": {},
   "outputs": [],
   "source": [
    "imgs, targets, targets_onehot, lengths = next(test_iter)"
   ]
  },
  {
   "cell_type": "code",
   "execution_count": 18,
   "metadata": {},
   "outputs": [
    {
     "data": {
      "text/plain": [
       "torch.Size([32, 3, 64, 198])"
      ]
     },
     "execution_count": 18,
     "metadata": {},
     "output_type": "execute_result"
    }
   ],
   "source": [
    "imgs.size()"
   ]
  },
  {
   "cell_type": "code",
   "execution_count": 19,
   "metadata": {},
   "outputs": [
    {
     "data": {
      "text/plain": [
       "<matplotlib.image.AxesImage at 0x7f255989db00>"
      ]
     },
     "execution_count": 19,
     "metadata": {},
     "output_type": "execute_result"
    },
    {
     "data": {
      "image/png": "[encoded data removed]",
      "text/plain": [
       "<Figure size 432x288 with 1 Axes>"
      ]
     },
     "metadata": {
      "needs_background": "light"
     },
     "output_type": "display_data"
    }
   ],
   "source": [
    "plt.imshow(imgs[0].squeeze().permute(1,2,0))"
   ]
  },
  {
   "cell_type": "code",
   "execution_count": 20,
   "metadata": {},
   "outputs": [
    {
     "data": {
      "text/plain": [
       "torch.Size([8, 32, 1])"
      ]
     },
     "execution_count": 20,
     "metadata": {},
     "output_type": "execute_result"
    }
   ],
   "source": [
    "targets.size()"
   ]
  },
  {
   "cell_type": "code",
   "execution_count": 21,
   "metadata": {},
   "outputs": [
    {
     "data": {
      "text/plain": [
       "'<start>thương<end>'"
      ]
     },
     "execution_count": 21,
     "metadata": {},
     "output_type": "execute_result"
    }
   ],
   "source": [
    "''.join([int2char[x.item()] for x in targets[:,0].squeeze()])"
   ]
  },
  {
   "cell_type": "code",
   "execution_count": 22,
   "metadata": {},
   "outputs": [],
   "source": [
    "start_input = torch.zeros(1, config['batch_size'], vocab_size)\n",
    "start_input[0,0, char2int[SOS_CHAR]] = 1\n",
    "start_input = start_input.to(device)"
   ]
  },
  {
   "cell_type": "code",
   "execution_count": 23,
   "metadata": {},
   "outputs": [],
   "source": [
    "with torch.no_grad():\n",
    "#     for i, (imgs, targets, targets_onehot, lengths) in enumerate(val_loader):\n",
    "    imgs = imgs.to(device)\n",
    "    img_features = encoder(imgs)\n",
    "    outputs, weights = decoder.greedy(img_features, start_input)"
   ]
  },
  {
   "cell_type": "code",
   "execution_count": 24,
   "metadata": {},
   "outputs": [
    {
     "data": {
      "text/plain": [
       "torch.Size([10, 32, 150])"
      ]
     },
     "execution_count": 24,
     "metadata": {},
     "output_type": "execute_result"
    }
   ],
   "source": [
    "outputs.size()"
   ]
  },
  {
   "cell_type": "code",
   "execution_count": 25,
   "metadata": {},
   "outputs": [
    {
     "data": {
      "text/plain": [
       "tensor([[[ 0.3217,  1.9388,  0.7247,  ..., -2.6622, -1.8956, -2.4173],\n",
       "         [-0.5050,  1.5980,  0.2292,  ..., -2.7182, -1.9260, -2.5470],\n",
       "         [-0.7438,  1.3178,  0.2521,  ..., -2.5934, -1.9595, -2.2914],\n",
       "         ...,\n",
       "         [-0.4201,  1.6645,  0.3806,  ..., -2.5863, -1.9598, -2.5551],\n",
       "         [-0.7098,  2.0091,  0.3318,  ..., -2.3692, -2.0378, -2.3056],\n",
       "         [-0.3839,  1.7454,  0.4149,  ..., -2.6335, -1.9430, -2.5016]],\n",
       "\n",
       "        [[-1.5147,  2.2211,  0.1765,  ..., -2.6396, -2.6603, -2.7133],\n",
       "         [-3.4795,  0.8296, -0.8782,  ..., -2.0795, -2.7557, -2.4567],\n",
       "         [-1.4744,  1.6481,  0.6805,  ..., -2.2804, -2.0589, -2.0767],\n",
       "         ...,\n",
       "         [-1.3392,  3.1270,  1.0088,  ..., -0.9150, -1.2656, -2.2586],\n",
       "         [-2.6775,  0.2742, -0.3382,  ..., -0.4393, -1.0438, -1.0020],\n",
       "         [ 2.3135,  4.9120,  6.3203,  ..., -0.6933, -0.8653, -1.1373]],\n",
       "\n",
       "        [[-4.3394, -2.6385, -2.5104,  ..., -2.2125, -3.7522, -3.1331],\n",
       "         [-0.9668, -2.3155, -3.0134,  ..., -2.6137, -3.1769, -3.4965],\n",
       "         [-3.3642, -2.7566, -2.6388,  ..., -1.5777, -3.2958, -2.1003],\n",
       "         ...,\n",
       "         [ 0.4908, -0.7076, -0.3802,  ...,  2.1637, -0.2634, -0.5904],\n",
       "         [-1.1049,  0.1162,  0.0122,  ..., -0.9976, -1.9878, -1.8253],\n",
       "         [ 1.3114,  3.9344,  3.6061,  ..., -0.8159, -1.9329, -1.5750]],\n",
       "\n",
       "        ...,\n",
       "\n",
       "        [[ 0.6028, -0.2939,  1.2816,  ..., -1.0605, -2.6605, -1.9199],\n",
       "         [ 0.6010,  0.9455,  2.0766,  ..., -1.3620, -2.5855, -1.9896],\n",
       "         [ 0.3827,  1.1179,  1.9888,  ..., -1.8917, -2.9544, -2.6758],\n",
       "         ...,\n",
       "         [ 0.2388,  1.1493,  1.4531,  ..., -0.6064, -2.1354, -1.8679],\n",
       "         [ 0.0152,  0.7978,  0.8942,  ..., -0.4543, -1.9155, -1.8514],\n",
       "         [ 0.7782,  1.7186,  1.8316,  ..., -0.8544, -1.7900, -1.7772]],\n",
       "\n",
       "        [[ 0.9344,  1.4429,  2.2689,  ..., -1.6285, -2.6792, -2.5802],\n",
       "         [ 0.6295,  1.1966,  2.3415,  ..., -1.2167, -2.5598, -2.0492],\n",
       "         [ 0.4530,  1.1019,  2.1065,  ..., -1.7154, -2.8030, -2.5184],\n",
       "         ...,\n",
       "         [ 0.2505,  1.1668,  1.4723,  ..., -0.6033, -2.1269, -1.8582],\n",
       "         [ 0.0487,  0.8337,  0.9292,  ..., -0.4497, -1.9144, -1.8438],\n",
       "         [ 0.7658,  1.7000,  1.8123,  ..., -0.8497, -1.7926, -1.7717]],\n",
       "\n",
       "        [[ 0.8477,  1.3905,  2.2182,  ..., -1.2339, -2.5728, -2.2404],\n",
       "         [ 0.6699,  1.2687,  2.3544,  ..., -1.1400, -2.5222, -1.9729],\n",
       "         [ 0.5163,  1.0840,  2.1672,  ..., -1.6811, -2.7925, -2.4857],\n",
       "         ...,\n",
       "         [ 0.2600,  1.1790,  1.4890,  ..., -0.6013, -2.1221, -1.8512],\n",
       "         [ 0.0773,  0.8640,  0.9595,  ..., -0.4457, -1.9138, -1.8362],\n",
       "         [ 0.7555,  1.6850,  1.7991,  ..., -0.8441, -1.7933, -1.7660]]])"
      ]
     },
     "execution_count": 25,
     "metadata": {},
     "output_type": "execute_result"
    }
   ],
   "source": [
    "outputs"
   ]
  },
  {
   "cell_type": "code",
   "execution_count": 26,
   "metadata": {},
   "outputs": [],
   "source": [
    "_, index = outputs.topk(1, -1)"
   ]
  },
  {
   "cell_type": "code",
   "execution_count": 27,
   "metadata": {},
   "outputs": [
    {
     "data": {
      "text/plain": [
       "torch.Size([10, 32, 1])"
      ]
     },
     "execution_count": 27,
     "metadata": {},
     "output_type": "execute_result"
    }
   ],
   "source": [
    "index.size()"
   ]
  },
  {
   "cell_type": "code",
   "execution_count": 28,
   "metadata": {},
   "outputs": [
    {
     "data": {
      "text/plain": [
       "[['<start>', 't', 'h', 'ư', 'ơ', 'n', 'g', '<end>'],\n",
       " ['<start>', 'h', 'u', 'y', 'ệ', 'n', '<end>'],\n",
       " ['<start>', 'T', 'h', 'à', 'n', 'h', '<end>'],\n",
       " ['<start>', 'n', 'g', 'ư', 'ờ', 'i', '<end>'],\n",
       " ['<start>', 't', 'ì', 'n', 'h', '<end>'],\n",
       " ['<start>', 'T', 'i', 'ê', 'n', '<end>'],\n",
       " ['<start>', 'L', 'ô', 'n', 'g', '<end>'],\n",
       " ['<start>', 'T', 'i', 'ê', 'n', '<end>'],\n",
       " ['<start>', 'b', 'o', 'n', 'g', '<end>'],\n",
       " ['<start>', 'c', 'h', 'â', 'u', '<end>'],\n",
       " ['<start>', 'T', 'm', 'n', '<end>'],\n",
       " ['<start>', 'g', 'i', 'à', '<end>'],\n",
       " ['<start>', 'n', 'ă', 'm', '<end>'],\n",
       " ['<start>', 'l', 'à', 'n', '<end>'],\n",
       " ['<start>', 'n', 'h', 'à', '<end>'],\n",
       " ['<start>', 'T', 'ô', 'i', '<end>'],\n",
       " ['<start>', 'g', 'á', 'p', '<end>'],\n",
       " ['<start>', 'ô', 'n', 'g', '<end>'],\n",
       " ['<start>', 'V', 'ă', 'n', '<end>'],\n",
       " ['<start>', 'T', 'á', 'm', '<end>'],\n",
       " ['<start>', 'n', 'g', 'y', '<end>'],\n",
       " ['<start>', 'B', 'ế', 'n', '<end>'],\n",
       " ['<start>', 'T', 'r', 'e', '<end>'],\n",
       " ['<start>', '3', '0', '<end>'],\n",
       " ['<start>', 'l', 'ê', '<end>'],\n",
       " ['<start>', 'a', 'n', '<end>'],\n",
       " ['<start>', 'a', 'n', '<end>'],\n",
       " ['<start>', 'ấ', 'p', '<end>'],\n",
       " ['<start>', 'x', 'ã', '<end>'],\n",
       " ['<start>', 'l', 'à', '<end>'],\n",
       " ['<start>', 'ở', '<end>'],\n",
       " ['<start>', '2', '<end>']]"
      ]
     },
     "execution_count": 28,
     "metadata": {},
     "output_type": "execute_result"
    }
   ],
   "source": [
    "predicts = index.squeeze().transpose(0, 1) # [B, T]\n",
    "predicts_str = []\n",
    "for predict in predicts:\n",
    "    s = [int2char[x.item()] for x in predict]\n",
    "    try:\n",
    "        eos_index = s.index(EOS_CHAR) + 1\n",
    "    except ValueError:\n",
    "        eos_index = len(s)\n",
    "    predicts_str.append(s[:eos_index])\n",
    "\n",
    "predicts_str"
   ]
  },
  {
   "cell_type": "code",
   "execution_count": 29,
   "metadata": {},
   "outputs": [
    {
     "data": {
      "text/plain": [
       "tensor([[[4.6545e-07, 2.3452e-06, 6.9648e-07,  ..., 2.3549e-08,\n",
       "          5.0691e-08, 3.0084e-08],\n",
       "         [4.5304e-06, 1.8992e-04, 2.4582e-05,  ..., 1.4711e-06,\n",
       "          1.4409e-06, 1.3665e-06],\n",
       "         [4.0804e-08, 2.2357e-07, 2.5411e-07,  ..., 3.4232e-07,\n",
       "          7.3408e-08, 1.3634e-07],\n",
       "         ...,\n",
       "         [2.3987e-05, 9.7850e-06, 4.7290e-05,  ..., 4.5461e-06,\n",
       "          9.1780e-07, 1.9249e-06],\n",
       "         [4.0676e-06, 6.7631e-06, 1.5448e-05,  ..., 3.1350e-07,\n",
       "          1.0964e-07, 1.2104e-07],\n",
       "         [2.8555e-06, 4.9137e-06, 1.1243e-05,  ..., 3.5616e-07,\n",
       "          9.3362e-08, 1.3018e-07]],\n",
       "\n",
       "        [[1.9710e-07, 1.6143e-06, 4.1073e-07,  ..., 2.1552e-08,\n",
       "          4.7594e-08, 2.5576e-08],\n",
       "         [7.4894e-06, 5.5700e-04, 1.0096e-04,  ..., 3.0370e-05,\n",
       "          1.5445e-05, 2.0828e-05],\n",
       "         [1.1768e-05, 3.0547e-06, 1.5202e-06,  ..., 2.2671e-06,\n",
       "          1.2908e-06, 9.3769e-07],\n",
       "         ...,\n",
       "         [1.1981e-06, 1.6907e-06, 5.2396e-06,  ..., 1.6824e-07,\n",
       "          4.9495e-08, 8.9820e-08],\n",
       "         [1.1619e-06, 2.0487e-06, 6.4375e-06,  ..., 1.8340e-07,\n",
       "          4.7876e-08, 7.9770e-08],\n",
       "         [1.2496e-06, 2.2743e-06, 6.7354e-06,  ..., 2.0453e-07,\n",
       "          5.1340e-08, 8.8922e-08]],\n",
       "\n",
       "        [[3.2793e-07, 2.5771e-06, 8.8771e-07,  ..., 5.1583e-08,\n",
       "          9.7227e-08, 6.9765e-08],\n",
       "         [8.1510e-06, 1.8506e-04, 7.0318e-05,  ..., 3.6408e-06,\n",
       "          4.5434e-06, 4.4631e-06],\n",
       "         [8.9817e-07, 1.6490e-06, 1.8552e-06,  ..., 5.3607e-06,\n",
       "          9.6170e-07, 3.1788e-06],\n",
       "         ...,\n",
       "         [1.5994e-06, 3.3360e-06, 7.9699e-06,  ..., 1.6450e-07,\n",
       "          5.6841e-08, 7.5104e-08],\n",
       "         [1.5383e-06, 2.9434e-06, 8.0373e-06,  ..., 1.7591e-07,\n",
       "          5.9289e-08, 7.8806e-08],\n",
       "         [1.5622e-06, 2.7560e-06, 8.1419e-06,  ..., 1.7356e-07,\n",
       "          5.7115e-08, 7.7625e-08]],\n",
       "\n",
       "        ...,\n",
       "\n",
       "        [[2.6551e-07, 2.1351e-06, 5.9130e-07,  ..., 3.0430e-08,\n",
       "          5.6935e-08, 3.1393e-08],\n",
       "         [1.7429e-05, 1.5166e-03, 1.8237e-04,  ..., 2.6637e-05,\n",
       "          1.8759e-05, 6.9497e-06],\n",
       "         [3.3455e-05, 1.0093e-05, 1.4002e-05,  ..., 1.7824e-04,\n",
       "          1.5737e-05, 1.1348e-05],\n",
       "         ...,\n",
       "         [1.0247e-06, 2.5470e-06, 3.4513e-06,  ..., 4.4010e-07,\n",
       "          9.5390e-08, 1.2465e-07],\n",
       "         [1.0320e-06, 2.5801e-06, 3.5021e-06,  ..., 4.3945e-07,\n",
       "          9.5766e-08, 1.2529e-07],\n",
       "         [1.0398e-06, 2.6067e-06, 3.5541e-06,  ..., 4.3945e-07,\n",
       "          9.6036e-08, 1.2592e-07]],\n",
       "\n",
       "        [[1.6670e-06, 2.5278e-05, 4.7238e-06,  ..., 3.1716e-07,\n",
       "          4.4179e-07, 3.3799e-07],\n",
       "         [6.3471e-05, 1.2148e-03, 6.5844e-04,  ..., 5.9518e-04,\n",
       "          3.2518e-04, 3.3905e-04],\n",
       "         [4.0873e-06, 1.3860e-05, 1.2490e-05,  ..., 4.5501e-06,\n",
       "          1.6905e-06, 1.9886e-06],\n",
       "         ...,\n",
       "         [1.6030e-06, 3.5059e-06, 3.8610e-06,  ..., 1.0024e-06,\n",
       "          2.3252e-07, 2.4791e-07],\n",
       "         [1.5946e-06, 3.4959e-06, 3.8463e-06,  ..., 9.6871e-07,\n",
       "          2.2392e-07, 2.4030e-07],\n",
       "         [1.5917e-06, 3.4959e-06, 3.8461e-06,  ..., 9.4352e-07,\n",
       "          2.1736e-07, 2.3488e-07]],\n",
       "\n",
       "        [[2.2572e-07, 1.8981e-06, 5.0175e-07,  ..., 2.3800e-08,\n",
       "          4.7477e-08, 2.7156e-08],\n",
       "         [6.2572e-03, 8.4118e-02, 3.4395e-01,  ..., 3.0941e-04,\n",
       "          2.6052e-04, 1.9848e-04],\n",
       "         [1.0981e-04, 1.5130e-03, 1.0896e-03,  ..., 1.3085e-05,\n",
       "          4.2823e-06, 6.1249e-06],\n",
       "         ...,\n",
       "         [2.6794e-06, 6.8617e-06, 7.6827e-06,  ..., 5.2361e-07,\n",
       "          2.0545e-07, 2.0808e-07],\n",
       "         [2.6015e-06, 6.6215e-06, 7.4082e-06,  ..., 5.1718e-07,\n",
       "          2.0143e-07, 2.0568e-07],\n",
       "         [2.5468e-06, 6.4518e-06, 7.2310e-06,  ..., 5.1436e-07,\n",
       "          1.9910e-07, 2.0460e-07]]])"
      ]
     },
     "execution_count": 29,
     "metadata": {},
     "output_type": "execute_result"
    }
   ],
   "source": [
    "outputs2 = torch.nn.functional.softmax(outputs.transpose(0,1), dim=2)\n",
    "outputs2"
   ]
  },
  {
   "cell_type": "code",
   "execution_count": 63,
   "metadata": {},
   "outputs": [],
   "source": [
    "# beam search\n",
    "def beam_search_decoder(data, k=3):\n",
    "    res = []\n",
    "    sequences = [[list(), 1.0]]\n",
    "    for row in data:\n",
    "        all_candidates = list()\n",
    "        for i in range(len(sequences)):\n",
    "            seq, score = sequences[i]\n",
    "            for j in range(len(row)):\n",
    "                candidate = [seq + [j], score * -torch.log(row[j])]\n",
    "                all_candidates.append(candidate)\n",
    "        ordered = sorted(all_candidates, key=lambda tup:tup[1])\n",
    "        sequences = ordered[:k]\n",
    "        \n",
    "        res += [x for x in sequences if x[0][-1] == char2int[EOS_CHAR]]\n",
    "        sequences = [x for x in sequences if x[0][-1] != char2int[EOS_CHAR]]\n",
    "        if len(res)==3:\n",
    "            break\n",
    "    return sorted(res, key=lambda tup:tup[1])[0][0]"
   ]
  },
  {
   "cell_type": "code",
   "execution_count": 64,
   "metadata": {},
   "outputs": [
    {
     "data": {
      "text/plain": [
       "[['<start>', 't', 'h', 'ư', 'ơ', 'n', 'g', '<end>'],\n",
       " ['<start>', 'h', 'u', 'y', 'ệ', 'n', '<end>'],\n",
       " ['<start>', 'T', 'h', 'à', 'n', 'h', '<end>'],\n",
       " ['<start>', 'n', 'g', 'ư', 'ờ', 'i', '<end>'],\n",
       " ['<start>', 't', 'ì', 'n', 'h', 'h', '<end>'],\n",
       " ['<start>', 'T', 'i', 'ê', 'n', '<end>'],\n",
       " ['<start>', 'L', 'ô', 'n', 'g', '<end>'],\n",
       " ['<start>', 'T', 'i', 'ê', 'n', '<end>'],\n",
       " ['<start>', 'b', 'o', 'n', 'g', '<end>'],\n",
       " ['<start>', 'c', 'h', 'â', 'u', '<end>'],\n",
       " ['<start>', 'T', 'm', 'n', '<end>'],\n",
       " ['<start>', 'g', 'i', 'à', '<end>'],\n",
       " ['<start>', 'n', 'ă', 'm', '<end>'],\n",
       " ['<start>', 'l', 'à', 'n', '<end>'],\n",
       " ['<start>', 'n', 'h', 'à', '<end>'],\n",
       " ['<start>', 'T', 'ô', 'i', '<end>'],\n",
       " ['<start>', 'g', 'á', 'p', '<end>'],\n",
       " ['<start>', 'ô', 'n', 'g', '<end>'],\n",
       " ['<start>', 'V', 'ă', 'n', '<end>'],\n",
       " ['<start>', 'T', 'á', 'm', '<end>'],\n",
       " ['<start>', 'n', 'g', 'y', '<end>'],\n",
       " ['<start>', 'B', 'ế', 'n', '<end>'],\n",
       " ['<start>', 'T', 'r', 'e', '<end>'],\n",
       " ['<start>', '3', '0', '<end>'],\n",
       " ['<start>', 'l', 'ê', '<end>'],\n",
       " ['<start>', 'a', 'n', '<end>'],\n",
       " ['<start>', 'a', 'n', '<end>'],\n",
       " ['<start>', 'ấ', 'p', '<end>'],\n",
       " ['<start>', 'x', 'ã', '<end>'],\n",
       " ['<start>', 'l', 'à', '<end>'],\n",
       " ['<start>', 'ở', '<end>'],\n",
       " ['<start>', '2', '<end>']]"
      ]
     },
     "execution_count": 64,
     "metadata": {},
     "output_type": "execute_result"
    }
   ],
   "source": [
    "predicts = [beam_search_decoder(o) for o in outputs2]\n",
    "predicts_str = []\n",
    "for predict in predicts:\n",
    "    s = [int2char[x] for x in predict]\n",
    "    try:\n",
    "        eos_index = s.index(EOS_CHAR) + 1\n",
    "    except ValueError:\n",
    "        eos_index = len(s)\n",
    "    predicts_str.append(s[:eos_index])\n",
    "\n",
    "predicts_str"
   ]
  },
  {
   "cell_type": "code",
   "execution_count": 27,
   "metadata": {},
   "outputs": [
    {
     "data": {
      "text/plain": [
       "torch.Size([10, 32, 48])"
      ]
     },
     "execution_count": 27,
     "metadata": {},
     "output_type": "execute_result"
    }
   ],
   "source": [
    "weights.size()"
   ]
  },
  {
   "cell_type": "code",
   "execution_count": 28,
   "metadata": {},
   "outputs": [
    {
     "name": "stdout",
     "output_type": "stream",
     "text": [
      "64 198\n"
     ]
    }
   ],
   "source": [
    "img_rows, img_cols = imgs.size(2), imgs.size(3)\n",
    "print(img_rows, img_cols)"
   ]
  },
  {
   "cell_type": "code",
   "execution_count": 29,
   "metadata": {},
   "outputs": [
    {
     "data": {
      "text/plain": [
       "32"
      ]
     },
     "execution_count": 29,
     "metadata": {},
     "output_type": "execute_result"
    }
   ],
   "source": [
    "length = len(predicts)\n",
    "length"
   ]
  },
  {
   "cell_type": "markdown",
   "metadata": {},
   "source": [
    "# Visualize a sample"
   ]
  },
  {
   "cell_type": "code",
   "execution_count": 30,
   "metadata": {},
   "outputs": [
    {
     "data": {
      "image/png": "[encoded data removed]",
      "text/plain": [
       "<Figure size 1080x1080 with 8 Axes>"
      ]
     },
     "metadata": {
      "needs_background": "light"
     },
     "output_type": "display_data"
    }
   ],
   "source": [
    "sample_index = 0\n",
    "sample_image, sample_predict, sample_weigth = imgs[sample_index], predicts_str[sample_index], weights[:, [sample_index]]\n",
    "fig, axeses = plt.subplots(len(sample_predict), figsize=(15,15), sharex=True, sharey=True)\n",
    "\n",
    "for i, axes in enumerate(axeses.ravel()):\n",
    "    weight = weights[i].reshape(-1, config['batch_size'], img_rows // 16, img_cols // 16) # 16 is factor that DenseNet reduce the original image size\n",
    "    weight_numpy = weight.cpu().numpy()[:,sample_index,:].squeeze()\n",
    "    weight_image = skimage.transform.resize(weight_numpy, (img_rows, img_cols))\n",
    "    \n",
    "    img = sample_image.squeeze().permute(1,2,0).cpu().numpy()[:,:,0]\n",
    "    \n",
    "    alpha = 0.5\n",
    "    blend = img * alpha + weight_image * (1-alpha)\n",
    "    \n",
    "    axes.set_title(sample_predict[i])\n",
    "    axes.imshow(blend)\n",
    "plt.plot();"
   ]
  },
  {
   "cell_type": "markdown",
   "metadata": {},
   "source": [
    "# Calc CER, WER on the test set"
   ]
  },
  {
   "cell_type": "markdown",
   "metadata": {},
   "source": [
    "## CER"
   ]
  },
  {
   "cell_type": "code",
   "execution_count": 54,
   "metadata": {},
   "outputs": [],
   "source": [
    "import editdistance as ed"
   ]
  },
  {
   "cell_type": "code",
   "execution_count": 55,
   "metadata": {},
   "outputs": [],
   "source": [
    "from tqdm.notebook import tqdm"
   ]
  },
  {
   "cell_type": "code",
   "execution_count": 33,
   "metadata": {},
   "outputs": [
    {
     "data": {
      "application/vnd.jupyter.widget-view+json": {
       "model_id": "9c1830123ce24cfb9f053d80eb40327e",
       "version_major": 2,
       "version_minor": 0
      },
      "text/plain": [
       "HBox(children=(IntProgress(value=0, max=785), HTML(value='')))"
      ]
     },
     "metadata": {},
     "output_type": "display_data"
    },
    {
     "name": "stdout",
     "output_type": "stream",
     "text": [
      "\n"
     ]
    }
   ],
   "source": [
    "total_characters = 0\n",
    "total_words = 0\n",
    "CE = 0\n",
    "WE = 0\n",
    "log_interval = 10\n",
    "\n",
    "t = tqdm(test_loader)\n",
    "with torch.no_grad():\n",
    "    for (imgs, targets, targets_onehot, lengths) in t:\n",
    "        batch_size = imgs.size(0)\n",
    "        \n",
    "        start_input = torch.zeros(1, batch_size, vocab_size)\n",
    "        start_input[0,0, char2int[SOS_CHAR]] = 1\n",
    "        start_input = start_input.to(device)\n",
    "        imgs = imgs.to(device)\n",
    "        \n",
    "        img_features = encoder(imgs)\n",
    "        outputs, weights = decoder.greedy(img_features, start_input)\n",
    "        \n",
    "        _, index = outputs.topk(1, -1)\n",
    "        predicts = index.squeeze().transpose(0, 1) # [B, T]\n",
    "        predicts_str = []\n",
    "        for predict in predicts:\n",
    "            s = [int2char[x.item()] for x in predict]\n",
    "            try:\n",
    "                eos_index = s.index(EOS_CHAR) + 1\n",
    "            except ValueError:\n",
    "                eos_index = len(s)\n",
    "            predicts_str.append(s[:eos_index])\n",
    "\n",
    "        targets_str = []\n",
    "        for target in targets.transpose(0, 1).squeeze():\n",
    "            s = [int2char[x.item()] for x in target]\n",
    "            try:\n",
    "                eos_index = s.index(EOS_CHAR) + 1\n",
    "            except ValueError:\n",
    "                eos_index = len(s)\n",
    "            targets_str.append(s[:eos_index])\n",
    "        \n",
    "        assert len(predicts_str) == len(targets_str)\n",
    "        for i in range(len(predicts_str)):\n",
    "            CE += ed.distance(predicts_str[i], targets_str[i])\n",
    "        total_characters += lengths.sum().item()\n",
    "        \n",
    "        for i in range(len(predicts_str)):\n",
    "            WE += 1 if np.array_equal(np.array(predicts_str[i]), np.array(targets_str[i])) else 0\n",
    "        total_words += len(predicts_str)\n",
    "        \n",
    "        t.update()"
   ]
  },
  {
   "cell_type": "code",
   "execution_count": 34,
   "metadata": {},
   "outputs": [
    {
     "name": "stdout",
     "output_type": "stream",
     "text": [
      "CER 0.13170666048501073\n",
      "WER 0.5272944455504679\n"
     ]
    }
   ],
   "source": [
    "CER = CE / total_characters\n",
    "WER = WE / total_words\n",
    "print('CER', CER)\n",
    "print('WER', WER)"
   ]
  },
  {
   "cell_type": "code",
   "execution_count": 56,
   "metadata": {},
   "outputs": [
    {
     "data": {
      "application/vnd.jupyter.widget-view+json": {
       "model_id": "9e082f18cc0d4ac9ba99b3b025278132",
       "version_major": 2,
       "version_minor": 0
      },
      "text/plain": [
       "HBox(children=(IntProgress(value=0, max=785), HTML(value='')))"
      ]
     },
     "metadata": {},
     "output_type": "display_data"
    },
    {
     "name": "stdout",
     "output_type": "stream",
     "text": [
      "\n"
     ]
    }
   ],
   "source": [
    "total_characters = 0\n",
    "total_words = 0\n",
    "CE = 0\n",
    "WE = 0\n",
    "log_interval = 10\n",
    "\n",
    "t = tqdm(test_loader)\n",
    "with torch.no_grad():\n",
    "    for (imgs, targets, targets_onehot, lengths) in t:\n",
    "        batch_size = imgs.size(0)\n",
    "        \n",
    "        start_input = torch.zeros(1, batch_size, vocab_size)\n",
    "        start_input[0,0, char2int[SOS_CHAR]] = 1\n",
    "        start_input = start_input.to(device)\n",
    "        imgs = imgs.to(device)\n",
    "        \n",
    "        img_features = encoder(imgs)\n",
    "        outputs, weights = decoder.greedy(img_features, start_input)\n",
    "        \n",
    "        outputs = torch.nn.functional.softmax(outputs.transpose(0,1), dim=2)\n",
    "        \n",
    "        predicts = [beam_search_decoder(output) for output in outputs]\n",
    "        predicts_str = []\n",
    "        for predict in predicts:\n",
    "            s = [int2char[x] for x in predict]\n",
    "            try:\n",
    "                eos_index = s.index(EOS_CHAR) + 1\n",
    "            except ValueError:\n",
    "                eos_index = len(s)\n",
    "            predicts_str.append(s[:eos_index])\n",
    "\n",
    "        targets_str = []\n",
    "        for target in targets.transpose(0, 1).squeeze():\n",
    "            s = [int2char[x.item()] for x in target]\n",
    "            try:\n",
    "                eos_index = s.index(EOS_CHAR) + 1\n",
    "            except ValueError:\n",
    "                eos_index = len(s)\n",
    "            targets_str.append(s[:eos_index])\n",
    "        \n",
    "        assert len(predicts_str) == len(targets_str)\n",
    "        for i in range(len(predicts_str)):\n",
    "            CE += ed.distance(predicts_str[i], targets_str[i])\n",
    "        total_characters += lengths.sum().item()\n",
    "        \n",
    "        for i in range(len(predicts_str)):\n",
    "            WE += 1 if np.array_equal(np.array(predicts_str[i]), np.array(targets_str[i])) else 0\n",
    "        total_words += len(predicts_str)\n",
    "        \n",
    "        t.update()"
   ]
  },
  {
   "cell_type": "code",
   "execution_count": 57,
   "metadata": {},
   "outputs": [
    {
     "name": "stdout",
     "output_type": "stream",
     "text": [
      "CER 0.1317515273426108\n",
      "WER 0.5278518813458093\n"
     ]
    }
   ],
   "source": [
    "CER = CE / total_characters\n",
    "WER = WE / total_words\n",
    "print('CER', CER)\n",
    "print('WER', WER)"
   ]
  }
 ],
 "metadata": {
  "kernelspec": {
   "display_name": "Python 3",
   "language": "python",
   "name": "python3"
  },
  "language_info": {
   "codemirror_mode": {
    "name": "ipython",
    "version": 3
   },
   "file_extension": ".py",
   "mimetype": "text/x-python",
   "name": "python",
   "nbconvert_exporter": "python",
   "pygments_lexer": "ipython3",
   "version": "3.6.8"
  }
 },
 "nbformat": 4,
 "nbformat_minor": 4
}
