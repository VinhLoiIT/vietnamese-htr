{
 "cells": [
  {
   "cell_type": "code",
   "execution_count": 1,
   "metadata": {},
   "outputs": [],
   "source": [
    "import torch\n",
    "import torch.nn\n",
    "import torch.nn.functional as F"
   ]
  },
  {
   "cell_type": "code",
   "execution_count": 2,
   "metadata": {},
   "outputs": [],
   "source": [
    "from model.encoder import Encoder\n",
    "from model.decoder import Decoder"
   ]
  },
  {
   "cell_type": "code",
   "execution_count": 3,
   "metadata": {},
   "outputs": [],
   "source": [
    "device = 'cuda' if torch.cuda.is_available() else 'cpu'\n",
    "# device = 'cpu'"
   ]
  },
  {
   "cell_type": "code",
   "execution_count": 4,
   "metadata": {},
   "outputs": [],
   "source": [
    "import os\n",
    "%matplotlib inline\n",
    "import matplotlib.pyplot as plt\n",
    "import skimage\n",
    "from matplotlib import cm\n",
    "import numpy as np\n",
    "from dataset import get_dataset, collate_fn, vocab_size, int2char, char2int, SOS_CHAR, EOS_CHAR\n",
    "from torch.utils.data import DataLoader\n",
    "from torchvision import transforms\n",
    "from utils import ScaleImageByHeight, PaddingWidth, AverageMeter, accuracy"
   ]
  },
  {
   "cell_type": "code",
   "execution_count": 5,
   "metadata": {},
   "outputs": [],
   "source": [
    "config = {\n",
    "    'batch_size': 32,\n",
    "    'hidden_size': 256,\n",
    "    'attn_size': 256,\n",
    "    'max_length': 10,\n",
    "    'n_epochs_decrease_lr': 15,\n",
    "    'start_learning_rate': 1e-5,  # NOTE: paper start with 1e-8\n",
    "    'end_learning_rate': 1e-11,\n",
    "    'depth': 4,\n",
    "    'n_blocks': 3,\n",
    "    'growth_rate': 96,\n",
    "}"
   ]
  },
  {
   "cell_type": "code",
   "execution_count": 6,
   "metadata": {},
   "outputs": [],
   "source": [
    "MAX_LENGTH = config['max_length']\n",
    "CKPT_DIR = './ckpt'"
   ]
  },
  {
   "cell_type": "code",
   "execution_count": 7,
   "metadata": {},
   "outputs": [],
   "source": [
    "info = torch.load(os.path.join(CKPT_DIR, '02012020_223655/BEST_weights_56_0.9035624686402408.pt'), map_location='cpu')"
   ]
  },
  {
   "cell_type": "code",
   "execution_count": 8,
   "metadata": {},
   "outputs": [],
   "source": [
    "image_transform = transforms.Compose([\n",
    "    transforms.Grayscale(3),\n",
    "    ScaleImageByHeight(128),\n",
    "    transforms.ToTensor(),\n",
    "    transforms.Normalize(mean=[0.485, 0.456, 0.406],\n",
    "                         std=[0.229, 0.224, 0.225])\n",
    "])"
   ]
  },
  {
   "cell_type": "code",
   "execution_count": 9,
   "metadata": {},
   "outputs": [],
   "source": [
    "test_data = get_dataset('test', image_transform)\n",
    "test_loader = DataLoader(test_data, batch_size=config['batch_size'], shuffle=False, collate_fn=collate_fn, num_workers=2)"
   ]
  },
  {
   "cell_type": "code",
   "execution_count": 10,
   "metadata": {},
   "outputs": [],
   "source": [
    "encoder = Encoder(config['depth'], config['n_blocks'], config['growth_rate'])\n",
    "if info['encoder_state'] is not None:\n",
    "    encoder.load_state_dict(info['encoder_state'])"
   ]
  },
  {
   "cell_type": "code",
   "execution_count": 11,
   "metadata": {},
   "outputs": [],
   "source": [
    "decoder = Decoder(encoder.n_features,\n",
    "                  config['hidden_size'], vocab_size, config['attn_size'])\n",
    "if info['decoder_state'] is not None:\n",
    "    decoder.load_state_dict(info['decoder_state'])"
   ]
  },
  {
   "cell_type": "code",
   "execution_count": 12,
   "metadata": {},
   "outputs": [],
   "source": [
    "encoder = encoder.to(device)\n",
    "decoder = decoder.to(device)"
   ]
  },
  {
   "cell_type": "code",
   "execution_count": 13,
   "metadata": {},
   "outputs": [],
   "source": [
    "encoder.eval()\n",
    "decoder.eval();"
   ]
  },
  {
   "cell_type": "code",
   "execution_count": 14,
   "metadata": {},
   "outputs": [],
   "source": [
    "test_iter = iter(test_loader)"
   ]
  },
  {
   "cell_type": "code",
   "execution_count": 15,
   "metadata": {},
   "outputs": [],
   "source": [
    "imgs, targets, targets_onehot, lengths = next(test_iter)"
   ]
  },
  {
   "cell_type": "code",
   "execution_count": 16,
   "metadata": {},
   "outputs": [
    {
     "data": {
      "text/plain": [
       "torch.Size([32, 3, 128, 396])"
      ]
     },
     "execution_count": 16,
     "metadata": {},
     "output_type": "execute_result"
    }
   ],
   "source": [
    "imgs.size()"
   ]
  },
  {
   "cell_type": "code",
   "execution_count": 17,
   "metadata": {},
   "outputs": [
    {
     "name": "stderr",
     "output_type": "stream",
     "text": [
      "Clipping input data to the valid range for imshow with RGB data ([0..1] for floats or [0..255] for integers).\n"
     ]
    },
    {
     "data": {
      "text/plain": [
       "<matplotlib.image.AxesImage at 0x7ff852019c90>"
      ]
     },
     "execution_count": 17,
     "metadata": {},
     "output_type": "execute_result"
    },
    {
     "data": {
      "image/png": "[encoded data removed]",
      "text/plain": [
       "<Figure size 432x288 with 1 Axes>"
      ]
     },
     "metadata": {
      "needs_background": "light"
     },
     "output_type": "display_data"
    }
   ],
   "source": [
    "plt.imshow(imgs[0].squeeze().permute(1,2,0))"
   ]
  },
  {
   "cell_type": "code",
   "execution_count": 18,
   "metadata": {},
   "outputs": [
    {
     "data": {
      "text/plain": [
       "torch.Size([8, 32, 1])"
      ]
     },
     "execution_count": 18,
     "metadata": {},
     "output_type": "execute_result"
    }
   ],
   "source": [
    "targets.size()"
   ]
  },
  {
   "cell_type": "code",
   "execution_count": 19,
   "metadata": {},
   "outputs": [
    {
     "data": {
      "text/plain": [
       "'<start>thương<end>'"
      ]
     },
     "execution_count": 19,
     "metadata": {},
     "output_type": "execute_result"
    }
   ],
   "source": [
    "''.join([int2char[x.item()] for x in targets[:,0].squeeze()])"
   ]
  },
  {
   "cell_type": "code",
   "execution_count": 20,
   "metadata": {},
   "outputs": [],
   "source": [
    "start_input = torch.zeros(1, config['batch_size'], vocab_size)\n",
    "start_input[0,0, char2int[SOS_CHAR]] = 1\n",
    "start_input = start_input.to(device)"
   ]
  },
  {
   "cell_type": "code",
   "execution_count": 21,
   "metadata": {},
   "outputs": [],
   "source": [
    "with torch.no_grad():\n",
    "#     for i, (imgs, targets, targets_onehot, lengths) in enumerate(val_loader):\n",
    "    imgs = imgs.to(device)\n",
    "    img_features = encoder(imgs)\n",
    "    outputs, weights = decoder.greedy(img_features, start_input)"
   ]
  },
  {
   "cell_type": "code",
   "execution_count": 22,
   "metadata": {},
   "outputs": [
    {
     "data": {
      "text/plain": [
       "torch.Size([10, 32, 150])"
      ]
     },
     "execution_count": 22,
     "metadata": {},
     "output_type": "execute_result"
    }
   ],
   "source": [
    "outputs.size()"
   ]
  },
  {
   "cell_type": "code",
   "execution_count": 23,
   "metadata": {},
   "outputs": [
    {
     "data": {
      "text/plain": [
       "tensor([[[ 1.8638e+00, -5.9696e-01,  7.4219e-01,  ..., -1.7447e+00,\n",
       "          -1.6931e+00, -1.2266e+00],\n",
       "         [ 1.2485e+00, -6.5061e-01,  7.3133e-01,  ..., -2.0199e+00,\n",
       "          -2.0367e+00, -1.5119e+00],\n",
       "         [ 1.6489e+00, -4.5454e-01,  2.0363e-01,  ..., -1.7369e+00,\n",
       "          -2.0501e+00, -1.5954e+00],\n",
       "         ...,\n",
       "         [ 1.1500e+00, -9.0042e-01,  1.6204e+00,  ..., -2.2862e+00,\n",
       "          -2.4466e+00, -2.1726e+00],\n",
       "         [ 8.5885e-01, -7.6511e-01,  1.6060e+00,  ..., -1.8442e+00,\n",
       "          -2.1286e+00, -1.7298e+00],\n",
       "         [ 1.4260e+00,  1.2648e+00,  1.0548e+00,  ..., -1.9019e+00,\n",
       "          -1.7609e+00, -1.5714e+00]],\n",
       "\n",
       "        [[-1.1032e+00,  7.8203e-01,  3.2326e-01,  ..., -2.3061e+00,\n",
       "          -2.5279e+00, -2.2266e+00],\n",
       "         [-5.8481e-01, -4.0003e-02, -1.0603e+00,  ..., -2.3778e+00,\n",
       "          -2.6176e+00, -2.3515e+00],\n",
       "         [ 4.4397e-01,  1.1664e+00,  6.4886e-01,  ..., -1.5407e+00,\n",
       "          -2.7654e+00, -2.6218e+00],\n",
       "         ...,\n",
       "         [-1.6464e+00,  3.0912e+00,  1.4232e+00,  ..., -1.4050e+00,\n",
       "          -1.6170e+00, -1.8767e+00],\n",
       "         [-2.1733e-03, -8.6679e-01,  2.0813e+00,  ..., -1.2982e+00,\n",
       "          -1.7586e+00, -1.7377e+00],\n",
       "         [-2.8468e-01,  5.8957e+00,  1.4579e+00,  ..., -8.1776e-01,\n",
       "          -1.3382e+00, -1.6205e+00]],\n",
       "\n",
       "        [[-1.1760e+00, -7.6928e-01, -2.1434e+00,  ..., -1.7023e+00,\n",
       "          -2.3729e+00, -2.3137e+00],\n",
       "         [-1.2706e+00, -1.4516e+00, -1.3188e+00,  ..., -7.2921e-01,\n",
       "          -2.0399e+00, -1.9885e+00],\n",
       "         [-1.6256e+00, -1.0770e+00, -2.8473e+00,  ..., -1.8710e+00,\n",
       "          -2.5484e+00, -2.2443e+00],\n",
       "         ...,\n",
       "         [ 9.4139e-01, -3.7730e-01,  6.1890e-01,  ...,  8.4939e-02,\n",
       "          -1.1287e+00, -1.6706e+00],\n",
       "         [-3.9342e-01,  6.3833e-01,  1.5460e+00,  ..., -7.7948e-01,\n",
       "          -1.8763e+00, -1.9849e+00],\n",
       "         [-5.4653e-01,  2.4113e+00,  1.2732e+00,  ..., -1.1594e-02,\n",
       "          -5.2762e-01, -6.5580e-01]],\n",
       "\n",
       "        ...,\n",
       "\n",
       "        [[-5.3174e-03,  2.5695e-01,  9.7224e-01,  ..., -9.3051e-01,\n",
       "          -2.3626e+00, -2.4056e+00],\n",
       "         [-9.1768e-01, -1.3271e-01,  1.2497e+00,  ..., -3.7782e-02,\n",
       "          -1.3118e+00, -1.1180e+00],\n",
       "         [-3.2541e-01,  4.8289e-01,  1.8264e+00,  ..., -1.2591e+00,\n",
       "          -2.7316e+00, -2.4831e+00],\n",
       "         ...,\n",
       "         [ 1.2873e-01, -1.7887e-01,  1.3985e+00,  ..., -6.8650e-01,\n",
       "          -1.2896e+00, -1.4595e+00],\n",
       "         [-7.8809e-01, -3.4047e-01,  1.0971e+00,  ..., -2.0375e-01,\n",
       "          -8.5616e-01, -1.1031e+00],\n",
       "         [-6.3107e-01,  5.5835e-01,  1.1070e+00,  ...,  1.8447e-01,\n",
       "          -4.2050e-01, -5.9791e-01]],\n",
       "\n",
       "        [[-2.9157e-01,  2.7397e-01,  1.7347e+00,  ..., -9.4078e-01,\n",
       "          -1.9682e+00, -1.9294e+00],\n",
       "         [-6.9711e-01, -2.5396e-01,  1.2400e+00,  ..., -2.4656e-01,\n",
       "          -1.2909e+00, -1.1809e+00],\n",
       "         [-1.7769e-01,  5.4912e-01,  1.7891e+00,  ..., -1.2107e+00,\n",
       "          -2.5299e+00, -2.3563e+00],\n",
       "         ...,\n",
       "         [-5.3247e-02, -7.4595e-02,  1.4093e+00,  ..., -3.5313e-01,\n",
       "          -7.3920e-01, -1.1773e+00],\n",
       "         [-8.2016e-01, -3.7702e-01,  1.0467e+00,  ..., -2.3147e-01,\n",
       "          -8.8481e-01, -1.1064e+00],\n",
       "         [-6.0606e-01,  4.0296e-01,  1.0636e+00,  ...,  8.0998e-02,\n",
       "          -5.2717e-01, -6.6530e-01]],\n",
       "\n",
       "        [[ 1.8914e-01,  3.8525e-01,  2.0540e+00,  ..., -1.1714e+00,\n",
       "          -2.2616e+00, -2.1944e+00],\n",
       "         [-5.9964e-01, -2.0553e-01,  1.2460e+00,  ..., -3.8778e-01,\n",
       "          -1.3097e+00, -1.3039e+00],\n",
       "         [-9.2005e-02,  5.1268e-01,  1.8140e+00,  ..., -1.2345e+00,\n",
       "          -2.5740e+00, -2.3973e+00],\n",
       "         ...,\n",
       "         [ 3.3239e-02, -2.7330e-01,  1.3799e+00,  ..., -6.9509e-01,\n",
       "          -1.2708e+00, -1.4316e+00],\n",
       "         [-8.4008e-01, -4.0284e-01,  1.0312e+00,  ..., -2.2349e-01,\n",
       "          -8.5042e-01, -1.1015e+00],\n",
       "         [-6.2396e-01,  3.4263e-01,  1.0787e+00,  ...,  9.9152e-02,\n",
       "          -4.7630e-01, -6.7196e-01]]])"
      ]
     },
     "execution_count": 23,
     "metadata": {},
     "output_type": "execute_result"
    }
   ],
   "source": [
    "outputs"
   ]
  },
  {
   "cell_type": "code",
   "execution_count": 24,
   "metadata": {},
   "outputs": [],
   "source": [
    "_, index = outputs.topk(1, -1)"
   ]
  },
  {
   "cell_type": "code",
   "execution_count": 25,
   "metadata": {},
   "outputs": [
    {
     "data": {
      "text/plain": [
       "torch.Size([10, 32, 1])"
      ]
     },
     "execution_count": 25,
     "metadata": {},
     "output_type": "execute_result"
    }
   ],
   "source": [
    "index.size()"
   ]
  },
  {
   "cell_type": "code",
   "execution_count": 26,
   "metadata": {},
   "outputs": [
    {
     "data": {
      "text/plain": [
       "[['<start>', 't', 'h', 'ư', 'a', 'n', 'g', '<end>'],\n",
       " ['<start>', 'h', 'u', 'y', 'ệ', 'n', '<end>'],\n",
       " ['<start>', 'T', 'h', 'à', 'n', 'h', '<end>'],\n",
       " ['<start>', 'n', 'g', 'ư', 'ờ', 'i', '<end>'],\n",
       " ['<start>', 't', 'ì', 'n', 'h', '<end>'],\n",
       " ['<start>', 'T', 'i', 'ê', 'n', '<end>'],\n",
       " ['<start>', 'l', 'o', 'n', 'g', '<end>'],\n",
       " ['<start>', 'T', 'i', 'ê', 'n', '<end>'],\n",
       " ['<start>', 'l', 'o', 'n', 'g', '<end>'],\n",
       " ['<start>', 'c', 'h', 'â', 'u', '<end>'],\n",
       " ['<start>', 'ô', 'n', 'g', '<end>'],\n",
       " ['<start>', 'g', 'i', 'à', '<end>'],\n",
       " ['<start>', 'n', 'ă', 'm', '<end>'],\n",
       " ['<start>', 'l', 'à', 'm', '<end>'],\n",
       " ['<start>', 'n', 'h', 'à', '<end>'],\n",
       " ['<start>', 'T', 'ô', 'i', '<end>'],\n",
       " ['<start>', 'g', 'ặ', 'p', '<end>'],\n",
       " ['<start>', 'ô', 'n', 'g', '<end>'],\n",
       " ['<start>', 'V', 'ă', 'n', '<end>'],\n",
       " ['<start>', 'T', 'á', 'm', '<end>'],\n",
       " ['<start>', 'n', 'g', 'ụ', '<end>'],\n",
       " ['<start>', 'B', 'ế', 'n', '<end>'],\n",
       " ['<start>', 'T', 'r', 'r', 'e', '<end>'],\n",
       " ['<start>', '3', '0', '<end>'],\n",
       " ['<start>', 'L', 'ê', '<end>'],\n",
       " ['<start>', '0', 'n', '<end>'],\n",
       " ['<start>', '0', 'n', '<end>'],\n",
       " ['<start>', 'ấ', 'p', '<end>'],\n",
       " ['<start>', 'x', 'ã', '<end>'],\n",
       " ['<start>', 'l', 'à', '<end>'],\n",
       " ['<start>', 'ở', '<end>'],\n",
       " ['<start>', '1', '<end>']]"
      ]
     },
     "execution_count": 26,
     "metadata": {},
     "output_type": "execute_result"
    }
   ],
   "source": [
    "predicts = index.squeeze().transpose(0, 1) # [B, T]\n",
    "predicts_str = []\n",
    "for predict in predicts:\n",
    "    s = [int2char[x.item()] for x in predict]\n",
    "    try:\n",
    "        eos_index = s.index(EOS_CHAR) + 1\n",
    "    except ValueError:\n",
    "        eos_index = len(s)\n",
    "    predicts_str.append(s[:eos_index])\n",
    "\n",
    "predicts_str"
   ]
  },
  {
   "cell_type": "code",
   "execution_count": 27,
   "metadata": {},
   "outputs": [
    {
     "data": {
      "text/plain": [
       "torch.Size([10, 32, 192])"
      ]
     },
     "execution_count": 27,
     "metadata": {},
     "output_type": "execute_result"
    }
   ],
   "source": [
    "weights.size()"
   ]
  },
  {
   "cell_type": "code",
   "execution_count": 28,
   "metadata": {},
   "outputs": [
    {
     "name": "stdout",
     "output_type": "stream",
     "text": [
      "128 396\n"
     ]
    }
   ],
   "source": [
    "img_rows, img_cols = imgs.size(2), imgs.size(3)\n",
    "print(img_rows, img_cols)"
   ]
  },
  {
   "cell_type": "code",
   "execution_count": 29,
   "metadata": {},
   "outputs": [
    {
     "data": {
      "text/plain": [
       "32"
      ]
     },
     "execution_count": 29,
     "metadata": {},
     "output_type": "execute_result"
    }
   ],
   "source": [
    "length = len(predicts)\n",
    "length"
   ]
  },
  {
   "cell_type": "markdown",
   "metadata": {},
   "source": [
    "# Visualize a sample"
   ]
  },
  {
   "cell_type": "code",
   "execution_count": 30,
   "metadata": {},
   "outputs": [
    {
     "data": {
      "image/png": "[encoded data removed]",
      "text/plain": [
       "<Figure size 1080x1080 with 8 Axes>"
      ]
     },
     "metadata": {
      "needs_background": "light"
     },
     "output_type": "display_data"
    }
   ],
   "source": [
    "sample_index = 0\n",
    "sample_image, sample_predict, sample_weigth = imgs[sample_index], predicts_str[sample_index], weights[:, [sample_index]]\n",
    "fig, axeses = plt.subplots(len(sample_predict), figsize=(15,15), sharex=True, sharey=True)\n",
    "\n",
    "for i, axes in enumerate(axeses.ravel()):\n",
    "    weight = weights[i].reshape(-1, config['batch_size'], img_rows // 16, img_cols // 16) # 16 is factor that DenseNet reduce the original image size\n",
    "    weight_numpy = weight.cpu().numpy()[:,sample_index,:].squeeze()\n",
    "    weight_image = skimage.transform.resize(weight_numpy, (img_rows, img_cols))\n",
    "    \n",
    "    img = sample_image.squeeze().permute(1,2,0).cpu().numpy()[:,:,0]\n",
    "    \n",
    "    alpha = 0.5\n",
    "    blend = img * alpha + weight_image * (1-alpha)\n",
    "    \n",
    "    axes.set_title(sample_predict[i])\n",
    "    axes.imshow(blend, cmap='spring')\n",
    "plt.plot();"
   ]
  },
  {
   "cell_type": "markdown",
   "metadata": {},
   "source": [
    "# Calc CER, WER on the test set"
   ]
  },
  {
   "cell_type": "markdown",
   "metadata": {},
   "source": [
    "## CER"
   ]
  },
  {
   "cell_type": "code",
   "execution_count": 31,
   "metadata": {},
   "outputs": [],
   "source": [
    "import editdistance as ed"
   ]
  },
  {
   "cell_type": "code",
   "execution_count": 32,
   "metadata": {},
   "outputs": [],
   "source": [
    "from tqdm.notebook import tqdm"
   ]
  },
  {
   "cell_type": "code",
   "execution_count": 34,
   "metadata": {},
   "outputs": [
    {
     "name": "stdout",
     "output_type": "stream",
     "text": [
      "[0]/[785]\n",
      "[1]/[785]\n",
      "[2]/[785]\n",
      "[3]/[785]\n",
      "[4]/[785]\n",
      "[5]/[785]\n",
      "[6]/[785]\n",
      "[7]/[785]\n",
      "[8]/[785]\n",
      "[9]/[785]\n",
      "[10]/[785]\n",
      "[11]/[785]\n",
      "[12]/[785]\n",
      "[13]/[785]\n",
      "[14]/[785]\n",
      "[15]/[785]\n",
      "[16]/[785]\n",
      "[17]/[785]\n",
      "[18]/[785]\n",
      "[19]/[785]\n",
      "[20]/[785]\n",
      "[21]/[785]\n",
      "[22]/[785]\n",
      "[23]/[785]\n",
      "[24]/[785]\n",
      "[25]/[785]\n",
      "[26]/[785]\n",
      "[27]/[785]\n",
      "[28]/[785]\n",
      "[29]/[785]\n",
      "[30]/[785]\n",
      "[31]/[785]\n",
      "[32]/[785]\n",
      "[33]/[785]\n",
      "[34]/[785]\n",
      "[35]/[785]\n",
      "[36]/[785]\n",
      "[37]/[785]\n",
      "[38]/[785]\n",
      "[39]/[785]\n",
      "[40]/[785]\n",
      "[41]/[785]\n",
      "[42]/[785]\n",
      "[43]/[785]\n",
      "[44]/[785]\n",
      "[45]/[785]\n",
      "[46]/[785]\n",
      "[47]/[785]\n",
      "[48]/[785]\n",
      "[49]/[785]\n",
      "[50]/[785]\n",
      "[51]/[785]\n",
      "[52]/[785]\n",
      "[53]/[785]\n",
      "[54]/[785]\n",
      "[55]/[785]\n",
      "[56]/[785]\n",
      "[57]/[785]\n",
      "[58]/[785]\n",
      "[59]/[785]\n",
      "[60]/[785]\n",
      "[61]/[785]\n",
      "[62]/[785]\n",
      "[63]/[785]\n",
      "[64]/[785]\n",
      "[65]/[785]\n",
      "[66]/[785]\n",
      "[67]/[785]\n",
      "[68]/[785]\n",
      "[69]/[785]\n",
      "[70]/[785]\n",
      "[71]/[785]\n",
      "[72]/[785]\n",
      "[73]/[785]\n",
      "[74]/[785]\n",
      "[75]/[785]\n",
      "[76]/[785]\n",
      "[77]/[785]\n",
      "[78]/[785]\n",
      "[79]/[785]\n",
      "[80]/[785]\n",
      "[81]/[785]\n",
      "[82]/[785]\n",
      "[83]/[785]\n",
      "[84]/[785]\n",
      "[85]/[785]\n",
      "[86]/[785]\n",
      "[87]/[785]\n",
      "[88]/[785]\n",
      "[89]/[785]\n",
      "[90]/[785]\n",
      "[91]/[785]\n",
      "[92]/[785]\n",
      "[93]/[785]\n"
     ]
    },
    {
     "ename": "KeyboardInterrupt",
     "evalue": "",
     "output_type": "error",
     "traceback": [
      "\u001b[0;31m---------------------------------------------------------------------------\u001b[0m",
      "\u001b[0;31mKeyboardInterrupt\u001b[0m                         Traceback (most recent call last)",
      "\u001b[0;32m<ipython-input-34-9d2d0dff1af1>\u001b[0m in \u001b[0;36m<module>\u001b[0;34m\u001b[0m\n\u001b[1;32m     17\u001b[0m         \u001b[0mimgs\u001b[0m \u001b[0;34m=\u001b[0m \u001b[0mimgs\u001b[0m\u001b[0;34m.\u001b[0m\u001b[0mto\u001b[0m\u001b[0;34m(\u001b[0m\u001b[0mdevice\u001b[0m\u001b[0;34m)\u001b[0m\u001b[0;34m\u001b[0m\u001b[0;34m\u001b[0m\u001b[0m\n\u001b[1;32m     18\u001b[0m \u001b[0;34m\u001b[0m\u001b[0m\n\u001b[0;32m---> 19\u001b[0;31m         \u001b[0mimg_features\u001b[0m \u001b[0;34m=\u001b[0m \u001b[0mencoder\u001b[0m\u001b[0;34m(\u001b[0m\u001b[0mimgs\u001b[0m\u001b[0;34m)\u001b[0m\u001b[0;34m\u001b[0m\u001b[0;34m\u001b[0m\u001b[0m\n\u001b[0m\u001b[1;32m     20\u001b[0m         \u001b[0moutputs\u001b[0m\u001b[0;34m,\u001b[0m \u001b[0mweights\u001b[0m \u001b[0;34m=\u001b[0m \u001b[0mdecoder\u001b[0m\u001b[0;34m.\u001b[0m\u001b[0mgreedy\u001b[0m\u001b[0;34m(\u001b[0m\u001b[0mimg_features\u001b[0m\u001b[0;34m,\u001b[0m \u001b[0mstart_input\u001b[0m\u001b[0;34m)\u001b[0m\u001b[0;34m\u001b[0m\u001b[0;34m\u001b[0m\u001b[0m\n\u001b[1;32m     21\u001b[0m \u001b[0;34m\u001b[0m\u001b[0m\n",
      "\u001b[0;32m~/miniconda3/envs/cv/lib/python3.7/site-packages/torch/nn/modules/module.py\u001b[0m in \u001b[0;36m__call__\u001b[0;34m(self, *input, **kwargs)\u001b[0m\n\u001b[1;32m    539\u001b[0m             \u001b[0mresult\u001b[0m \u001b[0;34m=\u001b[0m \u001b[0mself\u001b[0m\u001b[0;34m.\u001b[0m\u001b[0m_slow_forward\u001b[0m\u001b[0;34m(\u001b[0m\u001b[0;34m*\u001b[0m\u001b[0minput\u001b[0m\u001b[0;34m,\u001b[0m \u001b[0;34m**\u001b[0m\u001b[0mkwargs\u001b[0m\u001b[0;34m)\u001b[0m\u001b[0;34m\u001b[0m\u001b[0;34m\u001b[0m\u001b[0m\n\u001b[1;32m    540\u001b[0m         \u001b[0;32melse\u001b[0m\u001b[0;34m:\u001b[0m\u001b[0;34m\u001b[0m\u001b[0;34m\u001b[0m\u001b[0m\n\u001b[0;32m--> 541\u001b[0;31m             \u001b[0mresult\u001b[0m \u001b[0;34m=\u001b[0m \u001b[0mself\u001b[0m\u001b[0;34m.\u001b[0m\u001b[0mforward\u001b[0m\u001b[0;34m(\u001b[0m\u001b[0;34m*\u001b[0m\u001b[0minput\u001b[0m\u001b[0;34m,\u001b[0m \u001b[0;34m**\u001b[0m\u001b[0mkwargs\u001b[0m\u001b[0;34m)\u001b[0m\u001b[0;34m\u001b[0m\u001b[0;34m\u001b[0m\u001b[0m\n\u001b[0m\u001b[1;32m    542\u001b[0m         \u001b[0;32mfor\u001b[0m \u001b[0mhook\u001b[0m \u001b[0;32min\u001b[0m \u001b[0mself\u001b[0m\u001b[0;34m.\u001b[0m\u001b[0m_forward_hooks\u001b[0m\u001b[0;34m.\u001b[0m\u001b[0mvalues\u001b[0m\u001b[0;34m(\u001b[0m\u001b[0;34m)\u001b[0m\u001b[0;34m:\u001b[0m\u001b[0;34m\u001b[0m\u001b[0;34m\u001b[0m\u001b[0m\n\u001b[1;32m    543\u001b[0m             \u001b[0mhook_result\u001b[0m \u001b[0;34m=\u001b[0m \u001b[0mhook\u001b[0m\u001b[0;34m(\u001b[0m\u001b[0mself\u001b[0m\u001b[0;34m,\u001b[0m \u001b[0minput\u001b[0m\u001b[0;34m,\u001b[0m \u001b[0mresult\u001b[0m\u001b[0;34m)\u001b[0m\u001b[0;34m\u001b[0m\u001b[0;34m\u001b[0m\u001b[0m\n",
      "\u001b[0;32m~/working-dir/loi/model/encoder.py\u001b[0m in \u001b[0;36mforward\u001b[0;34m(self, inputs)\u001b[0m\n\u001b[1;32m     20\u001b[0m         '''\n\u001b[1;32m     21\u001b[0m         \u001b[0mbatch_size\u001b[0m \u001b[0;34m=\u001b[0m \u001b[0minputs\u001b[0m\u001b[0;34m.\u001b[0m\u001b[0msize\u001b[0m\u001b[0;34m(\u001b[0m\u001b[0;36m0\u001b[0m\u001b[0;34m)\u001b[0m\u001b[0;34m\u001b[0m\u001b[0;34m\u001b[0m\u001b[0m\n\u001b[0;32m---> 22\u001b[0;31m         \u001b[0moutputs\u001b[0m \u001b[0;34m=\u001b[0m \u001b[0mself\u001b[0m\u001b[0;34m.\u001b[0m\u001b[0mcnn\u001b[0m\u001b[0;34m(\u001b[0m\u001b[0minputs\u001b[0m\u001b[0;34m)\u001b[0m \u001b[0;31m# [B, C', H', W']\u001b[0m\u001b[0;34m\u001b[0m\u001b[0;34m\u001b[0m\u001b[0m\n\u001b[0m\u001b[1;32m     23\u001b[0m         \u001b[0moutputs\u001b[0m \u001b[0;34m=\u001b[0m \u001b[0moutputs\u001b[0m\u001b[0;34m.\u001b[0m\u001b[0mview\u001b[0m\u001b[0;34m(\u001b[0m\u001b[0mbatch_size\u001b[0m\u001b[0;34m,\u001b[0m \u001b[0mself\u001b[0m\u001b[0;34m.\u001b[0m\u001b[0mn_features\u001b[0m\u001b[0;34m,\u001b[0m \u001b[0;34m-\u001b[0m\u001b[0;36m1\u001b[0m\u001b[0;34m)\u001b[0m \u001b[0;31m# [B, C', H' x W'] == [B, C', num_pixels]\u001b[0m\u001b[0;34m\u001b[0m\u001b[0;34m\u001b[0m\u001b[0m\n\u001b[1;32m     24\u001b[0m         \u001b[0moutputs\u001b[0m \u001b[0;34m=\u001b[0m \u001b[0moutputs\u001b[0m\u001b[0;34m.\u001b[0m\u001b[0mpermute\u001b[0m\u001b[0;34m(\u001b[0m\u001b[0;36m2\u001b[0m\u001b[0;34m,\u001b[0m \u001b[0;36m0\u001b[0m\u001b[0;34m,\u001b[0m \u001b[0;36m1\u001b[0m\u001b[0;34m)\u001b[0m \u001b[0;31m# [num_pixels, B, C']\u001b[0m\u001b[0;34m\u001b[0m\u001b[0;34m\u001b[0m\u001b[0m\n",
      "\u001b[0;32m~/miniconda3/envs/cv/lib/python3.7/site-packages/torch/nn/modules/module.py\u001b[0m in \u001b[0;36m__call__\u001b[0;34m(self, *input, **kwargs)\u001b[0m\n\u001b[1;32m    539\u001b[0m             \u001b[0mresult\u001b[0m \u001b[0;34m=\u001b[0m \u001b[0mself\u001b[0m\u001b[0;34m.\u001b[0m\u001b[0m_slow_forward\u001b[0m\u001b[0;34m(\u001b[0m\u001b[0;34m*\u001b[0m\u001b[0minput\u001b[0m\u001b[0;34m,\u001b[0m \u001b[0;34m**\u001b[0m\u001b[0mkwargs\u001b[0m\u001b[0;34m)\u001b[0m\u001b[0;34m\u001b[0m\u001b[0;34m\u001b[0m\u001b[0m\n\u001b[1;32m    540\u001b[0m         \u001b[0;32melse\u001b[0m\u001b[0;34m:\u001b[0m\u001b[0;34m\u001b[0m\u001b[0;34m\u001b[0m\u001b[0m\n\u001b[0;32m--> 541\u001b[0;31m             \u001b[0mresult\u001b[0m \u001b[0;34m=\u001b[0m \u001b[0mself\u001b[0m\u001b[0;34m.\u001b[0m\u001b[0mforward\u001b[0m\u001b[0;34m(\u001b[0m\u001b[0;34m*\u001b[0m\u001b[0minput\u001b[0m\u001b[0;34m,\u001b[0m \u001b[0;34m**\u001b[0m\u001b[0mkwargs\u001b[0m\u001b[0;34m)\u001b[0m\u001b[0;34m\u001b[0m\u001b[0;34m\u001b[0m\u001b[0m\n\u001b[0m\u001b[1;32m    542\u001b[0m         \u001b[0;32mfor\u001b[0m \u001b[0mhook\u001b[0m \u001b[0;32min\u001b[0m \u001b[0mself\u001b[0m\u001b[0;34m.\u001b[0m\u001b[0m_forward_hooks\u001b[0m\u001b[0;34m.\u001b[0m\u001b[0mvalues\u001b[0m\u001b[0;34m(\u001b[0m\u001b[0;34m)\u001b[0m\u001b[0;34m:\u001b[0m\u001b[0;34m\u001b[0m\u001b[0;34m\u001b[0m\u001b[0m\n\u001b[1;32m    543\u001b[0m             \u001b[0mhook_result\u001b[0m \u001b[0;34m=\u001b[0m \u001b[0mhook\u001b[0m\u001b[0;34m(\u001b[0m\u001b[0mself\u001b[0m\u001b[0;34m,\u001b[0m \u001b[0minput\u001b[0m\u001b[0;34m,\u001b[0m \u001b[0mresult\u001b[0m\u001b[0;34m)\u001b[0m\u001b[0;34m\u001b[0m\u001b[0;34m\u001b[0m\u001b[0m\n",
      "\u001b[0;32m~/miniconda3/envs/cv/lib/python3.7/site-packages/torch/nn/modules/container.py\u001b[0m in \u001b[0;36mforward\u001b[0;34m(self, input)\u001b[0m\n\u001b[1;32m     90\u001b[0m     \u001b[0;32mdef\u001b[0m \u001b[0mforward\u001b[0m\u001b[0;34m(\u001b[0m\u001b[0mself\u001b[0m\u001b[0;34m,\u001b[0m \u001b[0minput\u001b[0m\u001b[0;34m)\u001b[0m\u001b[0;34m:\u001b[0m\u001b[0;34m\u001b[0m\u001b[0;34m\u001b[0m\u001b[0m\n\u001b[1;32m     91\u001b[0m         \u001b[0;32mfor\u001b[0m \u001b[0mmodule\u001b[0m \u001b[0;32min\u001b[0m \u001b[0mself\u001b[0m\u001b[0;34m.\u001b[0m\u001b[0m_modules\u001b[0m\u001b[0;34m.\u001b[0m\u001b[0mvalues\u001b[0m\u001b[0;34m(\u001b[0m\u001b[0;34m)\u001b[0m\u001b[0;34m:\u001b[0m\u001b[0;34m\u001b[0m\u001b[0;34m\u001b[0m\u001b[0m\n\u001b[0;32m---> 92\u001b[0;31m             \u001b[0minput\u001b[0m \u001b[0;34m=\u001b[0m \u001b[0mmodule\u001b[0m\u001b[0;34m(\u001b[0m\u001b[0minput\u001b[0m\u001b[0;34m)\u001b[0m\u001b[0;34m\u001b[0m\u001b[0;34m\u001b[0m\u001b[0m\n\u001b[0m\u001b[1;32m     93\u001b[0m         \u001b[0;32mreturn\u001b[0m \u001b[0minput\u001b[0m\u001b[0;34m\u001b[0m\u001b[0;34m\u001b[0m\u001b[0m\n\u001b[1;32m     94\u001b[0m \u001b[0;34m\u001b[0m\u001b[0m\n",
      "\u001b[0;32m~/miniconda3/envs/cv/lib/python3.7/site-packages/torch/nn/modules/module.py\u001b[0m in \u001b[0;36m__call__\u001b[0;34m(self, *input, **kwargs)\u001b[0m\n\u001b[1;32m    539\u001b[0m             \u001b[0mresult\u001b[0m \u001b[0;34m=\u001b[0m \u001b[0mself\u001b[0m\u001b[0;34m.\u001b[0m\u001b[0m_slow_forward\u001b[0m\u001b[0;34m(\u001b[0m\u001b[0;34m*\u001b[0m\u001b[0minput\u001b[0m\u001b[0;34m,\u001b[0m \u001b[0;34m**\u001b[0m\u001b[0mkwargs\u001b[0m\u001b[0;34m)\u001b[0m\u001b[0;34m\u001b[0m\u001b[0;34m\u001b[0m\u001b[0m\n\u001b[1;32m    540\u001b[0m         \u001b[0;32melse\u001b[0m\u001b[0;34m:\u001b[0m\u001b[0;34m\u001b[0m\u001b[0;34m\u001b[0m\u001b[0m\n\u001b[0;32m--> 541\u001b[0;31m             \u001b[0mresult\u001b[0m \u001b[0;34m=\u001b[0m \u001b[0mself\u001b[0m\u001b[0;34m.\u001b[0m\u001b[0mforward\u001b[0m\u001b[0;34m(\u001b[0m\u001b[0;34m*\u001b[0m\u001b[0minput\u001b[0m\u001b[0;34m,\u001b[0m \u001b[0;34m**\u001b[0m\u001b[0mkwargs\u001b[0m\u001b[0;34m)\u001b[0m\u001b[0;34m\u001b[0m\u001b[0;34m\u001b[0m\u001b[0m\n\u001b[0m\u001b[1;32m    542\u001b[0m         \u001b[0;32mfor\u001b[0m \u001b[0mhook\u001b[0m \u001b[0;32min\u001b[0m \u001b[0mself\u001b[0m\u001b[0;34m.\u001b[0m\u001b[0m_forward_hooks\u001b[0m\u001b[0;34m.\u001b[0m\u001b[0mvalues\u001b[0m\u001b[0;34m(\u001b[0m\u001b[0;34m)\u001b[0m\u001b[0;34m:\u001b[0m\u001b[0;34m\u001b[0m\u001b[0;34m\u001b[0m\u001b[0m\n\u001b[1;32m    543\u001b[0m             \u001b[0mhook_result\u001b[0m \u001b[0;34m=\u001b[0m \u001b[0mhook\u001b[0m\u001b[0;34m(\u001b[0m\u001b[0mself\u001b[0m\u001b[0;34m,\u001b[0m \u001b[0minput\u001b[0m\u001b[0;34m,\u001b[0m \u001b[0mresult\u001b[0m\u001b[0;34m)\u001b[0m\u001b[0;34m\u001b[0m\u001b[0;34m\u001b[0m\u001b[0m\n",
      "\u001b[0;32m~/miniconda3/envs/cv/lib/python3.7/site-packages/torchvision/models/densenet.py\u001b[0m in \u001b[0;36mforward\u001b[0;34m(self, init_features)\u001b[0m\n\u001b[1;32m     72\u001b[0m         \u001b[0mfeatures\u001b[0m \u001b[0;34m=\u001b[0m \u001b[0;34m[\u001b[0m\u001b[0minit_features\u001b[0m\u001b[0;34m]\u001b[0m\u001b[0;34m\u001b[0m\u001b[0;34m\u001b[0m\u001b[0m\n\u001b[1;32m     73\u001b[0m         \u001b[0;32mfor\u001b[0m \u001b[0mname\u001b[0m\u001b[0;34m,\u001b[0m \u001b[0mlayer\u001b[0m \u001b[0;32min\u001b[0m \u001b[0mself\u001b[0m\u001b[0;34m.\u001b[0m\u001b[0mnamed_children\u001b[0m\u001b[0;34m(\u001b[0m\u001b[0;34m)\u001b[0m\u001b[0;34m:\u001b[0m\u001b[0;34m\u001b[0m\u001b[0;34m\u001b[0m\u001b[0m\n\u001b[0;32m---> 74\u001b[0;31m             \u001b[0mnew_features\u001b[0m \u001b[0;34m=\u001b[0m \u001b[0mlayer\u001b[0m\u001b[0;34m(\u001b[0m\u001b[0;34m*\u001b[0m\u001b[0mfeatures\u001b[0m\u001b[0;34m)\u001b[0m\u001b[0;34m\u001b[0m\u001b[0;34m\u001b[0m\u001b[0m\n\u001b[0m\u001b[1;32m     75\u001b[0m             \u001b[0mfeatures\u001b[0m\u001b[0;34m.\u001b[0m\u001b[0mappend\u001b[0m\u001b[0;34m(\u001b[0m\u001b[0mnew_features\u001b[0m\u001b[0;34m)\u001b[0m\u001b[0;34m\u001b[0m\u001b[0;34m\u001b[0m\u001b[0m\n\u001b[1;32m     76\u001b[0m         \u001b[0;32mreturn\u001b[0m \u001b[0mtorch\u001b[0m\u001b[0;34m.\u001b[0m\u001b[0mcat\u001b[0m\u001b[0;34m(\u001b[0m\u001b[0mfeatures\u001b[0m\u001b[0;34m,\u001b[0m \u001b[0;36m1\u001b[0m\u001b[0;34m)\u001b[0m\u001b[0;34m\u001b[0m\u001b[0;34m\u001b[0m\u001b[0m\n",
      "\u001b[0;32m~/miniconda3/envs/cv/lib/python3.7/site-packages/torch/nn/modules/module.py\u001b[0m in \u001b[0;36m__call__\u001b[0;34m(self, *input, **kwargs)\u001b[0m\n\u001b[1;32m    539\u001b[0m             \u001b[0mresult\u001b[0m \u001b[0;34m=\u001b[0m \u001b[0mself\u001b[0m\u001b[0;34m.\u001b[0m\u001b[0m_slow_forward\u001b[0m\u001b[0;34m(\u001b[0m\u001b[0;34m*\u001b[0m\u001b[0minput\u001b[0m\u001b[0;34m,\u001b[0m \u001b[0;34m**\u001b[0m\u001b[0mkwargs\u001b[0m\u001b[0;34m)\u001b[0m\u001b[0;34m\u001b[0m\u001b[0;34m\u001b[0m\u001b[0m\n\u001b[1;32m    540\u001b[0m         \u001b[0;32melse\u001b[0m\u001b[0;34m:\u001b[0m\u001b[0;34m\u001b[0m\u001b[0;34m\u001b[0m\u001b[0m\n\u001b[0;32m--> 541\u001b[0;31m             \u001b[0mresult\u001b[0m \u001b[0;34m=\u001b[0m \u001b[0mself\u001b[0m\u001b[0;34m.\u001b[0m\u001b[0mforward\u001b[0m\u001b[0;34m(\u001b[0m\u001b[0;34m*\u001b[0m\u001b[0minput\u001b[0m\u001b[0;34m,\u001b[0m \u001b[0;34m**\u001b[0m\u001b[0mkwargs\u001b[0m\u001b[0;34m)\u001b[0m\u001b[0;34m\u001b[0m\u001b[0;34m\u001b[0m\u001b[0m\n\u001b[0m\u001b[1;32m    542\u001b[0m         \u001b[0;32mfor\u001b[0m \u001b[0mhook\u001b[0m \u001b[0;32min\u001b[0m \u001b[0mself\u001b[0m\u001b[0;34m.\u001b[0m\u001b[0m_forward_hooks\u001b[0m\u001b[0;34m.\u001b[0m\u001b[0mvalues\u001b[0m\u001b[0;34m(\u001b[0m\u001b[0;34m)\u001b[0m\u001b[0;34m:\u001b[0m\u001b[0;34m\u001b[0m\u001b[0;34m\u001b[0m\u001b[0m\n\u001b[1;32m    543\u001b[0m             \u001b[0mhook_result\u001b[0m \u001b[0;34m=\u001b[0m \u001b[0mhook\u001b[0m\u001b[0;34m(\u001b[0m\u001b[0mself\u001b[0m\u001b[0;34m,\u001b[0m \u001b[0minput\u001b[0m\u001b[0;34m,\u001b[0m \u001b[0mresult\u001b[0m\u001b[0;34m)\u001b[0m\u001b[0;34m\u001b[0m\u001b[0;34m\u001b[0m\u001b[0m\n",
      "\u001b[0;32m~/miniconda3/envs/cv/lib/python3.7/site-packages/torchvision/models/densenet.py\u001b[0m in \u001b[0;36mforward\u001b[0;34m(self, *prev_features)\u001b[0m\n\u001b[1;32m     49\u001b[0m         \u001b[0;32melse\u001b[0m\u001b[0;34m:\u001b[0m\u001b[0;34m\u001b[0m\u001b[0;34m\u001b[0m\u001b[0m\n\u001b[1;32m     50\u001b[0m             \u001b[0mbottleneck_output\u001b[0m \u001b[0;34m=\u001b[0m \u001b[0mbn_function\u001b[0m\u001b[0;34m(\u001b[0m\u001b[0;34m*\u001b[0m\u001b[0mprev_features\u001b[0m\u001b[0;34m)\u001b[0m\u001b[0;34m\u001b[0m\u001b[0;34m\u001b[0m\u001b[0m\n\u001b[0;32m---> 51\u001b[0;31m         \u001b[0mnew_features\u001b[0m \u001b[0;34m=\u001b[0m \u001b[0mself\u001b[0m\u001b[0;34m.\u001b[0m\u001b[0mconv2\u001b[0m\u001b[0;34m(\u001b[0m\u001b[0mself\u001b[0m\u001b[0;34m.\u001b[0m\u001b[0mrelu2\u001b[0m\u001b[0;34m(\u001b[0m\u001b[0mself\u001b[0m\u001b[0;34m.\u001b[0m\u001b[0mnorm2\u001b[0m\u001b[0;34m(\u001b[0m\u001b[0mbottleneck_output\u001b[0m\u001b[0;34m)\u001b[0m\u001b[0;34m)\u001b[0m\u001b[0;34m)\u001b[0m\u001b[0;34m\u001b[0m\u001b[0;34m\u001b[0m\u001b[0m\n\u001b[0m\u001b[1;32m     52\u001b[0m         \u001b[0;32mif\u001b[0m \u001b[0mself\u001b[0m\u001b[0;34m.\u001b[0m\u001b[0mdrop_rate\u001b[0m \u001b[0;34m>\u001b[0m \u001b[0;36m0\u001b[0m\u001b[0;34m:\u001b[0m\u001b[0;34m\u001b[0m\u001b[0;34m\u001b[0m\u001b[0m\n\u001b[1;32m     53\u001b[0m             new_features = F.dropout(new_features, p=self.drop_rate,\n",
      "\u001b[0;32m~/miniconda3/envs/cv/lib/python3.7/site-packages/torch/nn/modules/module.py\u001b[0m in \u001b[0;36m__call__\u001b[0;34m(self, *input, **kwargs)\u001b[0m\n\u001b[1;32m    539\u001b[0m             \u001b[0mresult\u001b[0m \u001b[0;34m=\u001b[0m \u001b[0mself\u001b[0m\u001b[0;34m.\u001b[0m\u001b[0m_slow_forward\u001b[0m\u001b[0;34m(\u001b[0m\u001b[0;34m*\u001b[0m\u001b[0minput\u001b[0m\u001b[0;34m,\u001b[0m \u001b[0;34m**\u001b[0m\u001b[0mkwargs\u001b[0m\u001b[0;34m)\u001b[0m\u001b[0;34m\u001b[0m\u001b[0;34m\u001b[0m\u001b[0m\n\u001b[1;32m    540\u001b[0m         \u001b[0;32melse\u001b[0m\u001b[0;34m:\u001b[0m\u001b[0;34m\u001b[0m\u001b[0;34m\u001b[0m\u001b[0m\n\u001b[0;32m--> 541\u001b[0;31m             \u001b[0mresult\u001b[0m \u001b[0;34m=\u001b[0m \u001b[0mself\u001b[0m\u001b[0;34m.\u001b[0m\u001b[0mforward\u001b[0m\u001b[0;34m(\u001b[0m\u001b[0;34m*\u001b[0m\u001b[0minput\u001b[0m\u001b[0;34m,\u001b[0m \u001b[0;34m**\u001b[0m\u001b[0mkwargs\u001b[0m\u001b[0;34m)\u001b[0m\u001b[0;34m\u001b[0m\u001b[0;34m\u001b[0m\u001b[0m\n\u001b[0m\u001b[1;32m    542\u001b[0m         \u001b[0;32mfor\u001b[0m \u001b[0mhook\u001b[0m \u001b[0;32min\u001b[0m \u001b[0mself\u001b[0m\u001b[0;34m.\u001b[0m\u001b[0m_forward_hooks\u001b[0m\u001b[0;34m.\u001b[0m\u001b[0mvalues\u001b[0m\u001b[0;34m(\u001b[0m\u001b[0;34m)\u001b[0m\u001b[0;34m:\u001b[0m\u001b[0;34m\u001b[0m\u001b[0;34m\u001b[0m\u001b[0m\n\u001b[1;32m    543\u001b[0m             \u001b[0mhook_result\u001b[0m \u001b[0;34m=\u001b[0m \u001b[0mhook\u001b[0m\u001b[0;34m(\u001b[0m\u001b[0mself\u001b[0m\u001b[0;34m,\u001b[0m \u001b[0minput\u001b[0m\u001b[0;34m,\u001b[0m \u001b[0mresult\u001b[0m\u001b[0;34m)\u001b[0m\u001b[0;34m\u001b[0m\u001b[0;34m\u001b[0m\u001b[0m\n",
      "\u001b[0;32m~/miniconda3/envs/cv/lib/python3.7/site-packages/torch/nn/modules/batchnorm.py\u001b[0m in \u001b[0;36mforward\u001b[0;34m(self, input)\u001b[0m\n\u001b[1;32m     79\u001b[0m             \u001b[0minput\u001b[0m\u001b[0;34m,\u001b[0m \u001b[0mself\u001b[0m\u001b[0;34m.\u001b[0m\u001b[0mrunning_mean\u001b[0m\u001b[0;34m,\u001b[0m \u001b[0mself\u001b[0m\u001b[0;34m.\u001b[0m\u001b[0mrunning_var\u001b[0m\u001b[0;34m,\u001b[0m \u001b[0mself\u001b[0m\u001b[0;34m.\u001b[0m\u001b[0mweight\u001b[0m\u001b[0;34m,\u001b[0m \u001b[0mself\u001b[0m\u001b[0;34m.\u001b[0m\u001b[0mbias\u001b[0m\u001b[0;34m,\u001b[0m\u001b[0;34m\u001b[0m\u001b[0;34m\u001b[0m\u001b[0m\n\u001b[1;32m     80\u001b[0m             \u001b[0mself\u001b[0m\u001b[0;34m.\u001b[0m\u001b[0mtraining\u001b[0m \u001b[0;32mor\u001b[0m \u001b[0;32mnot\u001b[0m \u001b[0mself\u001b[0m\u001b[0;34m.\u001b[0m\u001b[0mtrack_running_stats\u001b[0m\u001b[0;34m,\u001b[0m\u001b[0;34m\u001b[0m\u001b[0;34m\u001b[0m\u001b[0m\n\u001b[0;32m---> 81\u001b[0;31m             exponential_average_factor, self.eps)\n\u001b[0m\u001b[1;32m     82\u001b[0m \u001b[0;34m\u001b[0m\u001b[0m\n\u001b[1;32m     83\u001b[0m     \u001b[0;32mdef\u001b[0m \u001b[0mextra_repr\u001b[0m\u001b[0;34m(\u001b[0m\u001b[0mself\u001b[0m\u001b[0;34m)\u001b[0m\u001b[0;34m:\u001b[0m\u001b[0;34m\u001b[0m\u001b[0;34m\u001b[0m\u001b[0m\n",
      "\u001b[0;32m~/miniconda3/envs/cv/lib/python3.7/site-packages/torch/nn/functional.py\u001b[0m in \u001b[0;36mbatch_norm\u001b[0;34m(input, running_mean, running_var, weight, bias, training, momentum, eps)\u001b[0m\n\u001b[1;32m   1668\u001b[0m     return torch.batch_norm(\n\u001b[1;32m   1669\u001b[0m         \u001b[0minput\u001b[0m\u001b[0;34m,\u001b[0m \u001b[0mweight\u001b[0m\u001b[0;34m,\u001b[0m \u001b[0mbias\u001b[0m\u001b[0;34m,\u001b[0m \u001b[0mrunning_mean\u001b[0m\u001b[0;34m,\u001b[0m \u001b[0mrunning_var\u001b[0m\u001b[0;34m,\u001b[0m\u001b[0;34m\u001b[0m\u001b[0;34m\u001b[0m\u001b[0m\n\u001b[0;32m-> 1670\u001b[0;31m         \u001b[0mtraining\u001b[0m\u001b[0;34m,\u001b[0m \u001b[0mmomentum\u001b[0m\u001b[0;34m,\u001b[0m \u001b[0meps\u001b[0m\u001b[0;34m,\u001b[0m \u001b[0mtorch\u001b[0m\u001b[0;34m.\u001b[0m\u001b[0mbackends\u001b[0m\u001b[0;34m.\u001b[0m\u001b[0mcudnn\u001b[0m\u001b[0;34m.\u001b[0m\u001b[0menabled\u001b[0m\u001b[0;34m\u001b[0m\u001b[0;34m\u001b[0m\u001b[0m\n\u001b[0m\u001b[1;32m   1671\u001b[0m     )\n\u001b[1;32m   1672\u001b[0m \u001b[0;34m\u001b[0m\u001b[0m\n",
      "\u001b[0;31mKeyboardInterrupt\u001b[0m: "
     ]
    }
   ],
   "source": [
    "total_characters = 0\n",
    "total_words = 0\n",
    "CE = 0\n",
    "WE = 0\n",
    "log_interval = 10\n",
    "\n",
    "# t = tqdm(test_loader)\n",
    "t = test_loader\n",
    "with torch.no_grad():\n",
    "    for i, (imgs, targets, targets_onehot, lengths) in enumerate(t):\n",
    "        print(f'[{i}]/[{len(t)}]')\n",
    "        batch_size = imgs.size(0)\n",
    "        \n",
    "        start_input = torch.zeros(1, batch_size, vocab_size)\n",
    "        start_input[0,0, char2int[SOS_CHAR]] = 1\n",
    "        start_input = start_input.to(device)\n",
    "        imgs = imgs.to(device)\n",
    "        \n",
    "        img_features = encoder(imgs)\n",
    "        outputs, weights = decoder.greedy(img_features, start_input)\n",
    "        \n",
    "        _, index = outputs.topk(1, -1)\n",
    "        predicts = index.squeeze().transpose(0, 1) # [B, T]\n",
    "        predicts_str = []\n",
    "        for predict in predicts:\n",
    "            s = [int2char[x.item()] for x in predict]\n",
    "            try:\n",
    "                eos_index = s.index(EOS_CHAR) + 1\n",
    "            except ValueError:\n",
    "                eos_index = len(s)\n",
    "            predicts_str.append(s[:eos_index])\n",
    "\n",
    "        targets_str = []\n",
    "        for target in targets.transpose(0, 1).squeeze():\n",
    "            s = [int2char[x.item()] for x in target]\n",
    "            try:\n",
    "                eos_index = s.index(EOS_CHAR) + 1\n",
    "            except ValueError:\n",
    "                eos_index = len(s)\n",
    "            targets_str.append(s[:eos_index])\n",
    "        \n",
    "        assert len(predicts_str) == len(targets_str)\n",
    "        for i in range(len(predicts_str)):\n",
    "            CE += ed.distance(predicts_str[i], targets_str[i])\n",
    "        total_characters += lengths.sum().item()\n",
    "        \n",
    "        for i in range(len(predicts_str)):\n",
    "            WE += 1 if np.array_equal(np.array(predicts_str[i]), np.array(targets_str[i])) else 0\n",
    "        total_words += len(predicts_str)\n",
    "        \n",
    "#         t.update()"
   ]
  },
  {
   "cell_type": "code",
   "execution_count": null,
   "metadata": {},
   "outputs": [],
   "source": [
    "CER = CE / total_characters\n",
    "WER = WE / total_words\n",
    "print('CER', CER)\n",
    "print('WER', WER)"
   ]
  }
 ],
 "metadata": {
  "kernelspec": {
   "display_name": "Python 3",
   "language": "python",
   "name": "python3"
  },
  "language_info": {
   "codemirror_mode": {
    "name": "ipython",
    "version": 3
   },
   "file_extension": ".py",
   "mimetype": "text/x-python",
   "name": "python",
   "nbconvert_exporter": "python",
   "pygments_lexer": "ipython3",
   "version": "3.7.5"
  }
 },
 "nbformat": 4,
 "nbformat_minor": 4
}
