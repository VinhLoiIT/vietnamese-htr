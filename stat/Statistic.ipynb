{
 "cells": [
  {
   "cell_type": "markdown",
   "metadata": {},
   "source": [
    "# Image"
   ]
  },
  {
   "cell_type": "code",
   "execution_count": 10,
   "metadata": {
    "scrolled": true
   },
   "outputs": [],
   "source": [
    "from __future__ import print_function\n",
    "\"\"\"\n",
    "get_image_size.py\n",
    "====================\n",
    "    :Name:        get_image_size\n",
    "    :Purpose:     extract image dimensions given a file path\n",
    "    :Author:      Paulo Scardine (based on code from Emmanuel VAÏSSE)\n",
    "    :Created:     26/09/2013\n",
    "    :Copyright:   (c) Paulo Scardine 2013\n",
    "    :Licence:     MIT\n",
    "\"\"\"\n",
    "\n",
    "import collections\n",
    "import json\n",
    "import os\n",
    "import io\n",
    "import struct\n",
    "\n",
    "FILE_UNKNOWN = \"Sorry, don't know how to get size for this file.\"\n",
    "\n",
    "\n",
    "class UnknownImageFormat(Exception):\n",
    "    pass\n",
    "\n",
    "\n",
    "types = collections.OrderedDict()\n",
    "BMP = types['BMP'] = 'BMP'\n",
    "GIF = types['GIF'] = 'GIF'\n",
    "ICO = types['ICO'] = 'ICO'\n",
    "JPEG = types['JPEG'] = 'JPEG'\n",
    "PNG = types['PNG'] = 'PNG'\n",
    "TIFF = types['TIFF'] = 'TIFF'\n",
    "\n",
    "image_fields = ['path', 'type', 'file_size', 'width', 'height']\n",
    "\n",
    "\n",
    "class Image(collections.namedtuple('Image', image_fields)):\n",
    "\n",
    "    def to_str_row(self):\n",
    "        return (\"%d\\t%d\\t%d\\t%s\\t%s\" % (\n",
    "            self.width,\n",
    "            self.height,\n",
    "            self.file_size,\n",
    "            self.type,\n",
    "            self.path.replace('\\t', '\\\\t'),\n",
    "        ))\n",
    "\n",
    "    def to_str_row_verbose(self):\n",
    "        return (\"%d\\t%d\\t%d\\t%s\\t%s\\t##%s\" % (\n",
    "            self.width,\n",
    "            self.height,\n",
    "            self.file_size,\n",
    "            self.type,\n",
    "            self.path.replace('\\t', '\\\\t'),\n",
    "            self))\n",
    "\n",
    "    def to_str_json(self, indent=None):\n",
    "        return json.dumps(self._asdict(), indent=indent)\n",
    "\n",
    "\n",
    "def get_image_size(file_path):\n",
    "    \"\"\"\n",
    "    Return (width, height) for a given img file content - no external\n",
    "    dependencies except the os and struct builtin modules\n",
    "    \"\"\"\n",
    "    img = get_image_metadata(file_path)\n",
    "    return (img.width, img.height)\n",
    "\n",
    "\n",
    "def get_image_size_from_bytesio(input, size):\n",
    "    \"\"\"\n",
    "    Return (width, height) for a given img file content - no external\n",
    "    dependencies except the os and struct builtin modules\n",
    "    Args:\n",
    "        input (io.IOBase): io object support read & seek\n",
    "        size (int): size of buffer in byte\n",
    "    \"\"\"\n",
    "    img = get_image_metadata_from_bytesio(input, size)\n",
    "    return (img.width, img.height)\n",
    "\n",
    "\n",
    "def get_image_metadata(file_path):\n",
    "    \"\"\"\n",
    "    Return an `Image` object for a given img file content - no external\n",
    "    dependencies except the os and struct builtin modules\n",
    "    Args:\n",
    "        file_path (str): path to an image file\n",
    "    Returns:\n",
    "        Image: (path, type, file_size, width, height)\n",
    "    \"\"\"\n",
    "    size = os.path.getsize(file_path)\n",
    "\n",
    "    # be explicit with open arguments - we need binary mode\n",
    "    with io.open(file_path, \"rb\") as input:\n",
    "        return get_image_metadata_from_bytesio(input, size, file_path)\n",
    "\n",
    "\n",
    "def get_image_metadata_from_bytesio(input, size, file_path=None):\n",
    "    \"\"\"\n",
    "    Return an `Image` object for a given img file content - no external\n",
    "    dependencies except the os and struct builtin modules\n",
    "    Args:\n",
    "        input (io.IOBase): io object support read & seek\n",
    "        size (int): size of buffer in byte\n",
    "        file_path (str): path to an image file\n",
    "    Returns:\n",
    "        Image: (path, type, file_size, width, height)\n",
    "    \"\"\"\n",
    "    height = -1\n",
    "    width = -1\n",
    "    data = input.read(26)\n",
    "    msg = \" raised while trying to decode as JPEG.\"\n",
    "\n",
    "    if (size >= 10) and data[:6] in (b'GIF87a', b'GIF89a'):\n",
    "        # GIFs\n",
    "        imgtype = GIF\n",
    "        w, h = struct.unpack(\"<HH\", data[6:10])\n",
    "        width = int(w)\n",
    "        height = int(h)\n",
    "    elif ((size >= 24) and data.startswith(b'\\211PNG\\r\\n\\032\\n')\n",
    "            and (data[12:16] == b'IHDR')):\n",
    "        # PNGs\n",
    "        imgtype = PNG\n",
    "        w, h = struct.unpack(\">LL\", data[16:24])\n",
    "        width = int(w)\n",
    "        height = int(h)\n",
    "    elif (size >= 16) and data.startswith(b'\\211PNG\\r\\n\\032\\n'):\n",
    "        # older PNGs\n",
    "        imgtype = PNG\n",
    "        w, h = struct.unpack(\">LL\", data[8:16])\n",
    "        width = int(w)\n",
    "        height = int(h)\n",
    "    elif (size >= 2) and data.startswith(b'\\377\\330'):\n",
    "        # JPEG\n",
    "        imgtype = JPEG\n",
    "        input.seek(0)\n",
    "        input.read(2)\n",
    "        b = input.read(1)\n",
    "        try:\n",
    "            while (b and ord(b) != 0xDA):\n",
    "                while (ord(b) != 0xFF):\n",
    "                    b = input.read(1)\n",
    "                while (ord(b) == 0xFF):\n",
    "                    b = input.read(1)\n",
    "                if (ord(b) >= 0xC0 and ord(b) <= 0xC3):\n",
    "                    input.read(3)\n",
    "                    h, w = struct.unpack(\">HH\", input.read(4))\n",
    "                    break\n",
    "                else:\n",
    "                    input.read(\n",
    "                        int(struct.unpack(\">H\", input.read(2))[0]) - 2)\n",
    "                b = input.read(1)\n",
    "            width = int(w)\n",
    "            height = int(h)\n",
    "        except struct.error:\n",
    "            raise UnknownImageFormat(\"StructError\" + msg)\n",
    "        except ValueError:\n",
    "            raise UnknownImageFormat(\"ValueError\" + msg)\n",
    "        except Exception as e:\n",
    "            raise UnknownImageFormat(e.__class__.__name__ + msg)\n",
    "    elif (size >= 26) and data.startswith(b'BM'):\n",
    "        # BMP\n",
    "        imgtype = 'BMP'\n",
    "        headersize = struct.unpack(\"<I\", data[14:18])[0]\n",
    "        if headersize == 12:\n",
    "            w, h = struct.unpack(\"<HH\", data[18:22])\n",
    "            width = int(w)\n",
    "            height = int(h)\n",
    "        elif headersize >= 40:\n",
    "            w, h = struct.unpack(\"<ii\", data[18:26])\n",
    "            width = int(w)\n",
    "            # as h is negative when stored upside down\n",
    "            height = abs(int(h))\n",
    "        else:\n",
    "            raise UnknownImageFormat(\n",
    "                \"Unkown DIB header size:\" +\n",
    "                str(headersize))\n",
    "    elif (size >= 8) and data[:4] in (b\"II\\052\\000\", b\"MM\\000\\052\"):\n",
    "        # Standard TIFF, big- or little-endian\n",
    "        # BigTIFF and other different but TIFF-like formats are not\n",
    "        # supported currently\n",
    "        imgtype = TIFF\n",
    "        byteOrder = data[:2]\n",
    "        boChar = \">\" if byteOrder == \"MM\" else \"<\"\n",
    "        # maps TIFF type id to size (in bytes)\n",
    "        # and python format char for struct\n",
    "        tiffTypes = {\n",
    "            1: (1, boChar + \"B\"),  # BYTE\n",
    "            2: (1, boChar + \"c\"),  # ASCII\n",
    "            3: (2, boChar + \"H\"),  # SHORT\n",
    "            4: (4, boChar + \"L\"),  # LONG\n",
    "            5: (8, boChar + \"LL\"),  # RATIONAL\n",
    "            6: (1, boChar + \"b\"),  # SBYTE\n",
    "            7: (1, boChar + \"c\"),  # UNDEFINED\n",
    "            8: (2, boChar + \"h\"),  # SSHORT\n",
    "            9: (4, boChar + \"l\"),  # SLONG\n",
    "            10: (8, boChar + \"ll\"),  # SRATIONAL\n",
    "            11: (4, boChar + \"f\"),  # FLOAT\n",
    "            12: (8, boChar + \"d\")   # DOUBLE\n",
    "        }\n",
    "        ifdOffset = struct.unpack(boChar + \"L\", data[4:8])[0]\n",
    "        try:\n",
    "            countSize = 2\n",
    "            input.seek(ifdOffset)\n",
    "            ec = input.read(countSize)\n",
    "            ifdEntryCount = struct.unpack(boChar + \"H\", ec)[0]\n",
    "            # 2 bytes: TagId + 2 bytes: type + 4 bytes: count of values + 4\n",
    "            # bytes: value offset\n",
    "            ifdEntrySize = 12\n",
    "            for i in range(ifdEntryCount):\n",
    "                entryOffset = ifdOffset + countSize + i * ifdEntrySize\n",
    "                input.seek(entryOffset)\n",
    "                tag = input.read(2)\n",
    "                tag = struct.unpack(boChar + \"H\", tag)[0]\n",
    "                if(tag == 256 or tag == 257):\n",
    "                    # if type indicates that value fits into 4 bytes, value\n",
    "                    # offset is not an offset but value itself\n",
    "                    type = input.read(2)\n",
    "                    type = struct.unpack(boChar + \"H\", type)[0]\n",
    "                    if type not in tiffTypes:\n",
    "                        raise UnknownImageFormat(\n",
    "                            \"Unkown TIFF field type:\" +\n",
    "                            str(type))\n",
    "                    typeSize = tiffTypes[type][0]\n",
    "                    typeChar = tiffTypes[type][1]\n",
    "                    input.seek(entryOffset + 8)\n",
    "                    value = input.read(typeSize)\n",
    "                    value = int(struct.unpack(typeChar, value)[0])\n",
    "                    if tag == 256:\n",
    "                        width = value\n",
    "                    else:\n",
    "                        height = value\n",
    "                if width > -1 and height > -1:\n",
    "                    break\n",
    "        except Exception as e:\n",
    "            raise UnknownImageFormat(str(e))\n",
    "    elif size >= 2:\n",
    "            # see http://en.wikipedia.org/wiki/ICO_(file_format)\n",
    "        imgtype = 'ICO'\n",
    "        input.seek(0)\n",
    "        reserved = input.read(2)\n",
    "        if 0 != struct.unpack(\"<H\", reserved)[0]:\n",
    "            raise UnknownImageFormat(FILE_UNKNOWN)\n",
    "        format = input.read(2)\n",
    "        assert 1 == struct.unpack(\"<H\", format)[0]\n",
    "        num = input.read(2)\n",
    "        num = struct.unpack(\"<H\", num)[0]\n",
    "        if num > 1:\n",
    "            import warnings\n",
    "            warnings.warn(\"ICO File contains more than one image\")\n",
    "        # http://msdn.microsoft.com/en-us/library/ms997538.aspx\n",
    "        w = input.read(1)\n",
    "        h = input.read(1)\n",
    "        width = ord(w)\n",
    "        height = ord(h)\n",
    "    else:\n",
    "        raise UnknownImageFormat(FILE_UNKNOWN)\n",
    "\n",
    "    return Image(path=file_path,\n",
    "                 type=imgtype,\n",
    "                 file_size=size,\n",
    "                 width=width,\n",
    "                 height=height)"
   ]
  },
  {
   "cell_type": "code",
   "execution_count": 22,
   "metadata": {},
   "outputs": [],
   "source": [
    "import glob\n",
    "import pandas as pd"
   ]
  },
  {
   "cell_type": "code",
   "execution_count": 38,
   "metadata": {},
   "outputs": [
    {
     "name": "stdout",
     "output_type": "stream",
     "text": [
      "Num images:  66991\n",
      "<class 'pandas.core.frame.DataFrame'>\n",
      "RangeIndex: 66991 entries, 0 to 66990\n",
      "Data columns (total 2 columns):\n",
      "height    66991 non-null float64\n",
      "width     66991 non-null float64\n",
      "dtypes: float64(2)\n",
      "memory usage: 1.0 MB\n",
      "None\n",
      "\n",
      "\n",
      "Height\n",
      "count    66991.000000\n",
      "mean        81.229702\n",
      "std         16.596863\n",
      "min         19.000000\n",
      "25%         69.000000\n",
      "50%         87.000000\n",
      "75%         96.000000\n",
      "max         96.000000\n",
      "Name: height, dtype: float64\n",
      "\n",
      "\n",
      "Width\n",
      "count    66991.000000\n",
      "mean       116.855503\n",
      "std         18.993342\n",
      "min         10.000000\n",
      "25%        111.000000\n",
      "50%        128.000000\n",
      "75%        128.000000\n",
      "max        128.000000\n",
      "Name: width, dtype: float64\n"
     ]
    }
   ],
   "source": [
    "## Train set\n",
    "\n",
    "file_paths = glob.glob('../data/VNOnDB/word/train_word/*.png')\n",
    "print('Num images: ', len(file_paths))\n",
    "\n",
    "df = pd.DataFrame(columns=['height', 'width'])\n",
    "for path in file_paths:\n",
    "    w, h = get_image_size(path)\n",
    "    df = df.append({'height': float(h), 'width': float(w)}, ignore_index=True)\n",
    "\n",
    "print(df.info())\n",
    "print('\\n\\nHeight')\n",
    "print(df.height.describe())\n",
    "print('\\n\\nWidth')\n",
    "print(df.width.describe())"
   ]
  },
  {
   "cell_type": "code",
   "execution_count": 39,
   "metadata": {},
   "outputs": [
    {
     "name": "stdout",
     "output_type": "stream",
     "text": [
      "Num images:  18640\n",
      "<class 'pandas.core.frame.DataFrame'>\n",
      "RangeIndex: 18640 entries, 0 to 18639\n",
      "Data columns (total 2 columns):\n",
      "height    18640 non-null float64\n",
      "width     18640 non-null float64\n",
      "dtypes: float64(2)\n",
      "memory usage: 291.4 KB\n",
      "None\n",
      "\n",
      "\n",
      "Height\n",
      "count    18640.000000\n",
      "mean        80.620815\n",
      "std         16.746222\n",
      "min         17.000000\n",
      "25%         69.000000\n",
      "50%         86.000000\n",
      "75%         96.000000\n",
      "max         96.000000\n",
      "Name: height, dtype: float64\n",
      "\n",
      "\n",
      "Width\n",
      "count    18640.000000\n",
      "mean       118.000697\n",
      "std         17.946590\n",
      "min         22.000000\n",
      "25%        114.000000\n",
      "50%        128.000000\n",
      "75%        128.000000\n",
      "max        128.000000\n",
      "Name: width, dtype: float64\n"
     ]
    }
   ],
   "source": [
    "## Validation set\n",
    "\n",
    "file_paths = glob.glob('../data/VNOnDB/word/validation_word/*.png')\n",
    "print('Num images: ', len(file_paths))\n",
    "\n",
    "df = pd.DataFrame(columns=['height', 'width'])\n",
    "for path in file_paths:\n",
    "    w, h = get_image_size(path)\n",
    "    df = df.append({'height': float(h), 'width': float(w)}, ignore_index=True)\n",
    "\n",
    "print(df.info())\n",
    "print('\\n\\nHeight')\n",
    "print(df.height.describe())\n",
    "print('\\n\\nWidth')\n",
    "print(df.width.describe())"
   ]
  },
  {
   "cell_type": "code",
   "execution_count": 40,
   "metadata": {},
   "outputs": [
    {
     "name": "stdout",
     "output_type": "stream",
     "text": [
      "Num images:  25115\n",
      "<class 'pandas.core.frame.DataFrame'>\n",
      "RangeIndex: 25115 entries, 0 to 25114\n",
      "Data columns (total 2 columns):\n",
      "height    25115 non-null float64\n",
      "width     25115 non-null float64\n",
      "dtypes: float64(2)\n",
      "memory usage: 392.5 KB\n",
      "None\n",
      "\n",
      "\n",
      "Height\n",
      "count    25115.000000\n",
      "mean        81.551901\n",
      "std         16.428251\n",
      "min         19.000000\n",
      "25%         70.000000\n",
      "50%         87.000000\n",
      "75%         96.000000\n",
      "max         96.000000\n",
      "Name: height, dtype: float64\n",
      "\n",
      "\n",
      "Width\n",
      "count    25115.000000\n",
      "mean       116.564563\n",
      "std         19.363510\n",
      "min         11.000000\n",
      "25%        110.000000\n",
      "50%        128.000000\n",
      "75%        128.000000\n",
      "max        128.000000\n",
      "Name: width, dtype: float64\n"
     ]
    }
   ],
   "source": [
    "## Test set\n",
    "\n",
    "file_paths = glob.glob('../data/VNOnDB/word/test_word/*.png')\n",
    "print('Num images: ', len(file_paths))\n",
    "\n",
    "df = pd.DataFrame(columns=['height', 'width'])\n",
    "for path in file_paths:\n",
    "    w, h = get_image_size(path)\n",
    "    df = df.append({'height': float(h), 'width': float(w)}, ignore_index=True)\n",
    "\n",
    "print(df.info())\n",
    "print('\\n\\nHeight')\n",
    "print(df.height.describe())\n",
    "print('\\n\\nWidth')\n",
    "print(df.width.describe())"
   ]
  },
  {
   "cell_type": "markdown",
   "metadata": {},
   "source": [
    "# Ground-truth"
   ]
  },
  {
   "cell_type": "code",
   "execution_count": 41,
   "metadata": {},
   "outputs": [],
   "source": [
    "import glob\n",
    "from collections import Counter\n",
    "import pandas as pd\n",
    "import matplotlib.pyplot as plt"
   ]
  },
  {
   "cell_type": "code",
   "execution_count": 42,
   "metadata": {},
   "outputs": [],
   "source": [
    "def words_info(f_list):\n",
    "    df = pd.read_csv(f_list, sep='\\t')\n",
    "    words_list = df.loc[:, 'label'].astype(str)\n",
    "    words_count = words_list.value_counts()\n",
    "    words_len = Counter(words_list.str.len().values.astype(int))\n",
    "    letters_count = Counter(sorted(''.join(words_list)))\n",
    "    return words_count, letters_count, words_len"
   ]
  },
  {
   "cell_type": "code",
   "execution_count": 43,
   "metadata": {},
   "outputs": [],
   "source": [
    "def split_letters_counter(all_letters_count):\n",
    "    upper_chars_cnt, lower_chars_cnt, numbers_cnt = Counter(), Counter(), Counter()\n",
    "    for letter in all_letters_count.keys():\n",
    "        if letter.isupper():\n",
    "            upper_chars_cnt[letter]=all_letters_count[letter]\n",
    "        elif letter.islower():\n",
    "            lower_chars_cnt[letter]=all_letters_count[letter]\n",
    "        else:\n",
    "            numbers_cnt[letter]=all_letters_count[letter]\n",
    "    return upper_chars_cnt, lower_chars_cnt, numbers_cnt"
   ]
  },
  {
   "cell_type": "code",
   "execution_count": 44,
   "metadata": {},
   "outputs": [],
   "source": [
    "def plot_bar(cnt, img_name, is_sorted=False):\n",
    "    df = pd.DataFrame({\"Letter\": list(cnt.keys()), \"Frequency\": list(cnt.values())})\n",
    "    if is_sorted:\n",
    "        df= df.sort_values('Frequency', ascending=False)\n",
    "        \n",
    "    fig = plt.figure(figsize=(20,10))\n",
    "    plt.bar('Letter', 'Frequency', data=df)\n",
    "    plt.xlim(-1,len(df))\n",
    "    plt.xlabel('Letter', fontsize=15)\n",
    "    plt.ylabel('Frequency', fontsize=15)\n",
    "    \n",
    "    fig.savefig(img_name, dpi=300)"
   ]
  },
  {
   "cell_type": "markdown",
   "metadata": {},
   "source": [
    "## ALL SET"
   ]
  },
  {
   "cell_type": "code",
   "execution_count": 45,
   "metadata": {},
   "outputs": [],
   "source": [
    "_, all_letters_cnt, _ = words_info('../data/VNOnDB/word/all_word.csv')"
   ]
  },
  {
   "cell_type": "code",
   "execution_count": 46,
   "metadata": {},
   "outputs": [],
   "source": [
    "all_upper_chars_cnt, all_lower_chars_cnt, all_numbers_cnt = split_letters_counter(all_letters_cnt)"
   ]
  },
  {
   "cell_type": "code",
   "execution_count": 47,
   "metadata": {
    "scrolled": true
   },
   "outputs": [
    {
     "data": {
      "text/plain": [
       "Counter({'0': 1922,\n",
       "         '1': 1074,\n",
       "         '2': 1012,\n",
       "         '3': 635,\n",
       "         '4': 314,\n",
       "         '5': 441,\n",
       "         '6': 208,\n",
       "         '7': 225,\n",
       "         '8': 176,\n",
       "         '9': 200,\n",
       "         'A': 280,\n",
       "         'B': 1008,\n",
       "         'C': 1627,\n",
       "         'D': 512,\n",
       "         'E': 4,\n",
       "         'F': 1,\n",
       "         'G': 276,\n",
       "         'H': 1199,\n",
       "         'I': 154,\n",
       "         'J': 17,\n",
       "         'K': 457,\n",
       "         'L': 487,\n",
       "         'M': 531,\n",
       "         'N': 1929,\n",
       "         'O': 64,\n",
       "         'P': 755,\n",
       "         'Q': 273,\n",
       "         'R': 65,\n",
       "         'S': 689,\n",
       "         'T': 2533,\n",
       "         'U': 180,\n",
       "         'V': 1065,\n",
       "         'W': 16,\n",
       "         'X': 285,\n",
       "         'Y': 102,\n",
       "         'a': 9906,\n",
       "         'b': 4848,\n",
       "         'c': 20917,\n",
       "         'd': 2247,\n",
       "         'e': 1325,\n",
       "         'f': 26,\n",
       "         'g': 20783,\n",
       "         'h': 31272,\n",
       "         'i': 20900,\n",
       "         'j': 18,\n",
       "         'k': 4359,\n",
       "         'l': 5881,\n",
       "         'm': 8665,\n",
       "         'n': 43466,\n",
       "         'o': 6707,\n",
       "         'p': 4409,\n",
       "         'q': 1669,\n",
       "         'r': 6022,\n",
       "         's': 3086,\n",
       "         't': 21272,\n",
       "         'u': 9878,\n",
       "         'v': 5731,\n",
       "         'x': 1845,\n",
       "         'y': 5325,\n",
       "         'z': 4,\n",
       "         'À': 18,\n",
       "         'Á': 78,\n",
       "         'Â': 40,\n",
       "         'Ô': 150,\n",
       "         'Ú': 21,\n",
       "         'Ý': 1,\n",
       "         'à': 7995,\n",
       "         'á': 4939,\n",
       "         'â': 2565,\n",
       "         'ã': 1426,\n",
       "         'è': 185,\n",
       "         'é': 357,\n",
       "         'ê': 2522,\n",
       "         'ì': 2079,\n",
       "         'í': 1115,\n",
       "         'ò': 803,\n",
       "         'ó': 3009,\n",
       "         'ô': 4216,\n",
       "         'õ': 133,\n",
       "         'ù': 721,\n",
       "         'ú': 1164,\n",
       "         'ý': 527,\n",
       "         'Ă': 1,\n",
       "         'ă': 1190,\n",
       "         'Đ': 862,\n",
       "         'đ': 9467,\n",
       "         'ĩ': 399,\n",
       "         'ũ': 623,\n",
       "         'ƒ': 1,\n",
       "         'Ơ': 50,\n",
       "         'ơ': 1732,\n",
       "         'Ư': 3,\n",
       "         'ư': 6775,\n",
       "         'ạ': 2969,\n",
       "         'Ả': 38,\n",
       "         'ả': 2865,\n",
       "         'Ấ': 42,\n",
       "         'ấ': 2636,\n",
       "         'Ầ': 1,\n",
       "         'ầ': 1412,\n",
       "         'ẩ': 256,\n",
       "         'ẫ': 338,\n",
       "         'ậ': 1650,\n",
       "         'ắ': 708,\n",
       "         'ằ': 297,\n",
       "         'ẳ': 171,\n",
       "         'ẵ': 27,\n",
       "         'ặ': 742,\n",
       "         'ẹ': 203,\n",
       "         'ẻ': 187,\n",
       "         'ẽ': 367,\n",
       "         'ế': 3251,\n",
       "         'Ề': 20,\n",
       "         'ề': 1959,\n",
       "         'Ể': 20,\n",
       "         'ể': 1714,\n",
       "         'ễ': 237,\n",
       "         'Ệ': 20,\n",
       "         'ệ': 2742,\n",
       "         'ỉ': 609,\n",
       "         'ị': 1912,\n",
       "         'ọ': 841,\n",
       "         'ỏ': 466,\n",
       "         'Ố': 1,\n",
       "         'ố': 2250,\n",
       "         'Ồ': 6,\n",
       "         'ồ': 1038,\n",
       "         'ổ': 763,\n",
       "         'ỗ': 354,\n",
       "         'ộ': 2857,\n",
       "         'ớ': 2440,\n",
       "         'ờ': 2748,\n",
       "         'Ở': 21,\n",
       "         'ở': 1339,\n",
       "         'ỡ': 72,\n",
       "         'ợ': 1661,\n",
       "         'ụ': 1036,\n",
       "         'Ủ': 22,\n",
       "         'ủ': 1685,\n",
       "         'ứ': 1181,\n",
       "         'ừ': 897,\n",
       "         'ử': 419,\n",
       "         'ữ': 1004,\n",
       "         'ự': 1358,\n",
       "         'ỳ': 68,\n",
       "         'ỷ': 45,\n",
       "         'ỹ': 46})"
      ]
     },
     "execution_count": 47,
     "metadata": {},
     "output_type": "execute_result"
    }
   ],
   "source": [
    "all_letters_cnt"
   ]
  },
  {
   "cell_type": "code",
   "execution_count": 48,
   "metadata": {},
   "outputs": [
    {
     "data": {
      "image/png": "[encoded data removed]",
      "text/plain": [
       "<Figure size 1440x720 with 1 Axes>"
      ]
     },
     "metadata": {
      "needs_background": "light"
     },
     "output_type": "display_data"
    }
   ],
   "source": [
    "plot_bar(all_letters_cnt, 'word_all/all_letter_frequency.jpg')"
   ]
  },
  {
   "cell_type": "code",
   "execution_count": 49,
   "metadata": {},
   "outputs": [
    {
     "data": {
      "image/png": "[encoded data removed]",
      "text/plain": [
       "<Figure size 1440x720 with 1 Axes>"
      ]
     },
     "metadata": {
      "needs_background": "light"
     },
     "output_type": "display_data"
    }
   ],
   "source": [
    "plot_bar(all_letters_cnt,'word_all/all_letter_frequency_sorted.jpg', is_sorted=True)"
   ]
  },
  {
   "cell_type": "code",
   "execution_count": 50,
   "metadata": {},
   "outputs": [
    {
     "data": {
      "image/png": "[encoded data removed]",
      "text/plain": [
       "<Figure size 1440x720 with 1 Axes>"
      ]
     },
     "metadata": {
      "needs_background": "light"
     },
     "output_type": "display_data"
    }
   ],
   "source": [
    "plot_bar(all_upper_chars_cnt, 'word_all/all_upper_characters_frequency.jpg')"
   ]
  },
  {
   "cell_type": "code",
   "execution_count": 51,
   "metadata": {},
   "outputs": [
    {
     "data": {
      "image/png": "[encoded data removed]",
      "text/plain": [
       "<Figure size 1440x720 with 1 Axes>"
      ]
     },
     "metadata": {
      "needs_background": "light"
     },
     "output_type": "display_data"
    }
   ],
   "source": [
    "plot_bar(all_lower_chars_cnt, 'word_all/all_lower_characters_frequency.jpg')"
   ]
  },
  {
   "cell_type": "code",
   "execution_count": 52,
   "metadata": {},
   "outputs": [
    {
     "data": {
      "image/png": "[encoded data removed]",
      "text/plain": [
       "<Figure size 1440x720 with 1 Axes>"
      ]
     },
     "metadata": {
      "needs_background": "light"
     },
     "output_type": "display_data"
    }
   ],
   "source": [
    "plot_bar(all_numbers_cnt, 'word_all/all_numbers_frequency.jpg')"
   ]
  },
  {
   "cell_type": "markdown",
   "metadata": {},
   "source": [
    "## TRAIN SET"
   ]
  },
  {
   "cell_type": "code",
   "execution_count": 53,
   "metadata": {},
   "outputs": [],
   "source": [
    "_, train_letters_cnt, _ = words_info('../data/VNOnDB/word/train_word.csv')"
   ]
  },
  {
   "cell_type": "code",
   "execution_count": 54,
   "metadata": {},
   "outputs": [],
   "source": [
    "train_upper_chars_cnt, train_lower_chars_cnt, train_numbers_cnt = split_letters_counter(train_letters_cnt)"
   ]
  },
  {
   "cell_type": "code",
   "execution_count": 55,
   "metadata": {
    "scrolled": true
   },
   "outputs": [
    {
     "data": {
      "text/plain": [
       "Counter({'0': 1097,\n",
       "         '1': 587,\n",
       "         '2': 612,\n",
       "         '3': 378,\n",
       "         '4': 173,\n",
       "         '5': 266,\n",
       "         '6': 128,\n",
       "         '7': 147,\n",
       "         '8': 110,\n",
       "         '9': 126,\n",
       "         'A': 153,\n",
       "         'B': 585,\n",
       "         'C': 926,\n",
       "         'D': 294,\n",
       "         'E': 2,\n",
       "         'F': 1,\n",
       "         'G': 182,\n",
       "         'H': 715,\n",
       "         'I': 88,\n",
       "         'J': 6,\n",
       "         'K': 266,\n",
       "         'L': 307,\n",
       "         'M': 317,\n",
       "         'N': 1268,\n",
       "         'O': 41,\n",
       "         'P': 442,\n",
       "         'Q': 170,\n",
       "         'R': 31,\n",
       "         'S': 399,\n",
       "         'T': 1505,\n",
       "         'U': 113,\n",
       "         'V': 646,\n",
       "         'W': 13,\n",
       "         'X': 165,\n",
       "         'Y': 48,\n",
       "         'a': 6030,\n",
       "         'b': 3103,\n",
       "         'c': 12617,\n",
       "         'd': 1364,\n",
       "         'e': 741,\n",
       "         'f': 11,\n",
       "         'g': 12180,\n",
       "         'h': 19102,\n",
       "         'i': 12595,\n",
       "         'j': 10,\n",
       "         'k': 2618,\n",
       "         'l': 3621,\n",
       "         'm': 5234,\n",
       "         'n': 26064,\n",
       "         'o': 4133,\n",
       "         'p': 2632,\n",
       "         'q': 1030,\n",
       "         'r': 3615,\n",
       "         's': 1898,\n",
       "         't': 12946,\n",
       "         'u': 5880,\n",
       "         'v': 3531,\n",
       "         'x': 1087,\n",
       "         'y': 3180,\n",
       "         'z': 3,\n",
       "         'À': 18,\n",
       "         'Á': 72,\n",
       "         'Â': 38,\n",
       "         'Ô': 81,\n",
       "         'Ú': 21,\n",
       "         'à': 4998,\n",
       "         'á': 2864,\n",
       "         'â': 1551,\n",
       "         'ã': 879,\n",
       "         'è': 118,\n",
       "         'é': 246,\n",
       "         'ê': 1425,\n",
       "         'ì': 1337,\n",
       "         'í': 744,\n",
       "         'ò': 426,\n",
       "         'ó': 1920,\n",
       "         'ô': 2441,\n",
       "         'õ': 75,\n",
       "         'ù': 452,\n",
       "         'ú': 644,\n",
       "         'ý': 312,\n",
       "         'ă': 645,\n",
       "         'Đ': 585,\n",
       "         'đ': 5721,\n",
       "         'ĩ': 260,\n",
       "         'ũ': 364,\n",
       "         'Ơ': 34,\n",
       "         'ơ': 1015,\n",
       "         'Ư': 3,\n",
       "         'ư': 4048,\n",
       "         'ạ': 1802,\n",
       "         'Ả': 38,\n",
       "         'ả': 1869,\n",
       "         'Ấ': 42,\n",
       "         'ấ': 1525,\n",
       "         'Ầ': 1,\n",
       "         'ầ': 878,\n",
       "         'ẩ': 136,\n",
       "         'ẫ': 209,\n",
       "         'ậ': 1071,\n",
       "         'ắ': 458,\n",
       "         'ằ': 167,\n",
       "         'ẳ': 110,\n",
       "         'ẵ': 6,\n",
       "         'ặ': 481,\n",
       "         'ẹ': 159,\n",
       "         'ẻ': 111,\n",
       "         'ẽ': 230,\n",
       "         'ế': 2029,\n",
       "         'Ề': 20,\n",
       "         'ề': 1164,\n",
       "         'Ể': 20,\n",
       "         'ể': 1171,\n",
       "         'ễ': 122,\n",
       "         'Ệ': 20,\n",
       "         'ệ': 1642,\n",
       "         'ỉ': 347,\n",
       "         'ị': 1078,\n",
       "         'ọ': 552,\n",
       "         'ỏ': 299,\n",
       "         'Ố': 1,\n",
       "         'ố': 1293,\n",
       "         'Ồ': 1,\n",
       "         'ồ': 608,\n",
       "         'ổ': 442,\n",
       "         'ỗ': 222,\n",
       "         'ộ': 1694,\n",
       "         'ớ': 1554,\n",
       "         'ờ': 1656,\n",
       "         'Ở': 10,\n",
       "         'ở': 801,\n",
       "         'ỡ': 46,\n",
       "         'ợ': 1018,\n",
       "         'ụ': 569,\n",
       "         'Ủ': 20,\n",
       "         'ủ': 1077,\n",
       "         'ứ': 688,\n",
       "         'ừ': 486,\n",
       "         'ử': 245,\n",
       "         'ữ': 589,\n",
       "         'ự': 841,\n",
       "         'ỳ': 49,\n",
       "         'ỷ': 23,\n",
       "         'ỹ': 27})"
      ]
     },
     "execution_count": 55,
     "metadata": {},
     "output_type": "execute_result"
    }
   ],
   "source": [
    "train_letters_cnt"
   ]
  },
  {
   "cell_type": "code",
   "execution_count": 56,
   "metadata": {
    "scrolled": true
   },
   "outputs": [
    {
     "data": {
      "text/plain": [
       "[('n', 26064),\n",
       " ('h', 19102),\n",
       " ('t', 12946),\n",
       " ('c', 12617),\n",
       " ('i', 12595),\n",
       " ('g', 12180),\n",
       " ('a', 6030),\n",
       " ('u', 5880),\n",
       " ('đ', 5721),\n",
       " ('m', 5234),\n",
       " ('à', 4998),\n",
       " ('o', 4133),\n",
       " ('ư', 4048),\n",
       " ('l', 3621),\n",
       " ('r', 3615),\n",
       " ('v', 3531),\n",
       " ('y', 3180),\n",
       " ('b', 3103),\n",
       " ('á', 2864),\n",
       " ('p', 2632),\n",
       " ('k', 2618),\n",
       " ('ô', 2441),\n",
       " ('ế', 2029),\n",
       " ('ó', 1920),\n",
       " ('s', 1898),\n",
       " ('ả', 1869),\n",
       " ('ạ', 1802),\n",
       " ('ộ', 1694),\n",
       " ('ờ', 1656),\n",
       " ('ệ', 1642),\n",
       " ('ớ', 1554),\n",
       " ('â', 1551),\n",
       " ('ấ', 1525),\n",
       " ('T', 1505),\n",
       " ('ê', 1425),\n",
       " ('d', 1364),\n",
       " ('ì', 1337),\n",
       " ('ố', 1293),\n",
       " ('N', 1268),\n",
       " ('ể', 1171),\n",
       " ('ề', 1164),\n",
       " ('0', 1097),\n",
       " ('x', 1087),\n",
       " ('ị', 1078),\n",
       " ('ủ', 1077),\n",
       " ('ậ', 1071),\n",
       " ('q', 1030),\n",
       " ('ợ', 1018),\n",
       " ('ơ', 1015),\n",
       " ('C', 926),\n",
       " ('ã', 879),\n",
       " ('ầ', 878),\n",
       " ('ự', 841),\n",
       " ('ở', 801),\n",
       " ('í', 744),\n",
       " ('e', 741),\n",
       " ('H', 715),\n",
       " ('ứ', 688),\n",
       " ('V', 646),\n",
       " ('ă', 645),\n",
       " ('ú', 644),\n",
       " ('2', 612),\n",
       " ('ồ', 608),\n",
       " ('ữ', 589),\n",
       " ('1', 587),\n",
       " ('B', 585),\n",
       " ('Đ', 585),\n",
       " ('ụ', 569),\n",
       " ('ọ', 552),\n",
       " ('ừ', 486),\n",
       " ('ặ', 481),\n",
       " ('ắ', 458),\n",
       " ('ù', 452),\n",
       " ('P', 442),\n",
       " ('ổ', 442),\n",
       " ('ò', 426),\n",
       " ('S', 399),\n",
       " ('3', 378),\n",
       " ('ũ', 364),\n",
       " ('ỉ', 347),\n",
       " ('M', 317),\n",
       " ('ý', 312),\n",
       " ('L', 307),\n",
       " ('ỏ', 299),\n",
       " ('D', 294),\n",
       " ('5', 266),\n",
       " ('K', 266),\n",
       " ('ĩ', 260),\n",
       " ('é', 246),\n",
       " ('ử', 245),\n",
       " ('ẽ', 230),\n",
       " ('ỗ', 222),\n",
       " ('ẫ', 209),\n",
       " ('G', 182),\n",
       " ('4', 173),\n",
       " ('Q', 170),\n",
       " ('ằ', 167),\n",
       " ('X', 165),\n",
       " ('ẹ', 159),\n",
       " ('A', 153),\n",
       " ('7', 147),\n",
       " ('ẩ', 136),\n",
       " ('6', 128),\n",
       " ('9', 126),\n",
       " ('ễ', 122),\n",
       " ('è', 118),\n",
       " ('U', 113),\n",
       " ('ẻ', 111),\n",
       " ('8', 110),\n",
       " ('ẳ', 110),\n",
       " ('I', 88),\n",
       " ('Ô', 81),\n",
       " ('õ', 75),\n",
       " ('Á', 72),\n",
       " ('ỳ', 49),\n",
       " ('Y', 48),\n",
       " ('ỡ', 46),\n",
       " ('Ấ', 42),\n",
       " ('O', 41),\n",
       " ('Â', 38),\n",
       " ('Ả', 38),\n",
       " ('Ơ', 34),\n",
       " ('R', 31),\n",
       " ('ỹ', 27),\n",
       " ('ỷ', 23),\n",
       " ('Ú', 21),\n",
       " ('Ề', 20),\n",
       " ('Ể', 20),\n",
       " ('Ệ', 20),\n",
       " ('Ủ', 20),\n",
       " ('À', 18),\n",
       " ('W', 13),\n",
       " ('f', 11),\n",
       " ('j', 10),\n",
       " ('Ở', 10),\n",
       " ('J', 6),\n",
       " ('ẵ', 6),\n",
       " ('z', 3),\n",
       " ('Ư', 3),\n",
       " ('E', 2),\n",
       " ('F', 1),\n",
       " ('Ầ', 1),\n",
       " ('Ố', 1),\n",
       " ('Ồ', 1)]"
      ]
     },
     "execution_count": 56,
     "metadata": {},
     "output_type": "execute_result"
    }
   ],
   "source": [
    "sorted(train_letters_cnt.items(), key=lambda pair: pair[1], reverse=True)"
   ]
  },
  {
   "cell_type": "code",
   "execution_count": 57,
   "metadata": {},
   "outputs": [
    {
     "data": {
      "image/png": "[encoded data removed]",
      "text/plain": [
       "<Figure size 1440x720 with 1 Axes>"
      ]
     },
     "metadata": {
      "needs_background": "light"
     },
     "output_type": "display_data"
    }
   ],
   "source": [
    "plot_bar(train_letters_cnt, 'word_train/train_letter_frequency.jpg')"
   ]
  },
  {
   "cell_type": "code",
   "execution_count": 58,
   "metadata": {},
   "outputs": [
    {
     "data": {
      "image/png": "[encoded data removed]",
      "text/plain": [
       "<Figure size 1440x720 with 1 Axes>"
      ]
     },
     "metadata": {
      "needs_background": "light"
     },
     "output_type": "display_data"
    }
   ],
   "source": [
    "plot_bar(train_upper_chars_cnt, 'word_train/train_upper_characters_frequency.jpg')"
   ]
  },
  {
   "cell_type": "code",
   "execution_count": 59,
   "metadata": {},
   "outputs": [
    {
     "data": {
      "image/png": "[encoded data removed]",
      "text/plain": [
       "<Figure size 1440x720 with 1 Axes>"
      ]
     },
     "metadata": {
      "needs_background": "light"
     },
     "output_type": "display_data"
    }
   ],
   "source": [
    "plot_bar(train_lower_chars_cnt, 'word_train/train_lower_characters_frequency.jpg')"
   ]
  },
  {
   "cell_type": "code",
   "execution_count": 60,
   "metadata": {},
   "outputs": [
    {
     "data": {
      "image/png": "[encoded data removed]",
      "text/plain": [
       "<Figure size 1440x720 with 1 Axes>"
      ]
     },
     "metadata": {
      "needs_background": "light"
     },
     "output_type": "display_data"
    }
   ],
   "source": [
    "plot_bar(train_numbers_cnt, 'word_train/train_numbers_frequency.jpg')"
   ]
  },
  {
   "cell_type": "markdown",
   "metadata": {},
   "source": [
    "## VALIDATION SET"
   ]
  },
  {
   "cell_type": "code",
   "execution_count": 61,
   "metadata": {},
   "outputs": [],
   "source": [
    "_, validation_letters_cnt, _ = words_info('../data/VNOnDB/word/validation_word.csv')"
   ]
  },
  {
   "cell_type": "code",
   "execution_count": 62,
   "metadata": {},
   "outputs": [],
   "source": [
    "validation_upper_chars_cnt, validation_lower_chars_cnt, validation_numbers_cnt = split_letters_counter(validation_letters_cnt)"
   ]
  },
  {
   "cell_type": "code",
   "execution_count": 80,
   "metadata": {},
   "outputs": [
    {
     "data": {
      "text/plain": [
       "[('n', 7402),\n",
       " ('h', 5166),\n",
       " ('g', 3784),\n",
       " ('c', 3634),\n",
       " ('t', 3623),\n",
       " ('i', 3496),\n",
       " ('u', 1684),\n",
       " ('a', 1638),\n",
       " ('đ', 1591),\n",
       " ('m', 1493),\n",
       " ('à', 1311),\n",
       " ('ư', 1206),\n",
       " ('o', 1131),\n",
       " ('r', 1091),\n",
       " ('l', 927),\n",
       " ('á', 911),\n",
       " ('y', 906),\n",
       " ('v', 895),\n",
       " ('ô', 815),\n",
       " ('p', 779),\n",
       " ('k', 776),\n",
       " ('b', 710),\n",
       " ('ế', 554),\n",
       " ('ó', 515),\n",
       " ('s', 505),\n",
       " ('ờ', 501),\n",
       " ('ộ', 498),\n",
       " ('ạ', 487),\n",
       " ('ấ', 471),\n",
       " ('ệ', 465),\n",
       " ('T', 461),\n",
       " ('ê', 452),\n",
       " ('ả', 396),\n",
       " ('ố', 389),\n",
       " ('â', 377),\n",
       " ('ớ', 374),\n",
       " ('ị', 373),\n",
       " ('ề', 332),\n",
       " ('0', 331),\n",
       " ('ì', 329),\n",
       " ('x', 321),\n",
       " ('C', 310),\n",
       " ('d', 304),\n",
       " ('N', 302),\n",
       " ('ơ', 280),\n",
       " ('ợ', 275),\n",
       " ('ậ', 269),\n",
       " ('q', 261),\n",
       " ('ủ', 261),\n",
       " ('e', 259),\n",
       " ('ú', 252),\n",
       " ('ầ', 246),\n",
       " ('1', 245),\n",
       " ('ở', 228),\n",
       " ('ể', 223),\n",
       " ('ứ', 219),\n",
       " ('ừ', 210),\n",
       " ('ă', 207),\n",
       " ('V', 203),\n",
       " ('B', 194),\n",
       " ('ự', 188),\n",
       " ('í', 184),\n",
       " ('ã', 181),\n",
       " ('ữ', 176),\n",
       " ('H', 174),\n",
       " ('ồ', 172),\n",
       " ('2', 165),\n",
       " ('ụ', 147),\n",
       " ('P', 145),\n",
       " ('ò', 141),\n",
       " ('ổ', 140),\n",
       " ('ọ', 133),\n",
       " ('ù', 126),\n",
       " ('ũ', 122),\n",
       " ('S', 105),\n",
       " ('3', 104),\n",
       " ('M', 104),\n",
       " ('Đ', 101),\n",
       " ('ắ', 100),\n",
       " ('ặ', 100),\n",
       " ('ỉ', 99),\n",
       " ('D', 88),\n",
       " ('ý', 80),\n",
       " ('ỏ', 76),\n",
       " ('K', 75),\n",
       " ('ĩ', 72),\n",
       " ('5', 69),\n",
       " ('4', 66),\n",
       " ('L', 65),\n",
       " ('ẽ', 65),\n",
       " ('ỗ', 64),\n",
       " ('A', 59),\n",
       " ('ằ', 54),\n",
       " ('ẫ', 53),\n",
       " ('ử', 51),\n",
       " ('7', 47),\n",
       " ('ễ', 46),\n",
       " ('G', 42),\n",
       " ('6', 41),\n",
       " ('ẩ', 41),\n",
       " ('Q', 40),\n",
       " ('é', 39),\n",
       " ('X', 36),\n",
       " ('Ô', 35),\n",
       " ('8', 32),\n",
       " ('9', 32),\n",
       " ('ẳ', 28),\n",
       " ('ẻ', 25),\n",
       " ('õ', 19),\n",
       " ('ẹ', 19),\n",
       " ('R', 17),\n",
       " ('è', 17),\n",
       " ('Ơ', 16),\n",
       " ('I', 15),\n",
       " ('ỡ', 15),\n",
       " ('U', 11),\n",
       " ('J', 8),\n",
       " ('ỷ', 8),\n",
       " ('ỹ', 8),\n",
       " ('Y', 7),\n",
       " ('ỳ', 7),\n",
       " ('ẵ', 5),\n",
       " ('Ồ', 4),\n",
       " ('Ở', 4),\n",
       " ('O', 3),\n",
       " ('f', 3),\n",
       " ('j', 3),\n",
       " ('Á', 2),\n",
       " ('z', 1),\n",
       " ('Ý', 1),\n",
       " ('ƒ', 1)]"
      ]
     },
     "execution_count": 80,
     "metadata": {},
     "output_type": "execute_result"
    }
   ],
   "source": [
    "sorted(validation_letters_cnt.items(), key=lambda pair: pair[1], reverse=True)"
   ]
  },
  {
   "cell_type": "code",
   "execution_count": 63,
   "metadata": {},
   "outputs": [
    {
     "data": {
      "image/png": "[encoded data removed]",
      "text/plain": [
       "<Figure size 1440x720 with 1 Axes>"
      ]
     },
     "metadata": {
      "needs_background": "light"
     },
     "output_type": "display_data"
    }
   ],
   "source": [
    "plot_bar(validation_letters_cnt, 'word_validation/validation_letter_frequency.jpg')"
   ]
  },
  {
   "cell_type": "code",
   "execution_count": 64,
   "metadata": {},
   "outputs": [
    {
     "data": {
      "image/png": "[encoded data removed]",
      "text/plain": [
       "<Figure size 1440x720 with 1 Axes>"
      ]
     },
     "metadata": {
      "needs_background": "light"
     },
     "output_type": "display_data"
    }
   ],
   "source": [
    "plot_bar(validation_upper_chars_cnt, 'word_validation/validation_upper_characters_frequency.jpg')"
   ]
  },
  {
   "cell_type": "code",
   "execution_count": 65,
   "metadata": {},
   "outputs": [
    {
     "data": {
      "image/png": "[encoded data removed]",
      "text/plain": [
       "<Figure size 1440x720 with 1 Axes>"
      ]
     },
     "metadata": {
      "needs_background": "light"
     },
     "output_type": "display_data"
    }
   ],
   "source": [
    "plot_bar(validation_lower_chars_cnt, 'word_validation/validation_lower_characters_frequency.jpg')"
   ]
  },
  {
   "cell_type": "code",
   "execution_count": 66,
   "metadata": {},
   "outputs": [
    {
     "data": {
      "image/png": "[encoded data removed]",
      "text/plain": [
       "<Figure size 1440x720 with 1 Axes>"
      ]
     },
     "metadata": {
      "needs_background": "light"
     },
     "output_type": "display_data"
    }
   ],
   "source": [
    "plot_bar(validation_numbers_cnt, 'word_validation/validation_numbers_frequency.jpg')"
   ]
  },
  {
   "cell_type": "markdown",
   "metadata": {},
   "source": [
    "## TEST SET"
   ]
  },
  {
   "cell_type": "code",
   "execution_count": 67,
   "metadata": {},
   "outputs": [],
   "source": [
    "_, test_letters_cnt, _ = words_info('../data/VNOnDB/word/test_word.csv')"
   ]
  },
  {
   "cell_type": "code",
   "execution_count": 68,
   "metadata": {},
   "outputs": [],
   "source": [
    "test_upper_chars_cnt, test_lower_chars_cnt, test_numbers_cnt = split_letters_counter(test_letters_cnt)"
   ]
  },
  {
   "cell_type": "code",
   "execution_count": 81,
   "metadata": {},
   "outputs": [
    {
     "data": {
      "text/plain": [
       "[('n', 10000),\n",
       " ('h', 7004),\n",
       " ('g', 4819),\n",
       " ('i', 4809),\n",
       " ('t', 4703),\n",
       " ('c', 4666),\n",
       " ('u', 2314),\n",
       " ('a', 2238),\n",
       " ('đ', 2155),\n",
       " ('m', 1938),\n",
       " ('à', 1686),\n",
       " ('ư', 1521),\n",
       " ('o', 1443),\n",
       " ('l', 1333),\n",
       " ('r', 1316),\n",
       " ('v', 1305),\n",
       " ('y', 1239),\n",
       " ('á', 1164),\n",
       " ('b', 1035),\n",
       " ('p', 998),\n",
       " ('k', 965),\n",
       " ('ô', 960),\n",
       " ('s', 683),\n",
       " ('ạ', 680),\n",
       " ('ế', 668),\n",
       " ('ộ', 665),\n",
       " ('ê', 645),\n",
       " ('ấ', 640),\n",
       " ('â', 637),\n",
       " ('ệ', 635),\n",
       " ('ả', 600),\n",
       " ('ờ', 591),\n",
       " ('d', 579),\n",
       " ('ó', 574),\n",
       " ('ố', 568),\n",
       " ('T', 567),\n",
       " ('ớ', 512),\n",
       " ('0', 494),\n",
       " ('ề', 463),\n",
       " ('ị', 461),\n",
       " ('x', 437),\n",
       " ('ơ', 437),\n",
       " ('ì', 413),\n",
       " ('C', 391),\n",
       " ('q', 378),\n",
       " ('ợ', 368),\n",
       " ('ã', 366),\n",
       " ('N', 359),\n",
       " ('ủ', 347),\n",
       " ('ă', 338),\n",
       " ('ự', 329),\n",
       " ('e', 325),\n",
       " ('ể', 320),\n",
       " ('ụ', 320),\n",
       " ('H', 310),\n",
       " ('ậ', 310),\n",
       " ('ở', 310),\n",
       " ('ầ', 288),\n",
       " ('ứ', 274),\n",
       " ('ú', 268),\n",
       " ('ồ', 258),\n",
       " ('1', 242),\n",
       " ('ữ', 239),\n",
       " ('ò', 236),\n",
       " ('2', 235),\n",
       " ('B', 229),\n",
       " ('V', 216),\n",
       " ('ừ', 201),\n",
       " ('í', 187),\n",
       " ('S', 185),\n",
       " ('ổ', 181),\n",
       " ('Đ', 176),\n",
       " ('P', 168),\n",
       " ('ỉ', 163),\n",
       " ('ặ', 161),\n",
       " ('ọ', 156),\n",
       " ('3', 153),\n",
       " ('ắ', 150),\n",
       " ('ù', 143),\n",
       " ('ũ', 137),\n",
       " ('ý', 135),\n",
       " ('D', 130),\n",
       " ('ử', 123),\n",
       " ('K', 116),\n",
       " ('L', 115),\n",
       " ('M', 110),\n",
       " ('5', 106),\n",
       " ('ỏ', 91),\n",
       " ('X', 84),\n",
       " ('ẩ', 79),\n",
       " ('ẫ', 76),\n",
       " ('ằ', 76),\n",
       " ('4', 75),\n",
       " ('é', 72),\n",
       " ('ẽ', 72),\n",
       " ('ễ', 69),\n",
       " ('A', 68),\n",
       " ('ỗ', 68),\n",
       " ('ĩ', 67),\n",
       " ('Q', 63),\n",
       " ('U', 56),\n",
       " ('G', 52),\n",
       " ('I', 51),\n",
       " ('ẻ', 51),\n",
       " ('è', 50),\n",
       " ('Y', 47),\n",
       " ('9', 42),\n",
       " ('6', 39),\n",
       " ('õ', 39),\n",
       " ('8', 34),\n",
       " ('Ô', 34),\n",
       " ('ẳ', 33),\n",
       " ('7', 31),\n",
       " ('ẹ', 25),\n",
       " ('O', 20),\n",
       " ('R', 17),\n",
       " ('ẵ', 16),\n",
       " ('ỷ', 14),\n",
       " ('f', 12),\n",
       " ('ỳ', 12),\n",
       " ('ỡ', 11),\n",
       " ('ỹ', 11),\n",
       " ('Ở', 7),\n",
       " ('j', 5),\n",
       " ('Á', 4),\n",
       " ('J', 3),\n",
       " ('W', 3),\n",
       " ('E', 2),\n",
       " ('Â', 2),\n",
       " ('Ủ', 2),\n",
       " ('Ă', 1),\n",
       " ('Ồ', 1)]"
      ]
     },
     "execution_count": 81,
     "metadata": {},
     "output_type": "execute_result"
    }
   ],
   "source": [
    "sorted(test_letters_cnt.items(), key=lambda pair: pair[1], reverse=True)"
   ]
  },
  {
   "cell_type": "code",
   "execution_count": 69,
   "metadata": {},
   "outputs": [
    {
     "data": {
      "image/png": "[encoded data removed]",
      "text/plain": [
       "<Figure size 1440x720 with 1 Axes>"
      ]
     },
     "metadata": {
      "needs_background": "light"
     },
     "output_type": "display_data"
    }
   ],
   "source": [
    "plot_bar(test_letters_cnt, 'word_test/test_letter_frequency.jpg')"
   ]
  },
  {
   "cell_type": "code",
   "execution_count": 70,
   "metadata": {},
   "outputs": [
    {
     "data": {
      "image/png": "[encoded data removed]",
      "text/plain": [
       "<Figure size 1440x720 with 1 Axes>"
      ]
     },
     "metadata": {
      "needs_background": "light"
     },
     "output_type": "display_data"
    }
   ],
   "source": [
    "plot_bar(test_upper_chars_cnt, 'word_test/test_upper_characters_frequency.jpg')"
   ]
  },
  {
   "cell_type": "code",
   "execution_count": 71,
   "metadata": {},
   "outputs": [
    {
     "data": {
      "image/png": "[encoded data removed]",
      "text/plain": [
       "<Figure size 1440x720 with 1 Axes>"
      ]
     },
     "metadata": {
      "needs_background": "light"
     },
     "output_type": "display_data"
    }
   ],
   "source": [
    "plot_bar(test_lower_chars_cnt, 'word_test/test_lower_characters_frequency.jpg')"
   ]
  },
  {
   "cell_type": "code",
   "execution_count": 72,
   "metadata": {},
   "outputs": [
    {
     "data": {
      "image/png": "[encoded data removed]",
      "text/plain": [
       "<Figure size 1440x720 with 1 Axes>"
      ]
     },
     "metadata": {
      "needs_background": "light"
     },
     "output_type": "display_data"
    }
   ],
   "source": [
    "plot_bar(test_numbers_cnt, 'word_test/test_numbers_frequency.jpg')"
   ]
  },
  {
   "cell_type": "markdown",
   "metadata": {},
   "source": [
    "# MISSING"
   ]
  },
  {
   "cell_type": "code",
   "execution_count": 73,
   "metadata": {},
   "outputs": [
    {
     "name": "stdout",
     "output_type": "stream",
     "text": [
      "Number of letters in all: 147\n",
      "Number of letters in train-set: 144\n",
      "Number of letters in validation-set: 131\n",
      "Number of letters in test-set: 132\n"
     ]
    }
   ],
   "source": [
    "print(f'Number of letters in all: {len(all_letters_cnt)}')\n",
    "print(f'Number of letters in train-set: {len(train_letters_cnt)}')\n",
    "print(f'Number of letters in validation-set: {len(validation_letters_cnt)}')\n",
    "print(f'Number of letters in test-set: {len(test_letters_cnt)}')"
   ]
  },
  {
   "cell_type": "code",
   "execution_count": 75,
   "metadata": {},
   "outputs": [
    {
     "name": "stdout",
     "output_type": "stream",
     "text": [
      "validation-set OOV: {'ƒ', 'Ý'}\n",
      "test-set OOV: {'Ă'}\n"
     ]
    }
   ],
   "source": [
    "# OOV\n",
    "print(f'validation-set OOV: {validation_letters_cnt.keys() - train_letters_cnt.keys()}')\n",
    "print(f'test-set OOV: {test_letters_cnt.keys() - train_letters_cnt}')"
   ]
  }
 ],
 "metadata": {
  "kernelspec": {
   "display_name": "Python 3",
   "language": "python",
   "name": "python3"
  },
  "language_info": {
   "codemirror_mode": {
    "name": "ipython",
    "version": 3
   },
   "file_extension": ".py",
   "mimetype": "text/x-python",
   "name": "python",
   "nbconvert_exporter": "python",
   "pygments_lexer": "ipython3",
   "version": "3.6.9"
  }
 },
 "nbformat": 4,
 "nbformat_minor": 4
}