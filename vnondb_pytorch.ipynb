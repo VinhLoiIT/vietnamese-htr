{
 "cells": [
  {
   "cell_type": "markdown",
   "metadata": {},
   "source": [
    "# Load dataset"
   ]
  },
  {
   "cell_type": "code",
   "execution_count": 16,
   "metadata": {},
   "outputs": [],
   "source": [
    "import os\n",
    "import glob\n",
    "import numpy as np\n",
    "import matplotlib.pyplot as plt\n",
    "from mpl_toolkits.axes_grid1 import AxesGrid\n",
    "\n",
    "import pdb\n",
    "\n",
    "import pandas as pd"
   ]
  },
  {
   "cell_type": "code",
   "execution_count": 17,
   "metadata": {},
   "outputs": [],
   "source": [
    "import skimage.io as io\n",
    "from skimage.transform import rescale"
   ]
  },
  {
   "cell_type": "code",
   "execution_count": 18,
   "metadata": {},
   "outputs": [],
   "source": [
    "import torch\n",
    "import torch.nn as nn\n",
    "import torch.nn.functional as F\n",
    "import torch.optim as optim\n",
    "\n",
    "from torch.utils.data import Dataset, DataLoader\n",
    "\n",
    "import torchvision.transforms as transforms"
   ]
  },
  {
   "cell_type": "code",
   "execution_count": 19,
   "metadata": {},
   "outputs": [],
   "source": [
    "def get_vietnamese_alphabets(is_include_space=False):\n",
    "    lower_vowels_with_dm = u'áàảãạắằẳãặâấầẩẫậíìỉĩịúùủũụưứừửữựéèẻẽẹêếềểễệóòỏõọơớờởỡợôốồổỗộyýỳỷỹỵ'\n",
    "    upper_vowels_with_dm = lower_vowels_with_dm.upper()\n",
    "    lower_without_dm = u'abcdefghijklmnopqrstuvwxyzđ'\n",
    "    upper_without_dm = lower_without_dm.upper()\n",
    "    digits = '1234567890'\n",
    "    \n",
    "    if is_include_space:\n",
    "        symbols = '?/*+-!,.\"\\':;#%&()[] ' # including space character ' ' is using for line recognition only \n",
    "    else:\n",
    "        symbols = '?/*+-!,.\"\\':;#%&()[]' # including space character ' ' is using for line recognition only\n",
    "    alphabets = lower_vowels_with_dm + lower_without_dm + upper_vowels_with_dm + upper_without_dm + digits + symbols\n",
    "    return alphabets"
   ]
  },
  {
   "cell_type": "code",
   "execution_count": 20,
   "metadata": {},
   "outputs": [],
   "source": [
    "class LabelEncoderDecoder:\n",
    "    \"\"\"\n",
    "    Encode a string to one hot vectors and vice versa\n",
    "    \"\"\"\n",
    "    def __init__(self, alphabets=None, eos_char=None, is_include_space=False):\n",
    "        \n",
    "        self.alphabets = alphabets or get_vietnamese_alphabets(is_include_space)\n",
    "        self.eos_char = eos_char or '\\n'    \n",
    "        \n",
    "        self.alphabets = self.alphabets + self.eos_char\n",
    "        self.char_to_int = dict((c, i) for i, c in enumerate(self.alphabets))\n",
    "        self.int_to_char = dict((i, c) for i, c in enumerate(self.alphabets))\n",
    "\n",
    "    def encode(self, string):\n",
    "        \"\"\"\n",
    "        Encode a string to one hot vector using alphabets\n",
    "        \"\"\"\n",
    "        encoded_vectors = []\n",
    "        for char in string:\n",
    "            vector = [0]*len(self.alphabets)\n",
    "            vector[self.char_to_int[char]] = 1\n",
    "            encoded_vectors.append(vector)\n",
    "        return np.array(encoded_vectors, dtype=int)\n",
    "\n",
    "    def decode(self, vectors):\n",
    "        string = ''.join(self.int_to_char[np.argmax(vector)] for vector in vectors)\n",
    "        string = string.replace(self.eos_char, '')\n",
    "        return string\n",
    "    \n",
    "label_encoder_decoder = LabelEncoderDecoder(get_vietnamese_alphabets(is_include_space=False), eos_char='\\n', is_include_space=False)"
   ]
  },
  {
   "cell_type": "code",
   "execution_count": 21,
   "metadata": {},
   "outputs": [],
   "source": [
    "# TODO: this is temporal for now, because line-level has less files than word-level, thus load faster.\n",
    "img_train_folder = './data/VNOnDB/line_train/'\n",
    "img_val_folder = './data/VNOnDB/line_val/'\n",
    "img_test_folder = './data/VNOnDB/line_test/'\n",
    "# train_folder = './dataset/VNOnDB/word_train/'\n",
    "# val_folder = './dataset/VNOnDB/word_val/'\n",
    "# test_folder = './dataset/VNOnDB/word_test/'"
   ]
  },
  {
   "cell_type": "code",
   "execution_count": 22,
   "metadata": {},
   "outputs": [],
   "source": [
    "class VNOnDBDataset(Dataset):\n",
    "    def __init__(self, root_dir, dataframe, transform=None):\n",
    "        self.root_dir = root_dir\n",
    "        \n",
    "        self.df = dataframe\n",
    "        self.transform = transform\n",
    "        \n",
    "    def __len__(self):\n",
    "        return len(self.df)\n",
    "    \n",
    "    def __getitem__(self, idx):\n",
    "        \n",
    "        image_path = os.path.join(self.root_dir, self.df['id'][idx]+'.png')\n",
    "        image = io.imread(image_path)\n",
    "        \n",
    "        if self.transform:\n",
    "            image = self.transform(image)\n",
    "        \n",
    "        label = self.df['label'][idx]\n",
    "        label = label + label_encoder_decoder.eos_char\n",
    "        label = label_encoder_decoder.encode(label)\n",
    "            \n",
    "        return image, label"
   ]
  },
  {
   "cell_type": "code",
   "execution_count": 23,
   "metadata": {},
   "outputs": [],
   "source": [
    "transform = transforms.Compose([\n",
    "    transforms.ToPILImage(),\n",
    "    transforms.Resize((32, 48)),\n",
    "#     transforms.Resize((8, 12)),\n",
    "    transforms.Grayscale(),\n",
    "    transforms.ToTensor(),\n",
    "])"
   ]
  },
  {
   "cell_type": "code",
   "execution_count": 24,
   "metadata": {},
   "outputs": [
    {
     "name": "stdout",
     "output_type": "stream",
     "text": [
      "66991\n",
      "torch.Size([1, 32, 48]) (5, 216)\n"
     ]
    },
    {
     "data": {
      "text/plain": [
       "'đáng'"
      ]
     },
     "execution_count": 24,
     "metadata": {},
     "output_type": "execute_result"
    },
    {
     "data": {
      "image/png": "[encoded data removed]",
      "text/plain": [
       "<Figure size 432x288 with 1 Axes>"
      ]
     },
     "metadata": {
      "needs_background": "light"
     },
     "output_type": "display_data"
    }
   ],
   "source": [
    "# TEST\n",
    "mode = 'train'\n",
    "level = 'word'\n",
    "\n",
    "df = pd.read_csv(f'./data/VNOnDB/{mode}_{level}.csv', sep='\\t', index_col=0)\n",
    "print(len(df))\n",
    "dataset = VNOnDBDataset(f'./data/VNOnDB/{level}_{mode}', df, transform)\n",
    "\n",
    "X, y = dataset[803]\n",
    "# plt.rcParams['figure.figsize'] = (2,1)\n",
    "plt.imshow(torch.squeeze(X), cmap='gray')\n",
    "print(X.shape, y.shape)\n",
    "label_encoder_decoder.decode(y)"
   ]
  },
  {
   "cell_type": "code",
   "execution_count": 25,
   "metadata": {},
   "outputs": [
    {
     "data": {
      "text/plain": [
       "11"
      ]
     },
     "execution_count": 25,
     "metadata": {},
     "output_type": "execute_result"
    }
   ],
   "source": [
    "max_length = df['label'].astype(str).map(len).max()\n",
    "max_length"
   ]
  },
  {
   "cell_type": "markdown",
   "metadata": {},
   "source": [
    "# Define model"
   ]
  },
  {
   "cell_type": "code",
   "execution_count": 26,
   "metadata": {},
   "outputs": [],
   "source": [
    "class CNNNet(nn.Module):\n",
    "    def __init__(self):\n",
    "        super(CNNNet, self).__init__()\n",
    "        \n",
    "        self.conv1 = nn.Conv2d(1, 64, 3, padding=1)\n",
    "        self.conv2 = nn.Conv2d(64, 128, 3, padding=1)\n",
    "        self.conv3 = nn.Conv2d(128, 256, 3, padding=1)\n",
    "        self.norm1 = nn.BatchNorm2d(256)\n",
    "        self.conv4 = nn.Conv2d(256, 256, 3, padding=1)\n",
    "        self.conv5 = nn.Conv2d(256, 512, 3, padding=1)\n",
    "        self.norm2 = nn.BatchNorm2d(512)\n",
    "        self.conv6 = nn.Conv2d(512, 512, 3, padding=1)\n",
    "        self.conv7 = nn.Conv2d(512, 512, 3, padding=1)\n",
    "        self.norm3 = nn.BatchNorm2d(512)\n",
    "        \n",
    "    def forward(self, x):\n",
    "        x = F.relu(self.conv1(x))\n",
    "        x = F.max_pool2d(x, kernel_size=2)\n",
    "        x = F.relu(self.conv2(x))\n",
    "        x = F.max_pool2d(x, kernel_size=2)\n",
    "        x = self.norm1(F.relu(self.conv3(x)))\n",
    "        x = F.relu(self.conv4(x))\n",
    "        x = F.max_pool2d(x, kernel_size=2)\n",
    "        x = self.norm2(F.relu(self.conv5(x)))\n",
    "        x = F.relu(self.conv6(x))\n",
    "        x = F.max_pool2d(x, kernel_size=2)\n",
    "        x = self.norm3(F.relu(self.conv7(x)))\n",
    "        x = F.dropout2d(x)\n",
    "        \n",
    "        return x"
   ]
  },
  {
   "cell_type": "code",
   "execution_count": 61,
   "metadata": {},
   "outputs": [],
   "source": [
    "class EncoderRNN(nn.Module):\n",
    "    def __init__(self, input_size, batch_size, hidden_size, bidirectional=True):\n",
    "        super(EncoderRNN, self).__init__()\n",
    "        \n",
    "        self.bidirectional = bidirectional\n",
    "        self.input_size = input_size\n",
    "        self.hidden_size = hidden_size\n",
    "        self.batch_size = batch_size\n",
    "        \n",
    "        self.cnn = CNNNet()\n",
    "        self.lstm = nn.LSTM(input_size=input_size, hidden_size=hidden_size, bidirectional=bidirectional)    \n",
    "        \n",
    "    def init_hidden(self):\n",
    "        return (torch.zeros(1 + int(self.bidirectional), self.batch_size, self.hidden_size),\n",
    "                torch.zeros(1 + int(self.bidirectional), self.batch_size, self.hidden_size))\n",
    "    \n",
    "    def forward(self, x, hidden):\n",
    "        # x is an image, shape (batch_size, 1, 32, 48), TODO: currently, batchsize = 1\n",
    "#         pdb.set_trace()\n",
    "        x = self.cnn(x)\n",
    "#     torch.Size([3, 512, 2, 3])\n",
    "        x = torch.sum(x, dim=2) # merge two row by summing\n",
    "#     torch.Size([3, 512, 3])\n",
    "        x = x.permute(2, 0, 1)\n",
    "#     torch.Size([3, 3, 512])\n",
    "        output, hidden = self.lstm(x, hidden)\n",
    "        return output, hidden"
   ]
  },
  {
   "cell_type": "code",
   "execution_count": 62,
   "metadata": {},
   "outputs": [],
   "source": [
    "class AttnDecoderRNN(nn.Module):\n",
    "    def __init__(self, hidden_size, output_size, vocab_size):\n",
    "        super(AttnDecoderRNN, self).__init__()\n",
    "        \n",
    "        self.hidden_size = hidden_size\n",
    "        self.output_size = output_size\n",
    "        \n",
    "        self.attn = nn.Linear(hidden_size + output_size, 1)\n",
    "        self.lstm = nn.LSTM(hidden_size + vocab_size, output_size)\n",
    "        self.final = nn.Linear(output_size, vocab_size)\n",
    "        \n",
    "    def init_hidden(self):\n",
    "        return (torch.zeros(1,1,self.output_size),\n",
    "                torch.zeros(1,1,self.output_size))\n",
    "        \n",
    "    def forward(self, x, decoder_hidden, encoder_outputs):\n",
    "        weights = []\n",
    "        for i in range(len(encoder_outputs)):\n",
    "            print(s_t[0][0].shape)\n",
    "            print(h_i[0].shape)\n",
    "            weights.append(self.attn(torch.cat((decoder_hidden[0][0], \n",
    "                                              encoder_outputs[i]), dim = 1)))\n",
    "        normalized_weights = F.softmax(torch.cat(weights, 1), 1)\n",
    "\n",
    "        attn_applied = torch.bmm(normalized_weights.unsqueeze(1),\n",
    "                                 encoder_outputs.view(1, -1, self.hidden_size))\n",
    "\n",
    "        input_lstm = torch.cat((attn_applied[0], input[0]), dim = 1) #if we are using embedding, use embedding of input here instead\n",
    "\n",
    "        output, hidden = self.lstm(input_lstm.unsqueeze(0), decoder_hidden)\n",
    "\n",
    "        output = self.final(output[0])\n",
    "\n",
    "        return output, hidden, normalized_weights"
   ]
  },
  {
   "cell_type": "markdown",
   "metadata": {},
   "source": [
    "# Training"
   ]
  },
  {
   "cell_type": "code",
   "execution_count": 63,
   "metadata": {},
   "outputs": [],
   "source": [
    "batch_size = 8\n",
    "input_size = 512\n",
    "encoder_hidden_size = 256\n",
    "decoder_hidden_size = 512\n",
    "seq_lens = 256 # TODO: = max len of all sequencs in dataset\n",
    "vocab_size = len(label_encoder_decoder.alphabets)\n",
    "\n",
    "learning_rate = 0.01"
   ]
  },
  {
   "cell_type": "code",
   "execution_count": 64,
   "metadata": {},
   "outputs": [],
   "source": [
    "encoder = EncoderRNN(input_size, batch_size, encoder_hidden_size)\n",
    "decoder = AttnDecoderRNN(decoder_hidden_size, seq_lens, vocab_size)\n",
    "\n",
    "# encoder_optimizer = optim.Adam(encoder.parameters(), lr=learning_rate)\n",
    "# decoder_optimizer = optim.Adam(decoder.parameters(), lr=learning_rate)\n",
    "# criterion = nn.CrossEntropyLoss()"
   ]
  },
  {
   "cell_type": "code",
   "execution_count": 65,
   "metadata": {},
   "outputs": [
    {
     "data": {
      "text/plain": [
       "device(type='cpu')"
      ]
     },
     "execution_count": 65,
     "metadata": {},
     "output_type": "execute_result"
    }
   ],
   "source": [
    "device = 'cuda' if torch.cuda.is_available() else 'cpu'\n",
    "device = torch.device(device)\n",
    "device"
   ]
  },
  {
   "cell_type": "code",
   "execution_count": 66,
   "metadata": {},
   "outputs": [],
   "source": [
    "# def train(input_tensor, target_tensor, cnn, encoder, decoder, encoder_optim, decoder_optim, criterion, max_length):\n"
   ]
  },
  {
   "cell_type": "code",
   "execution_count": 67,
   "metadata": {},
   "outputs": [],
   "source": [
    "def batchize_labels(list_samples):\n",
    "    list_image_sample = [sample[0] for sample in list_samples]\n",
    "    list_label_sample = [torch.tensor(sample[1]) for sample in list_samples]\n",
    "    \n",
    "    batch_images = torch.stack(list_image_sample)\n",
    "    batch_labels = torch.nn.utils.rnn.pad_sequence(list_label_sample)\n",
    "    return batch_images, batch_labels"
   ]
  },
  {
   "cell_type": "code",
   "execution_count": 68,
   "metadata": {},
   "outputs": [],
   "source": [
    "train_loader = DataLoader(dataset, batch_size=batch_size, collate_fn=batchize_labels)"
   ]
  },
  {
   "cell_type": "code",
   "execution_count": 69,
   "metadata": {},
   "outputs": [],
   "source": [
    "loader_iter = iter(train_loader)"
   ]
  },
  {
   "cell_type": "code",
   "execution_count": 70,
   "metadata": {},
   "outputs": [
    {
     "name": "stdout",
     "output_type": "stream",
     "text": [
      "torch.Size([8, 1, 32, 48]) torch.Size([6, 8, 216])\n"
     ]
    }
   ],
   "source": [
    "batch_X, batch_y = next(loader_iter)\n",
    "print(batch_X.shape, batch_y.shape)"
   ]
  },
  {
   "cell_type": "code",
   "execution_count": null,
   "metadata": {},
   "outputs": [],
   "source": [
    "eacher_forcing_ratio = 0.5\n",
    "\n",
    "\n",
    "def train(input_tensor, target_tensor, encoder, decoder, encoder_optimizer, decoder_optimizer, criterion, max_length=MAX_LENGTH):\n",
    "    encoder_hidden = encoder.init_hidden()\n",
    "\n",
    "    encoder_optimizer.zero_grad()\n",
    "    decoder_optimizer.zero_grad()\n",
    "\n",
    "    input_length = input_tensor.size(0)\n",
    "    target_length = target_tensor.size(0)\n",
    "\n",
    "    encoder_outputs = torch.zeros(max_length, encoder.hidden_size, device=device)\n",
    "\n",
    "    loss = 0\n",
    "\n",
    "    for ei in range(input_length):\n",
    "        encoder_output, encoder_hidden = encoder(\n",
    "            input_tensor[ei], encoder_hidden)\n",
    "        encoder_outputs[ei] = encoder_output[0, 0]\n",
    "\n",
    "    decoder_input = torch.tensor([[SOS_token]], device=device)\n",
    "\n",
    "    decoder_hidden = encoder_hidden\n",
    "\n",
    "    use_teacher_forcing = True if random.random() < teacher_forcing_ratio else False\n",
    "\n",
    "    if use_teacher_forcing:\n",
    "        # Teacher forcing: Feed the target as the next input\n",
    "        for di in range(target_length):\n",
    "            decoder_output, decoder_hidden, decoder_attention = decoder(\n",
    "                decoder_input, decoder_hidden, encoder_outputs)\n",
    "            loss += criterion(decoder_output, target_tensor[di])\n",
    "            decoder_input = target_tensor[di]  # Teacher forcing\n",
    "\n",
    "    else:\n",
    "        # Without teacher forcing: use its own predictions as the next input\n",
    "        for di in range(target_length):\n",
    "            decoder_output, decoder_hidden, decoder_attention = decoder(\n",
    "                decoder_input, decoder_hidden, encoder_outputs)\n",
    "            topv, topi = decoder_output.topk(1)\n",
    "            decoder_input = topi.squeeze().detach()  # detach from history as input\n",
    "\n",
    "            loss += criterion(decoder_output, target_tensor[di])\n",
    "            if decoder_input.item() == EOS_token:\n",
    "                break\n",
    "\n",
    "    loss.backward()\n",
    "\n",
    "    encoder_optimizer.step()\n",
    "    decoder_optimizer.step()\n",
    "\n",
    "    return loss.item() / target_length"
   ]
  }
 ],
 "metadata": {
  "kernelspec": {
   "display_name": "Python 3",
   "language": "python",
   "name": "python3"
  },
  "language_info": {
   "codemirror_mode": {
    "name": "ipython",
    "version": 3
   },
   "file_extension": ".py",
   "mimetype": "text/x-python",
   "name": "python",
   "nbconvert_exporter": "python",
   "pygments_lexer": "ipython3",
   "version": "3.7.4"
  }
 },
 "nbformat": 4,
 "nbformat_minor": 4
}
