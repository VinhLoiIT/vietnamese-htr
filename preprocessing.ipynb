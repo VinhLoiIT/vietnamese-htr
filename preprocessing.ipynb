{
 "cells": [
  {
   "cell_type": "code",
   "execution_count": 22,
   "metadata": {},
   "outputs": [],
   "source": [
    "import matplotlib.pyplot as plt\n",
    "import numpy as np\n",
    "from PIL import Image, ImageOps\n",
    "from scipy.ndimage import interpolation as inter"
   ]
  },
  {
   "cell_type": "code",
   "execution_count": 30,
   "metadata": {},
   "outputs": [
    {
     "data": {
      "text/plain": [
       "<matplotlib.image.AxesImage at 0x7f71d06f3e10>"
      ]
     },
     "execution_count": 30,
     "metadata": {},
     "output_type": "execute_result"
    },
    {
     "data": {
      "image/png": "[encoded data removed]",
      "text/plain": [
       "<Figure size 432x288 with 1 Axes>"
      ]
     },
     "metadata": {
      "needs_background": "light"
     },
     "output_type": "display_data"
    }
   ],
   "source": [
    "input_file = 'data/VNOnDB/line/test_line/20151208_0146_7105_2_tg_0_7.png'\n",
    "input_file = 'data/VNOnDB/line/test_line/20151208_0146_7105_1_tg_2_7.png'\n",
    "\n",
    "img = Image.open(input_file).convert('L')\n",
    "\n",
    "bin_img = ImageOps.invert(img)\n",
    "plt.imshow(bin_img, cmap='gray')"
   ]
  },
  {
   "cell_type": "code",
   "execution_count": 20,
   "metadata": {},
   "outputs": [
    {
     "name": "stdout",
     "output_type": "stream",
     "text": [
      "Best angle: -3\n"
     ]
    },
    {
     "data": {
      "image/png": "[encoded data removed]",
      "text/plain": [
       "<Figure size 432x288 with 1 Axes>"
      ]
     },
     "metadata": {
      "needs_background": "light"
     },
     "output_type": "display_data"
    }
   ],
   "source": [
    "def find_score(arr, angle):\n",
    "    data = inter.rotate(arr, angle, reshape=False, order=0)\n",
    "    hist = np.sum(data, axis=1)\n",
    "    score = np.sum((hist[1:] - hist[:-1]) ** 2)\n",
    "    return hist, score\n",
    "\n",
    "\n",
    "delta = 1\n",
    "limit = 5\n",
    "angles = np.arange(-limit, limit+delta, delta)\n",
    "scores = []\n",
    "for angle in angles:\n",
    "    hist, score = find_score(bin_img, angle)\n",
    "    scores.append(score)\n",
    "\n",
    "best_score = max(scores)\n",
    "best_angle = angles[scores.index(best_score)]\n",
    "print('Best angle: {}'.format(best_angle))\n",
    "\n",
    "# correct skew\n",
    "data = inter.rotate(bin_img, best_angle, reshape=False, order=0)\n",
    "img = im.fromarray((255 * data).astype(\"uint8\")).convert(\"RGB\")\n",
    "plt.imshow(img)\n",
    "# img.save('skew_corrected.png')"
   ]
  }
 ],
 "metadata": {
  "kernelspec": {
   "display_name": "Python 3",
   "language": "python",
   "name": "python3"
  },
  "language_info": {
   "codemirror_mode": {
    "name": "ipython",
    "version": 3
   },
   "file_extension": ".py",
   "mimetype": "text/x-python",
   "name": "python",
   "nbconvert_exporter": "python",
   "pygments_lexer": "ipython3",
   "version": "3.6.9"
  }
 },
 "nbformat": 4,
 "nbformat_minor": 4
}
